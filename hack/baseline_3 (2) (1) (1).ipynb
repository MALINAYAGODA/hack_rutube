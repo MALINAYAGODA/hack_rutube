{
 "cells": [
  {
   "cell_type": "code",
   "execution_count": 1,
   "metadata": {
    "colab": {
     "base_uri": "https://localhost:8080/"
    },
    "id": "Z8SX3gv4aqFI",
    "outputId": "2963403c-7336-4e28-8061-86a289a0e698"
   },
   "outputs": [
    {
     "name": "stdout",
     "output_type": "stream",
     "text": [
      "Mounted at /content/drive\n"
     ]
    }
   ],
   "source": []
  },
  {
   "cell_type": "code",
   "execution_count": 2,
   "metadata": {
    "colab": {
     "base_uri": "https://localhost:8080/"
    },
    "id": "0Wbtns2qawYr",
    "outputId": "d09f706b-c5f6-4bfb-bd58-cf60e7dc7332",
    "tags": []
   },
   "outputs": [],
   "source": [
    "!pip install sentence_transformers faiss-cpu -q"
   ]
  },
  {
   "cell_type": "code",
   "execution_count": 3,
   "metadata": {
    "colab": {
     "base_uri": "https://localhost:8080/"
    },
    "id": "dzI8UhI3axQb",
    "outputId": "0ab3b3ec-8bf2-4a24-9d44-2245389afbbc",
    "tags": []
   },
   "outputs": [
    {
     "name": "stderr",
     "output_type": "stream",
     "text": [
      "/opt/conda/lib/python3.10/site-packages/sentence_transformers/cross_encoder/CrossEncoder.py:13: TqdmExperimentalWarning: Using `tqdm.autonotebook.tqdm` in notebook mode. Use `tqdm.tqdm` instead to force console mode (e.g. in jupyter console)\n",
      "  from tqdm.autonotebook import tqdm, trange\n"
     ]
    }
   ],
   "source": [
    "import pandas as pd\n",
    "from sentence_transformers import SentenceTransformer\n",
    "import json\n",
    "from tqdm.autonotebook import tqdm\n",
    "import numpy as np\n",
    "import faiss"
   ]
  },
  {
   "cell_type": "code",
   "execution_count": 4,
   "metadata": {
    "colab": {
     "base_uri": "https://localhost:8080/",
     "height": 293
    },
    "id": "31r1BZcnayQy",
    "outputId": "cf3f121d-e4b0-4664-abe5-1fa57fb6f014",
    "tags": []
   },
   "outputs": [
    {
     "data": {
      "text/html": [
       "<div>\n",
       "<style scoped>\n",
       "    .dataframe tbody tr th:only-of-type {\n",
       "        vertical-align: middle;\n",
       "    }\n",
       "\n",
       "    .dataframe tbody tr th {\n",
       "        vertical-align: top;\n",
       "    }\n",
       "\n",
       "    .dataframe thead th {\n",
       "        text-align: right;\n",
       "    }\n",
       "</style>\n",
       "<table border=\"1\" class=\"dataframe\">\n",
       "  <thead>\n",
       "    <tr style=\"text-align: right;\">\n",
       "      <th></th>\n",
       "      <th>video_id</th>\n",
       "      <th>title</th>\n",
       "      <th>description</th>\n",
       "      <th>tags</th>\n",
       "    </tr>\n",
       "  </thead>\n",
       "  <tbody>\n",
       "    <tr>\n",
       "      <th>0</th>\n",
       "      <td>9007f33c8347924ffa12f922da2a179d</td>\n",
       "      <td>Пацанский клининг. Шоу «ЧистоТачка» | Повелите...</td>\n",
       "      <td>Тяпа и Егор бросили вызов нестареющему «повели...</td>\n",
       "      <td>Массовая культура: Юмор и сатира</td>\n",
       "    </tr>\n",
       "    <tr>\n",
       "      <th>1</th>\n",
       "      <td>9012707c45233bd601dead57bc9e2eca</td>\n",
       "      <td>СarJitsu. 3 сезон, 6 серия. Нарек Симонян vs Ж...</td>\n",
       "      <td>CarJitsu — бои в формате POP MMA, где вместо р...</td>\n",
       "      <td>События и достопримечательности:  Спортивные с...</td>\n",
       "    </tr>\n",
       "    <tr>\n",
       "      <th>2</th>\n",
       "      <td>e01d6ebabbc27e323fa1b7c581e9b96a</td>\n",
       "      <td>Злые языки | Выпуск 1, Сезон 1 | Непорочность ...</td>\n",
       "      <td>Почему Дана Борисова предпочитает молчать о по...</td>\n",
       "      <td>Массовая культура: Отношения знаменитостей, Ма...</td>\n",
       "    </tr>\n",
       "    <tr>\n",
       "      <th>3</th>\n",
       "      <td>a00b145242be3ebc3b311455e94917af</td>\n",
       "      <td>$1000 шоу | 1 выпуск | Автобоулинг</td>\n",
       "      <td>В этом выпуске, популярный автоблогер Дима Гор...</td>\n",
       "      <td>Транспорт, Спорт: Автогонки, Массовая культура</td>\n",
       "    </tr>\n",
       "    <tr>\n",
       "      <th>4</th>\n",
       "      <td>b01a682bf4dfcc09f1e8fac5bc18785a</td>\n",
       "      <td>В РОТ МНЕ НОТЫ #1 ВИТА ЧИКОВАНИ</td>\n",
       "      <td>В первом выпуске «В рот мне ноты» популярная п...</td>\n",
       "      <td>Массовая культура: Юмор и сатира</td>\n",
       "    </tr>\n",
       "  </tbody>\n",
       "</table>\n",
       "</div>"
      ],
      "text/plain": [
       "                           video_id  \\\n",
       "0  9007f33c8347924ffa12f922da2a179d   \n",
       "1  9012707c45233bd601dead57bc9e2eca   \n",
       "2  e01d6ebabbc27e323fa1b7c581e9b96a   \n",
       "3  a00b145242be3ebc3b311455e94917af   \n",
       "4  b01a682bf4dfcc09f1e8fac5bc18785a   \n",
       "\n",
       "                                               title  \\\n",
       "0  Пацанский клининг. Шоу «ЧистоТачка» | Повелите...   \n",
       "1  СarJitsu. 3 сезон, 6 серия. Нарек Симонян vs Ж...   \n",
       "2  Злые языки | Выпуск 1, Сезон 1 | Непорочность ...   \n",
       "3                 $1000 шоу | 1 выпуск | Автобоулинг   \n",
       "4                    В РОТ МНЕ НОТЫ #1 ВИТА ЧИКОВАНИ   \n",
       "\n",
       "                                         description  \\\n",
       "0  Тяпа и Егор бросили вызов нестареющему «повели...   \n",
       "1  CarJitsu — бои в формате POP MMA, где вместо р...   \n",
       "2  Почему Дана Борисова предпочитает молчать о по...   \n",
       "3  В этом выпуске, популярный автоблогер Дима Гор...   \n",
       "4  В первом выпуске «В рот мне ноты» популярная п...   \n",
       "\n",
       "                                                tags  \n",
       "0                   Массовая культура: Юмор и сатира  \n",
       "1  События и достопримечательности:  Спортивные с...  \n",
       "2  Массовая культура: Отношения знаменитостей, Ма...  \n",
       "3     Транспорт, Спорт: Автогонки, Массовая культура  \n",
       "4                   Массовая культура: Юмор и сатира  "
      ]
     },
     "execution_count": 4,
     "metadata": {},
     "output_type": "execute_result"
    }
   ],
   "source": [
    "train_data_cat = pd.read_csv(\"/home/jovyan/lost+found/ma_folder/train_data_categories.csv\")\n",
    "train_data_cat.head(5)"
   ]
  },
  {
   "cell_type": "code",
   "execution_count": 5,
   "metadata": {
    "colab": {
     "base_uri": "https://localhost:8080/",
     "height": 206
    },
    "id": "sLWvhGkFa1lQ",
    "outputId": "11ba5aac-7748-4519-e9e3-a51bbe767e6a",
    "tags": []
   },
   "outputs": [
    {
     "data": {
      "text/html": [
       "<div>\n",
       "<style scoped>\n",
       "    .dataframe tbody tr th:only-of-type {\n",
       "        vertical-align: middle;\n",
       "    }\n",
       "\n",
       "    .dataframe tbody tr th {\n",
       "        vertical-align: top;\n",
       "    }\n",
       "\n",
       "    .dataframe thead th {\n",
       "        text-align: right;\n",
       "    }\n",
       "</style>\n",
       "<table border=\"1\" class=\"dataframe\">\n",
       "  <thead>\n",
       "    <tr style=\"text-align: right;\">\n",
       "      <th></th>\n",
       "      <th>Уровень 1 (iab)</th>\n",
       "      <th>Уровень 2 (iab)</th>\n",
       "      <th>Уровень 3 (iab)</th>\n",
       "    </tr>\n",
       "  </thead>\n",
       "  <tbody>\n",
       "    <tr>\n",
       "      <th>0</th>\n",
       "      <td>Транспорт</td>\n",
       "      <td>NaN</td>\n",
       "      <td>NaN</td>\n",
       "    </tr>\n",
       "    <tr>\n",
       "      <th>1</th>\n",
       "      <td>Транспорт</td>\n",
       "      <td>Типы кузова автомобиля</td>\n",
       "      <td>NaN</td>\n",
       "    </tr>\n",
       "    <tr>\n",
       "      <th>2</th>\n",
       "      <td>Транспорт</td>\n",
       "      <td>Типы кузова автомобиля</td>\n",
       "      <td>Грузовой автомобиль</td>\n",
       "    </tr>\n",
       "    <tr>\n",
       "      <th>3</th>\n",
       "      <td>Транспорт</td>\n",
       "      <td>Типы кузова автомобиля</td>\n",
       "      <td>Седан</td>\n",
       "    </tr>\n",
       "    <tr>\n",
       "      <th>4</th>\n",
       "      <td>Транспорт</td>\n",
       "      <td>Типы кузова автомобиля</td>\n",
       "      <td>Универсал</td>\n",
       "    </tr>\n",
       "  </tbody>\n",
       "</table>\n",
       "</div>"
      ],
      "text/plain": [
       "  Уровень 1 (iab)         Уровень 2 (iab)      Уровень 3 (iab)\n",
       "0       Транспорт                     NaN                  NaN\n",
       "1       Транспорт  Типы кузова автомобиля                  NaN\n",
       "2       Транспорт  Типы кузова автомобиля  Грузовой автомобиль\n",
       "3       Транспорт  Типы кузова автомобиля                Седан\n",
       "4       Транспорт  Типы кузова автомобиля            Универсал"
      ]
     },
     "execution_count": 5,
     "metadata": {},
     "output_type": "execute_result"
    }
   ],
   "source": [
    "IAB_tags = pd.read_csv(\"/home/jovyan/lost+found/ma_folder/IAB_tags.csv\")\n",
    "IAB_tags.head()"
   ]
  },
  {
   "cell_type": "code",
   "execution_count": 6,
   "metadata": {
    "id": "U_eTK2pecQkH",
    "tags": []
   },
   "outputs": [],
   "source": [
    "data = train_data_cat\n",
    "taxonomy = IAB_tags"
   ]
  },
  {
   "cell_type": "markdown",
   "metadata": {
    "id": "CMvqsUZUpGfO"
   },
   "source": [
    "#Baseline"
   ]
  },
  {
   "cell_type": "code",
   "execution_count": 7,
   "metadata": {
    "colab": {
     "base_uri": "https://localhost:8080/",
     "height": 353,
     "referenced_widgets": [
      "1355111749f445cd8197eacf9d0284ba",
      "b4fb3cf72aca417fa14e4ef4dcc0e21e",
      "06ce823847a14dee85539bae05c5540a",
      "f8364722922e40b1b02a6716b916e36a",
      "34f7dc9307ca4c7aa2685e61fcd09ff7",
      "1383b1d1b0cc4edf8fb4730d7acd6895",
      "b30feb517fd84039988625ed551e929a",
      "f6873b32a71f45c7b2d448b53db0731b",
      "907c21cf53f549d8968bbc50808765c9",
      "dbf286da5fbb420caf0cdfd6059a1c2d",
      "64c6c12bf12f415a9384bd2f4b8b1526",
      "86da3f60058444c0873986b8901835ec",
      "9762ea53b55549dab5a05e79cc143458",
      "c3b12a1611c24d4dbcbbc0de8ea85241",
      "8cd4253d9f1b491a961bbc3164de9116",
      "73a562c98dd947f2b32dddd9abc49921",
      "a1fe7e1bd2cb46ac88f4d4f30676b679",
      "c3e5a0355ede4bffb7053bc292f02e8b",
      "8fe56f077849476a9475d6c13b082251",
      "2a3ab44d58524823a074a243de74f6a8",
      "5b3c2bf5c2f94d808c8e770803c9fd1f",
      "68d0dcdbc25140f0b7ca050bc1f3cdb0",
      "a126800fd6724ca88a4e25c49a9f94a0",
      "4299e1237eed4c688fb6e9a0cf0ebe73",
      "d1ac09facdf64b38a1a2d0cafcba3bd4",
      "cada2780327d48e7b5666990099651f8",
      "34185fbed9e2435380b0580e1697d1aa",
      "6ca3d55dc2b34e849aec5a4f597d9014",
      "e90fb6c87ef84cc6a71f3590a54d559a",
      "3a3d979bd9284a80823605b76655fc83",
      "ef03380dcca84c28b606e0eed29780cc",
      "5f7ee828bc374596afa5107d8c8dbd06",
      "ab24572583364db5adb602cac8159ee4",
      "6c477496063d445f9ad474049c1dab47",
      "98b98cd22c1a4195a679228c7ca39608",
      "c37867a301b74db09175d090ff374405",
      "699a11be5a8748b5961e4aff5a226167",
      "726432d1a3a1423faa76011900cfb584",
      "79439c6f17194090ab26ddfcc2e47250",
      "c83769d10d1b428a8f1bf47f2b6b99c4",
      "812d9ce7f6914c81ad81445e98640f02",
      "22f5c3326b714de4820776b991e76891",
      "85ae441cbcf24ea3897cee20d5d55718",
      "154ffd154e1c47f98e72db979c61a203",
      "62fe69bef4814f789f19075a4eff5833",
      "61027e3208bb4509a764fdedcec321f9",
      "9ca3080a5ce046369d0bc4244cbe4930",
      "fea3caf8212142e48079e51e37bb7421",
      "46b3322f45f14147b767d79e82d163cf",
      "a1ef46a243cc4cc4b0ad6e4a6c1af761",
      "11c3a909327949fb95f32597b9d5aabd",
      "8ddaa35c21f04c68bd96bcc20aa3fc21",
      "957125ac32494564a64ad35705de117e",
      "0e11c2303b1149cd942e1fb4470f9939",
      "e457fd3e2c62456fb02ba1162867a1ca"
     ]
    },
    "id": "WFQDikn-a3t0",
    "outputId": "e6b4c80e-c56b-4e4c-b660-8e501642cea8",
    "tags": []
   },
   "outputs": [
    {
     "name": "stderr",
     "output_type": "stream",
     "text": [
      "No sentence-transformers model found with name DeepPavlov/rubert-base-cased-sentence. Creating a new one with mean pooling.\n"
     ]
    },
    {
     "data": {
      "application/vnd.jupyter.widget-view+json": {
       "model_id": "87dde7ff94134db694197ab02be3d217",
       "version_major": 2,
       "version_minor": 0
      },
      "text/plain": [
       "config.json:   0%|          | 0.00/642 [00:00<?, ?B/s]"
      ]
     },
     "metadata": {},
     "output_type": "display_data"
    },
    {
     "data": {
      "application/vnd.jupyter.widget-view+json": {
       "model_id": "3fe9dc59f3b442b1bb3dc678e9019e46",
       "version_major": 2,
       "version_minor": 0
      },
      "text/plain": [
       "pytorch_model.bin:   0%|          | 0.00/711M [00:00<?, ?B/s]"
      ]
     },
     "metadata": {},
     "output_type": "display_data"
    },
    {
     "data": {
      "application/vnd.jupyter.widget-view+json": {
       "model_id": "5096b2c23a83489cb4c1e286bb755937",
       "version_major": 2,
       "version_minor": 0
      },
      "text/plain": [
       "tokenizer_config.json:   0%|          | 0.00/24.0 [00:00<?, ?B/s]"
      ]
     },
     "metadata": {},
     "output_type": "display_data"
    },
    {
     "data": {
      "application/vnd.jupyter.widget-view+json": {
       "model_id": "4751a13ab7ab4131a8fab3e2a5545a21",
       "version_major": 2,
       "version_minor": 0
      },
      "text/plain": [
       "vocab.txt:   0%|          | 0.00/1.65M [00:00<?, ?B/s]"
      ]
     },
     "metadata": {},
     "output_type": "display_data"
    },
    {
     "data": {
      "application/vnd.jupyter.widget-view+json": {
       "model_id": "173c4af1b66040918c6c85569dd8f7c0",
       "version_major": 2,
       "version_minor": 0
      },
      "text/plain": [
       "special_tokens_map.json:   0%|          | 0.00/112 [00:00<?, ?B/s]"
      ]
     },
     "metadata": {},
     "output_type": "display_data"
    }
   ],
   "source": [
    "model = SentenceTransformer('DeepPavlov/rubert-base-cased-sentence', )\n",
    "model = model.to('cuda')\n",
    "dim = 768 # размер вектора эмбеддинга"
   ]
  },
  {
   "cell_type": "code",
   "execution_count": 9,
   "metadata": {
    "colab": {
     "base_uri": "https://localhost:8080/",
     "height": 304
    },
    "execution": {
     "iopub.execute_input": "2024-09-28T11:29:21.785175Z",
     "iopub.status.busy": "2024-09-28T11:29:21.784629Z",
     "iopub.status.idle": "2024-09-28T11:29:27.607080Z",
     "shell.execute_reply": "2024-09-28T11:29:27.606263Z",
     "shell.execute_reply.started": "2024-09-28T11:29:21.785155Z"
    },
    "id": "o_DDNbd-a5I4",
    "outputId": "600c71c5-7236-43e4-8f80-381fd5c54e8d",
    "tags": []
   },
   "outputs": [],
   "source": [
    "data['title_vector'] = data['title'].apply(lambda l: model.encode(l, convert_to_tensor=True).cpu().numpy())"
   ]
  },
  {
   "cell_type": "code",
   "execution_count": null,
   "metadata": {
    "colab": {
     "base_uri": "https://localhost:8080/",
     "height": 49,
     "referenced_widgets": [
      "54dd038f798047a09884e518967293c2",
      "f70f225aac4a44e3a2bb5c650a14b928",
      "f2db12f32919480c8726b7622ea83bfd",
      "299e912a1b9f4ce682c3b0858d13c94d",
      "0535a7f7e5674da19dd444c2edff066d",
      "632b0b3267ad420392f5123606c94837",
      "fd9526cfd404463db782196ad0070dc5",
      "1640b41100af4542a2cb009e4b03c1fd",
      "06effad6600440abb16aced46ec9b2cf",
      "3eda071721cc4f958f86a58de0439009",
      "680e02bf323140a9bfe9e661e647b7e3"
     ]
    },
    "id": "POdFDUdda6tf",
    "outputId": "b3728354-00ad-4c59-f63f-0f6c4490dce8"
   },
   "outputs": [
    {
     "data": {
      "application/vnd.jupyter.widget-view+json": {
       "model_id": "54dd038f798047a09884e518967293c2",
       "version_major": 2,
       "version_minor": 0
      },
      "text/plain": [
       "0it [00:00, ?it/s]"
      ]
     },
     "metadata": {},
     "output_type": "display_data"
    }
   ],
   "source": [
    "def get_tags():\n",
    "    tags = {}\n",
    "    for i, row in tqdm(taxonomy.iterrows()):\n",
    "        if isinstance(row['Уровень 1 (iab)'], str):\n",
    "            tags[row['Уровень 1 (iab)']] = model.encode(row['Уровень 1 (iab)'], convert_to_tensor=True).cpu().numpy()#.tolist()\n",
    "        if isinstance(row['Уровень 2 (iab)'], str):\n",
    "            tags[row['Уровень 1 (iab)']+ \": \"+row['Уровень 2 (iab)']] = model.encode(row['Уровень 1 (iab)']+ \": \"+row['Уровень 2 (iab)'], convert_to_tensor=True).cpu().numpy()#.tolist()\n",
    "        if isinstance(row['Уровень 3 (iab)'], str):\n",
    "            tags[row['Уровень 1 (iab)']+ \": \"+row['Уровень 2 (iab)']+\": \"+row['Уровень 3 (iab)']] = model.encode(row['Уровень 1 (iab)']+ \": \"+row['Уровень 2 (iab)']+\": \"+row['Уровень 3 (iab)'], convert_to_tensor=True).cpu().numpy()#.tolist()\n",
    "    return tags\n",
    "\n",
    "tags = get_tags()\n",
    "tags_list = list(tags.keys())\n",
    "vectors = np.array(list(tags.values()))"
   ]
  },
  {
   "cell_type": "code",
   "execution_count": null,
   "metadata": {
    "colab": {
     "base_uri": "https://localhost:8080/"
    },
    "id": "noM4dGgoa_MI",
    "outputId": "2e231715-3da0-4124-d603-e96d011f69f2"
   },
   "outputs": [
    {
     "name": "stdout",
     "output_type": "stream",
     "text": [
      "0\n",
      "610\n"
     ]
    }
   ],
   "source": [
    "index = faiss.index_factory(dim, \"Flat\", faiss.METRIC_INNER_PRODUCT)\n",
    "print(index.ntotal)\n",
    "index.add(vectors)\n",
    "print(index.ntotal)"
   ]
  },
  {
   "cell_type": "code",
   "execution_count": null,
   "metadata": {
    "colab": {
     "base_uri": "https://localhost:8080/"
    },
    "id": "ITMi0DeRbA9U",
    "outputId": "47594052-87e4-4781-fc09-2a68df88aa33"
   },
   "outputs": [
    {
     "name": "stdout",
     "output_type": "stream",
     "text": [
      "SCORES [280.28256 268.94186 264.77997]\n",
      "PREDICTION_by_title ['Семья и отношения: Развод' 'Массовая культура: Смерти знаменитостей'\n",
      " 'Массовая культура: Скандалы знаменитостей']\n",
      "SAMPLE Пацанский клининг. Шоу «ЧистоТачка» | Повелитель ночи | Выпуск 17\n",
      "\n",
      "\n",
      "SCORES [248.28539 242.65976 241.96158]\n",
      "PREDICTION_by_title ['Массовая культура: Скандалы знаменитостей' 'Игры: Киберспорт'\n",
      " 'Спорт: Дартс']\n",
      "SAMPLE СarJitsu. 3 сезон, 6 серия. Нарек Симонян vs Жека Секси\n",
      "\n",
      "\n",
      "SCORES [291.92664 287.78052 280.69467]\n",
      "PREDICTION_by_title ['Семья и отношения: Развод'\n",
      " 'Медицина: Медицинские направления: Простуда и грипп'\n",
      " 'Новости и политика: Политика: Война и конфликты']\n",
      "SAMPLE Злые языки | Выпуск 1, Сезон 1 | Непорочность Даны Борисовой\n",
      "\n",
      "\n",
      "SCORES [247.24626 243.45216 236.21658]\n",
      "PREDICTION_by_title ['Музыка и аудио: Мировые хиты'\n",
      " 'События и достопримечательности: Личные события: День рождения'\n",
      " 'Массовая культура: Скандалы знаменитостей']\n",
      "SAMPLE $1000 шоу | 1 выпуск | Автобоулинг\n",
      "\n",
      "\n",
      "SCORES [276.93286 271.74152 269.93735]\n",
      "PREDICTION_by_title ['Спорт: Спортивное оборудование' 'Личные финансы: Страхование'\n",
      " 'Медицина: Фармацевтические препараты']\n",
      "SAMPLE В РОТ МНЕ НОТЫ #1 ВИТА ЧИКОВАНИ\n",
      "\n",
      "\n",
      "SCORES [304.03162 250.46732 240.57112]\n",
      "PREDICTION_by_title ['Стиль и красота: Высокая мода' 'Животные: Крупные животные'\n",
      " 'Образование: Высшее образование']\n",
      "SAMPLE Смешная история | Выпуск 3\n",
      "\n",
      "\n",
      "SCORES [286.3088  282.53616 280.7779 ]\n",
      "PREDICTION_by_title ['Медицина: Медицинские направления: Сексология'\n",
      " 'Образование: Высшее образование: Аспирантура и магистратура'\n",
      " 'Медицина: Медицинские направления: Психиатрия']\n",
      "SAMPLE Женсовет I Выпуск 6 I Мужчина в новой феминистической реальности I В гостях психолог Алёна Романова.\n",
      "\n",
      "\n",
      "SCORES [298.30527 296.33203 294.7121 ]\n",
      "PREDICTION_by_title ['Личные финансы: Страхование: Страхование жизни'\n",
      " 'Личные финансы: Страхование'\n",
      " 'Личные финансы: Страхование: Страхование путешествий']\n",
      "SAMPLE Осторожно, мошенники! Онлайн экстрасенс\n",
      "\n",
      "\n",
      "SCORES [249.85034 248.163   245.6184 ]\n",
      "PREDICTION_by_title ['События и достопримечательности: События мира моды'\n",
      " 'Спорт: Олимпийские виды спорта: Зимние олимпийские виды спорта'\n",
      " 'Фильмы и анимация: Мировой кинематограф']\n",
      "SAMPLE Kuzov Studio в ГрандТуре «Байкальская миля 2021». Омск\n",
      "\n",
      "\n",
      "SCORES [241.99702 238.9707  232.90735]\n",
      "PREDICTION_by_title ['Карьера: Профессиональная подготовка' 'Образование: Домашние задания'\n",
      " 'Образование: Домашнее обучение']\n",
      "SAMPLE Салют, Начальник | 7 серия\n",
      "\n",
      "\n"
     ]
    }
   ],
   "source": [
    "topn = 3\n",
    "scores, predictions = index.search(np.array(data['title_vector'].to_list()[:10]), topn)\n",
    "for j, i in enumerate(predictions):\n",
    "    print(\"SCORES\", scores[j])\n",
    "    print(\"PREDICTION_by_title\", np.array(tags_list)[predictions[j]])\n",
    "    print(\"SAMPLE\", data['title'].to_list()[:10][j])\n",
    "    print(\"\\n\")"
   ]
  },
  {
   "cell_type": "code",
   "execution_count": null,
   "metadata": {
    "id": "-zvEN3i8bC8t"
   },
   "outputs": [],
   "source": [
    "topn=1\n",
    "sample_submission = pd.DataFrame(data=data['video_id'].to_list(), columns=['video_id'])\n",
    "sample_submission['predicted_tags']=np.nan\n",
    "sample_submission['predicted_tags'] = sample_submission['predicted_tags'].astype('object')\n",
    "\n",
    "for i, row in data.iterrows():\n",
    "    scores, predictions = index.search(np.array([row['title_vector']]), topn)\n",
    "    index_i = sample_submission[sample_submission.video_id == row.video_id].index\n",
    "    sample_submission.at[index_i[0], 'predicted_tags'] = [tags_list[predictions[0][0]]] # вытаскиваем предсказание из"
   ]
  },
  {
   "cell_type": "code",
   "execution_count": null,
   "metadata": {
    "colab": {
     "base_uri": "https://localhost:8080/"
    },
    "id": "DRfgukJqbEzZ",
    "outputId": "158da8d3-4bc4-43d1-f48f-5a3ed5680c9d"
   },
   "outputs": [
    {
     "data": {
      "text/plain": [
       "list"
      ]
     },
     "execution_count": 13,
     "metadata": {},
     "output_type": "execute_result"
    }
   ],
   "source": [
    "type(sample_submission['predicted_tags'].to_list()[0])"
   ]
  },
  {
   "cell_type": "code",
   "execution_count": null,
   "metadata": {
    "colab": {
     "base_uri": "https://localhost:8080/",
     "height": 241
    },
    "id": "CPzjrsTBtujo",
    "outputId": "e30c7f86-69dc-4869-cf3d-b1ef35937bb7"
   },
   "outputs": [
    {
     "data": {
      "text/html": [
       "<div>\n",
       "<style scoped>\n",
       "    .dataframe tbody tr th:only-of-type {\n",
       "        vertical-align: middle;\n",
       "    }\n",
       "\n",
       "    .dataframe tbody tr th {\n",
       "        vertical-align: top;\n",
       "    }\n",
       "\n",
       "    .dataframe thead th {\n",
       "        text-align: right;\n",
       "    }\n",
       "</style>\n",
       "<table border=\"1\" class=\"dataframe\">\n",
       "  <thead>\n",
       "    <tr style=\"text-align: right;\">\n",
       "      <th></th>\n",
       "      <th>tags</th>\n",
       "    </tr>\n",
       "  </thead>\n",
       "  <tbody>\n",
       "    <tr>\n",
       "      <th>0</th>\n",
       "      <td>Массовая культура: Юмор и сатира</td>\n",
       "    </tr>\n",
       "    <tr>\n",
       "      <th>1</th>\n",
       "      <td>События и достопримечательности:  Спортивные с...</td>\n",
       "    </tr>\n",
       "    <tr>\n",
       "      <th>2</th>\n",
       "      <td>Массовая культура: Отношения знаменитостей, Ма...</td>\n",
       "    </tr>\n",
       "    <tr>\n",
       "      <th>3</th>\n",
       "      <td>Транспорт, Спорт: Автогонки, Массовая культура</td>\n",
       "    </tr>\n",
       "    <tr>\n",
       "      <th>4</th>\n",
       "      <td>Массовая культура: Юмор и сатира</td>\n",
       "    </tr>\n",
       "  </tbody>\n",
       "</table>\n",
       "</div><br><label><b>dtype:</b> object</label>"
      ],
      "text/plain": [
       "0                     Массовая культура: Юмор и сатира\n",
       "1    События и достопримечательности:  Спортивные с...\n",
       "2    Массовая культура: Отношения знаменитостей, Ма...\n",
       "3       Транспорт, Спорт: Автогонки, Массовая культура\n",
       "4                     Массовая культура: Юмор и сатира\n",
       "Name: tags, dtype: object"
      ]
     },
     "execution_count": 14,
     "metadata": {},
     "output_type": "execute_result"
    }
   ],
   "source": [
    "data.tags.head()"
   ]
  },
  {
   "cell_type": "code",
   "execution_count": null,
   "metadata": {
    "colab": {
     "base_uri": "https://localhost:8080/",
     "height": 241
    },
    "id": "wz-xi8rRtunj",
    "outputId": "60139027-cf1b-4c74-de72-fe8d14be7dd4"
   },
   "outputs": [
    {
     "data": {
      "text/html": [
       "<div>\n",
       "<style scoped>\n",
       "    .dataframe tbody tr th:only-of-type {\n",
       "        vertical-align: middle;\n",
       "    }\n",
       "\n",
       "    .dataframe tbody tr th {\n",
       "        vertical-align: top;\n",
       "    }\n",
       "\n",
       "    .dataframe thead th {\n",
       "        text-align: right;\n",
       "    }\n",
       "</style>\n",
       "<table border=\"1\" class=\"dataframe\">\n",
       "  <thead>\n",
       "    <tr style=\"text-align: right;\">\n",
       "      <th></th>\n",
       "      <th>predicted_tags</th>\n",
       "    </tr>\n",
       "  </thead>\n",
       "  <tbody>\n",
       "    <tr>\n",
       "      <th>0</th>\n",
       "      <td>[Семья и отношения: Развод]</td>\n",
       "    </tr>\n",
       "    <tr>\n",
       "      <th>1</th>\n",
       "      <td>[Массовая культура: Скандалы знаменитостей]</td>\n",
       "    </tr>\n",
       "    <tr>\n",
       "      <th>2</th>\n",
       "      <td>[Семья и отношения: Развод]</td>\n",
       "    </tr>\n",
       "    <tr>\n",
       "      <th>3</th>\n",
       "      <td>[Музыка и аудио: Мировые хиты]</td>\n",
       "    </tr>\n",
       "    <tr>\n",
       "      <th>4</th>\n",
       "      <td>[Спорт: Спортивное оборудование]</td>\n",
       "    </tr>\n",
       "  </tbody>\n",
       "</table>\n",
       "</div><br><label><b>dtype:</b> object</label>"
      ],
      "text/plain": [
       "0                    [Семья и отношения: Развод]\n",
       "1    [Массовая культура: Скандалы знаменитостей]\n",
       "2                    [Семья и отношения: Развод]\n",
       "3                 [Музыка и аудио: Мировые хиты]\n",
       "4               [Спорт: Спортивное оборудование]\n",
       "Name: predicted_tags, dtype: object"
      ]
     },
     "execution_count": 15,
     "metadata": {},
     "output_type": "execute_result"
    }
   ],
   "source": [
    "sample_submission.predicted_tags.head()"
   ]
  },
  {
   "cell_type": "code",
   "execution_count": null,
   "metadata": {
    "id": "lk34h0-RbF6_"
   },
   "outputs": [],
   "source": [
    "def IoU(st_real, st_pred):\n",
    "    st_real = set(st_real.split(\", \"))\n",
    "    st_pred = set(st_pred.split(\", \"))\n",
    "\n",
    "    up_value = st_real & st_pred\n",
    "    down_value = st_real | st_pred\n",
    "\n",
    "    return len(up_value) / len(down_value)"
   ]
  },
  {
   "cell_type": "code",
   "execution_count": null,
   "metadata": {
    "colab": {
     "base_uri": "https://localhost:8080/"
    },
    "id": "j5SCE23YbHR6",
    "outputId": "619e7c23-f21e-4540-9676-e2b115df35df"
   },
   "outputs": [
    {
     "name": "stdout",
     "output_type": "stream",
     "text": [
      "nan\n",
      "Семья и отношения: Смерть родственников\n",
      "---\n",
      "0.020833333333333332\n"
     ]
    }
   ],
   "source": [
    "res = 0\n",
    "k_mines = 0\n",
    "for i in range(data.shape[0]):\n",
    "    real = data.iloc[i, 3]\n",
    "    pred = sample_submission.iloc[i, 1][0]\n",
    "    try:\n",
    "      out = IoU(real, pred)\n",
    "    except:\n",
    "      print(real)\n",
    "      print(pred)\n",
    "      print(\"---\")\n",
    "      k_mines += 1\n",
    "      out = 0\n",
    "    res += out\n",
    "\n",
    "print(res / (data.shape[0] - k_mines))"
   ]
  },
  {
   "cell_type": "code",
   "execution_count": null,
   "metadata": {
    "colab": {
     "base_uri": "https://localhost:8080/"
    },
    "id": "xbUUizNkwXPV",
    "outputId": "a07132bc-417a-4532-8405-99a1c6fa1368"
   },
   "outputs": [
    {
     "data": {
      "text/plain": [
       "0.012722646310432571"
      ]
     },
     "execution_count": 18,
     "metadata": {},
     "output_type": "execute_result"
    }
   ],
   "source": [
    "0.012722646310432571"
   ]
  },
  {
   "cell_type": "code",
   "execution_count": null,
   "metadata": {
    "id": "ebEbZwDqbIlt"
   },
   "outputs": [],
   "source": [
    "sample_submission.to_csv(\"sample_submission.csv\", index_label=0)"
   ]
  },
  {
   "cell_type": "markdown",
   "metadata": {
    "id": "fdznVbSx-QJi"
   },
   "source": [
    "# Second_part"
   ]
  },
  {
   "cell_type": "markdown",
   "metadata": {
    "id": "FPa8HdpXpZlM"
   },
   "source": [
    "Посмотрим на tag 1 уровня\n"
   ]
  },
  {
   "cell_type": "code",
   "execution_count": 223,
   "metadata": {
    "colab": {
     "base_uri": "https://localhost:8080/",
     "height": 293
    },
    "id": "ztokiBzybJ5K",
    "outputId": "c21f72a7-c3b7-4e77-b749-85fdbc3e4aa5",
    "tags": []
   },
   "outputs": [
    {
     "data": {
      "text/html": [
       "<div>\n",
       "<style scoped>\n",
       "    .dataframe tbody tr th:only-of-type {\n",
       "        vertical-align: middle;\n",
       "    }\n",
       "\n",
       "    .dataframe tbody tr th {\n",
       "        vertical-align: top;\n",
       "    }\n",
       "\n",
       "    .dataframe thead th {\n",
       "        text-align: right;\n",
       "    }\n",
       "</style>\n",
       "<table border=\"1\" class=\"dataframe\">\n",
       "  <thead>\n",
       "    <tr style=\"text-align: right;\">\n",
       "      <th></th>\n",
       "      <th>video_id</th>\n",
       "      <th>title</th>\n",
       "      <th>description</th>\n",
       "      <th>tags</th>\n",
       "    </tr>\n",
       "  </thead>\n",
       "  <tbody>\n",
       "    <tr>\n",
       "      <th>0</th>\n",
       "      <td>9007f33c8347924ffa12f922da2a179d</td>\n",
       "      <td>Пацанский клининг. Шоу «ЧистоТачка» | Повелите...</td>\n",
       "      <td>Тяпа и Егор бросили вызов нестареющему «повели...</td>\n",
       "      <td>Массовая культура: Юмор и сатира</td>\n",
       "    </tr>\n",
       "    <tr>\n",
       "      <th>1</th>\n",
       "      <td>9012707c45233bd601dead57bc9e2eca</td>\n",
       "      <td>СarJitsu. 3 сезон, 6 серия. Нарек Симонян vs Ж...</td>\n",
       "      <td>CarJitsu — бои в формате POP MMA, где вместо р...</td>\n",
       "      <td>События и достопримечательности:  Спортивные с...</td>\n",
       "    </tr>\n",
       "    <tr>\n",
       "      <th>2</th>\n",
       "      <td>e01d6ebabbc27e323fa1b7c581e9b96a</td>\n",
       "      <td>Злые языки | Выпуск 1, Сезон 1 | Непорочность ...</td>\n",
       "      <td>Почему Дана Борисова предпочитает молчать о по...</td>\n",
       "      <td>Массовая культура: Отношения знаменитостей, Ма...</td>\n",
       "    </tr>\n",
       "    <tr>\n",
       "      <th>3</th>\n",
       "      <td>a00b145242be3ebc3b311455e94917af</td>\n",
       "      <td>$1000 шоу | 1 выпуск | Автобоулинг</td>\n",
       "      <td>В этом выпуске, популярный автоблогер Дима Гор...</td>\n",
       "      <td>Транспорт, Спорт: Автогонки, Массовая культура</td>\n",
       "    </tr>\n",
       "    <tr>\n",
       "      <th>4</th>\n",
       "      <td>b01a682bf4dfcc09f1e8fac5bc18785a</td>\n",
       "      <td>В РОТ МНЕ НОТЫ #1 ВИТА ЧИКОВАНИ</td>\n",
       "      <td>В первом выпуске «В рот мне ноты» популярная п...</td>\n",
       "      <td>Массовая культура: Юмор и сатира</td>\n",
       "    </tr>\n",
       "  </tbody>\n",
       "</table>\n",
       "</div>"
      ],
      "text/plain": [
       "                           video_id  \\\n",
       "0  9007f33c8347924ffa12f922da2a179d   \n",
       "1  9012707c45233bd601dead57bc9e2eca   \n",
       "2  e01d6ebabbc27e323fa1b7c581e9b96a   \n",
       "3  a00b145242be3ebc3b311455e94917af   \n",
       "4  b01a682bf4dfcc09f1e8fac5bc18785a   \n",
       "\n",
       "                                               title  \\\n",
       "0  Пацанский клининг. Шоу «ЧистоТачка» | Повелите...   \n",
       "1  СarJitsu. 3 сезон, 6 серия. Нарек Симонян vs Ж...   \n",
       "2  Злые языки | Выпуск 1, Сезон 1 | Непорочность ...   \n",
       "3                 $1000 шоу | 1 выпуск | Автобоулинг   \n",
       "4                    В РОТ МНЕ НОТЫ #1 ВИТА ЧИКОВАНИ   \n",
       "\n",
       "                                         description  \\\n",
       "0  Тяпа и Егор бросили вызов нестареющему «повели...   \n",
       "1  CarJitsu — бои в формате POP MMA, где вместо р...   \n",
       "2  Почему Дана Борисова предпочитает молчать о по...   \n",
       "3  В этом выпуске, популярный автоблогер Дима Гор...   \n",
       "4  В первом выпуске «В рот мне ноты» популярная п...   \n",
       "\n",
       "                                                tags  \n",
       "0                   Массовая культура: Юмор и сатира  \n",
       "1  События и достопримечательности:  Спортивные с...  \n",
       "2  Массовая культура: Отношения знаменитостей, Ма...  \n",
       "3     Транспорт, Спорт: Автогонки, Массовая культура  \n",
       "4                   Массовая культура: Юмор и сатира  "
      ]
     },
     "execution_count": 223,
     "metadata": {},
     "output_type": "execute_result"
    }
   ],
   "source": [
    "train_data_cat.head()"
   ]
  },
  {
   "cell_type": "code",
   "execution_count": 224,
   "metadata": {
    "colab": {
     "base_uri": "https://localhost:8080/"
    },
    "id": "Yi8hgYraAqnd",
    "outputId": "cc7a38ea-0f50-4028-9953-84f9c843f232",
    "tags": []
   },
   "outputs": [
    {
     "name": "stdout",
     "output_type": "stream",
     "text": [
      "(1048, 4)\n",
      "(1048, 4)\n"
     ]
    }
   ],
   "source": [
    "print(train_data_cat.shape)\n",
    "template = [(isinstance(i, str)) for i in  train_data_cat[\"tags\"].tolist()]\n",
    "train_data_cat = train_data_cat[template]\n",
    "print(train_data_cat.shape)"
   ]
  },
  {
   "cell_type": "code",
   "execution_count": 225,
   "metadata": {
    "colab": {
     "base_uri": "https://localhost:8080/",
     "height": 206
    },
    "id": "IXA-haFh-bjE",
    "outputId": "7980aadd-11df-4108-c997-f0ba9d748d65",
    "tags": []
   },
   "outputs": [
    {
     "data": {
      "text/html": [
       "<div>\n",
       "<style scoped>\n",
       "    .dataframe tbody tr th:only-of-type {\n",
       "        vertical-align: middle;\n",
       "    }\n",
       "\n",
       "    .dataframe tbody tr th {\n",
       "        vertical-align: top;\n",
       "    }\n",
       "\n",
       "    .dataframe thead th {\n",
       "        text-align: right;\n",
       "    }\n",
       "</style>\n",
       "<table border=\"1\" class=\"dataframe\">\n",
       "  <thead>\n",
       "    <tr style=\"text-align: right;\">\n",
       "      <th></th>\n",
       "      <th>title_discription</th>\n",
       "      <th>tag_list</th>\n",
       "    </tr>\n",
       "  </thead>\n",
       "  <tbody>\n",
       "    <tr>\n",
       "      <th>0</th>\n",
       "      <td>Пацанский клининг. Шоу «ЧистоТачка» | Повелите...</td>\n",
       "      <td>Массовая культура</td>\n",
       "    </tr>\n",
       "    <tr>\n",
       "      <th>1</th>\n",
       "      <td>СarJitsu. 3 сезон, 6 серия. Нарек Симонян vs Ж...</td>\n",
       "      <td>События и достопримечательности</td>\n",
       "    </tr>\n",
       "    <tr>\n",
       "      <th>2</th>\n",
       "      <td>СarJitsu. 3 сезон, 6 серия. Нарек Симонян vs Ж...</td>\n",
       "      <td>Массовая культура</td>\n",
       "    </tr>\n",
       "    <tr>\n",
       "      <th>3</th>\n",
       "      <td>Злые языки | Выпуск 1, Сезон 1 | Непорочность ...</td>\n",
       "      <td>Массовая культура</td>\n",
       "    </tr>\n",
       "    <tr>\n",
       "      <th>4</th>\n",
       "      <td>Злые языки | Выпуск 1, Сезон 1 | Непорочность ...</td>\n",
       "      <td>Массовая культура</td>\n",
       "    </tr>\n",
       "  </tbody>\n",
       "</table>\n",
       "</div>"
      ],
      "text/plain": [
       "                                   title_discription  \\\n",
       "0  Пацанский клининг. Шоу «ЧистоТачка» | Повелите...   \n",
       "1  СarJitsu. 3 сезон, 6 серия. Нарек Симонян vs Ж...   \n",
       "2  СarJitsu. 3 сезон, 6 серия. Нарек Симонян vs Ж...   \n",
       "3  Злые языки | Выпуск 1, Сезон 1 | Непорочность ...   \n",
       "4  Злые языки | Выпуск 1, Сезон 1 | Непорочность ...   \n",
       "\n",
       "                          tag_list  \n",
       "0                Массовая культура  \n",
       "1  События и достопримечательности  \n",
       "2                Массовая культура  \n",
       "3                Массовая культура  \n",
       "4                Массовая культура  "
      ]
     },
     "execution_count": 225,
     "metadata": {},
     "output_type": "execute_result"
    }
   ],
   "source": [
    "title_discription = []\n",
    "tag_list = []\n",
    "\n",
    "for i in train_data_cat.iterrows():\n",
    "  tags = i[1].tags.split(\", \")\n",
    "  title = i[1].title\n",
    "  description = i[1].description\n",
    "  for j in range(len(tags)):\n",
    "    tags[j] = tags[j].split(\":\")[0].strip()\n",
    "    tags[j] = tags[j].split(\"\\t\")[0].strip()\n",
    "    title_discription.append(title+\". \"+description)\n",
    "    tag_list.append(tags[j])\n",
    "\n",
    "df_work = pd.DataFrame({\"title_discription\": title_discription, \"tag_list\": tag_list})\n",
    "df_work.head()"
   ]
  },
  {
   "cell_type": "code",
   "execution_count": 226,
   "metadata": {
    "colab": {
     "base_uri": "https://localhost:8080/",
     "height": 1000
    },
    "id": "Hi4GDSfe-tm9",
    "outputId": "9f5c0280-6ae4-479a-bb51-57cd103280c6",
    "tags": []
   },
   "outputs": [
    {
     "data": {
      "text/plain": [
       "tag_list\n",
       "Массовая культура                   559\n",
       "События и достопримечательности     131\n",
       "Спорт                               109\n",
       "Карьера                             104\n",
       "Религия и духовность                 78\n",
       "Еда и напитки                        76\n",
       "Путешествия                          74\n",
       "Музыка и аудио                       66\n",
       "Хобби и интересы                     59\n",
       "Транспорт                            58\n",
       "Семья и отношения                    50\n",
       "Фильмы и анимация                    34\n",
       "Дом и сад                            28\n",
       "Наука                                23\n",
       "Личные финансы                       19\n",
       "Изобразительное искусство            18\n",
       "Стиль и красота                      17\n",
       "Образование                          16\n",
       "Новости и политика                   11\n",
       "Бизнес и финансы                     10\n",
       "Игры                                  9\n",
       "Информационные технологии             6\n",
       "Книги и литература                    4\n",
       "Недвижимость                          3\n",
       "Медицинские направления               2\n",
       "Медицина                              2\n",
       "Телевидение                           2\n",
       "                                      2\n",
       "Создание контента                     1\n",
       "Отношения знаменитостей               1\n",
       "Хобби и стиль                         1\n",
       "Экономика                             1\n",
       "Красота                               1\n",
       "Компьютеры и цифровые технологии      1\n",
       "Игры и головоломки                    1\n",
       "Здоровый образ жизни                  1\n",
       "Name: count, dtype: int64"
      ]
     },
     "execution_count": 226,
     "metadata": {},
     "output_type": "execute_result"
    }
   ],
   "source": [
    "df_work.tag_list.value_counts()"
   ]
  },
  {
   "cell_type": "code",
   "execution_count": 128,
   "metadata": {
    "id": "m2ciqy3BFo_6",
    "tags": []
   },
   "outputs": [],
   "source": [
    "all_tags = []\n",
    "for i in IAB_tags.iterrows():\n",
    "  a, b, c = i[1][\"Уровень 1 (iab)\"], i[1][\"Уровень 2 (iab)\"], i[1][\"Уровень 3 (iab)\"]\n",
    "  if not isinstance(b, str):\n",
    "    all_tags.append(a)\n",
    "  else:\n",
    "    if not isinstance(c, str):\n",
    "      all_tags.append(a+\": \"+b)\n",
    "    else:\n",
    "      all_tags.append(a+\": \"+b+\": \"+c)"
   ]
  },
  {
   "cell_type": "markdown",
   "metadata": {
    "id": "Al4PkdhepfzZ"
   },
   "source": [
    "### Разделим tag поотдельности"
   ]
  },
  {
   "cell_type": "code",
   "execution_count": 129,
   "metadata": {
    "colab": {
     "base_uri": "https://localhost:8080/",
     "height": 206
    },
    "id": "8fgLX5jVGfbE",
    "outputId": "3c246880-1305-42f0-f853-ea5386fec8cc",
    "tags": []
   },
   "outputs": [
    {
     "data": {
      "text/html": [
       "<div>\n",
       "<style scoped>\n",
       "    .dataframe tbody tr th:only-of-type {\n",
       "        vertical-align: middle;\n",
       "    }\n",
       "\n",
       "    .dataframe tbody tr th {\n",
       "        vertical-align: top;\n",
       "    }\n",
       "\n",
       "    .dataframe thead th {\n",
       "        text-align: right;\n",
       "    }\n",
       "</style>\n",
       "<table border=\"1\" class=\"dataframe\">\n",
       "  <thead>\n",
       "    <tr style=\"text-align: right;\">\n",
       "      <th></th>\n",
       "      <th>title_discription</th>\n",
       "      <th>tag_list</th>\n",
       "      <th>tag_list_first</th>\n",
       "    </tr>\n",
       "  </thead>\n",
       "  <tbody>\n",
       "    <tr>\n",
       "      <th>0</th>\n",
       "      <td>Пацанский клининг. Шоу «ЧистоТачка» | Повелите...</td>\n",
       "      <td>Массовая культура: Юмор и сатира</td>\n",
       "      <td>Массовая культура</td>\n",
       "    </tr>\n",
       "    <tr>\n",
       "      <th>1</th>\n",
       "      <td>СarJitsu. 3 сезон, 6 серия. Нарек Симонян vs Ж...</td>\n",
       "      <td>События и достопримечательности:  Спортивные с...</td>\n",
       "      <td>События и достопримечательности</td>\n",
       "    </tr>\n",
       "    <tr>\n",
       "      <th>2</th>\n",
       "      <td>СarJitsu. 3 сезон, 6 серия. Нарек Симонян vs Ж...</td>\n",
       "      <td>Массовая культура: Юмор и сатира</td>\n",
       "      <td>Массовая культура</td>\n",
       "    </tr>\n",
       "    <tr>\n",
       "      <th>3</th>\n",
       "      <td>Злые языки | Выпуск 1, Сезон 1 | Непорочность ...</td>\n",
       "      <td>Массовая культура: Отношения знаменитостей</td>\n",
       "      <td>Массовая культура</td>\n",
       "    </tr>\n",
       "    <tr>\n",
       "      <th>4</th>\n",
       "      <td>Злые языки | Выпуск 1, Сезон 1 | Непорочность ...</td>\n",
       "      <td>Массовая культура: Скандалы знаменитостей</td>\n",
       "      <td>Массовая культура</td>\n",
       "    </tr>\n",
       "  </tbody>\n",
       "</table>\n",
       "</div>"
      ],
      "text/plain": [
       "                                   title_discription  \\\n",
       "0  Пацанский клининг. Шоу «ЧистоТачка» | Повелите...   \n",
       "1  СarJitsu. 3 сезон, 6 серия. Нарек Симонян vs Ж...   \n",
       "2  СarJitsu. 3 сезон, 6 серия. Нарек Симонян vs Ж...   \n",
       "3  Злые языки | Выпуск 1, Сезон 1 | Непорочность ...   \n",
       "4  Злые языки | Выпуск 1, Сезон 1 | Непорочность ...   \n",
       "\n",
       "                                            tag_list  \\\n",
       "0                   Массовая культура: Юмор и сатира   \n",
       "1  События и достопримечательности:  Спортивные с...   \n",
       "2                   Массовая культура: Юмор и сатира   \n",
       "3         Массовая культура: Отношения знаменитостей   \n",
       "4          Массовая культура: Скандалы знаменитостей   \n",
       "\n",
       "                    tag_list_first  \n",
       "0                Массовая культура  \n",
       "1  События и достопримечательности  \n",
       "2                Массовая культура  \n",
       "3                Массовая культура  \n",
       "4                Массовая культура  "
      ]
     },
     "execution_count": 129,
     "metadata": {},
     "output_type": "execute_result"
    }
   ],
   "source": [
    "title_discription = []\n",
    "tag_list = []\n",
    "tag_list_first = []\n",
    "\n",
    "for i in train_data_cat.iterrows():\n",
    "  tags = i[1].tags.split(\", \")\n",
    "  title = i[1].title\n",
    "  description = i[1].description\n",
    "  for j in range(len(tags)):\n",
    "    tag_list.append(tags[j])\n",
    "    tags[j] = tags[j].split(\":\")[0].strip()\n",
    "    tags[j] = tags[j].split(\"\\t\")[0].strip()\n",
    "    title_discription.append(title+\". \"+description)\n",
    "    tag_list_first.append(tags[j])\n",
    "\n",
    "df_work = pd.DataFrame({\"title_discription\": title_discription, \"tag_list\": tag_list, \"tag_list_first\": tag_list_first})\n",
    "df_work.head()"
   ]
  },
  {
   "cell_type": "markdown",
   "metadata": {
    "id": "-5OWwn_Zpmgz"
   },
   "source": [
    "Какие есть выбросы"
   ]
  },
  {
   "cell_type": "code",
   "execution_count": 130,
   "metadata": {
    "colab": {
     "base_uri": "https://localhost:8080/"
    },
    "id": "muBHuS03GdOU",
    "outputId": "40ef4df0-0bb9-4a2b-e794-bcd67077fe28",
    "tags": []
   },
   "outputs": [
    {
     "name": "stdout",
     "output_type": "stream",
     "text": [
      "\n",
      "Медицинские направления\n",
      "Экономика\n",
      "Игры и головоломки\n",
      "Компьютеры и цифровые технологии\n",
      "Красота\n",
      "Хобби и стиль\n",
      "Отношения знаменитостей\n",
      "Создание контента\n"
     ]
    }
   ],
   "source": [
    "uniq_tags = taxonomy[\"Уровень 1 (iab)\"].unique().tolist()\n",
    "# for i in uniq_tags:\n",
    "#     dop_tags = taxonomy[taxonomy[\"Уровень 1 (iab)\"] == i][\"Уровень 2 (iab)\"].unique().tolist()\n",
    "#     uniq_tags += dop_tags\n",
    "ttttags = df_work.tag_list_first.unique().tolist()\n",
    "\n",
    "for i in ttttags:\n",
    "  if i not in uniq_tags:\n",
    "    print(i)"
   ]
  },
  {
   "cell_type": "code",
   "execution_count": 131,
   "metadata": {
    "colab": {
     "base_uri": "https://localhost:8080/"
    },
    "id": "nhezSy62HECs",
    "outputId": "8d3ae29d-d195-49f8-906c-2fc453e86adb",
    "tags": []
   },
   "outputs": [
    {
     "name": "stdout",
     "output_type": "stream",
     "text": [
      "События и достопримечательности:  Спортивные события\n",
      "Религия и духовность: астрология\n",
      "\n",
      "Медицинские направления: Психиатрия\n",
      "Фильмы и анимация: Фильмы и анимация \n",
      "Семья и отношения: Воспитание детей% Воспитание малышей\n",
      "Наука\tКосмос и астрономия\n",
      "Образование\tОнлайн-образование\n",
      "События и достопримечательности\tКонцерты и музыкальные мероприятия\n",
      "Экономика: Валюты\n",
      "Игры и головоломки: Карточные игры\n",
      "Компьютеры и цифровые технологии\n",
      "Красота: Макияж\n",
      "Хобби и стиль\n",
      "Отношения знаменитостей: Семьи знаменитостей\n",
      "Спорт:Борьба\n",
      "Создание контента: Личные события\n",
      "Спорт:Футбол\n",
      "События и достопримечательности:Личные события\n",
      "\n",
      "Путешествия: Путешествия на машине\n",
      "\n",
      "\n",
      "Массовая культура: Стиль знаменитостей: Стиль знаменитостей\n",
      "\n",
      "Музыка и аудио: Современная музыка\n",
      "Массовая культура:Отношения знаменитостей\n",
      "Транспорт:Авторемонт\n",
      "Религия и духовность:Астрология\n",
      "Транспорт:Типы автомобилей:Классические автомобили\n",
      "\n",
      "Массовая культура: Отношения знаменитостей\n",
      "Музыка и аудио:Современная музыка\n",
      "Изобразительное искусство:Художественная фотография\n",
      "Еда и напитки:Кулинария\n",
      "Бизнес и финансы:Бизнес\n",
      "Массовая культура:Отношения знаменитостей: Семьи знаменитостей\n",
      " Карьера\n",
      "33\n"
     ]
    }
   ],
   "source": [
    "# -> all_tags\n",
    "# for i in uniq_tags:\n",
    "#     dop_tags = taxonomy[taxonomy[\"Уровень 1 (iab)\"] == i][\"Уровень 2 (iab)\"].unique().tolist()\n",
    "#     uniq_tags += dop_tags\n",
    "ttttags = df_work.tag_list.unique().tolist()\n",
    "\n",
    "k = 0\n",
    "for i in ttttags:\n",
    "  if i not in all_tags:\n",
    "    print(i)\n",
    "    k += 1\n",
    "print(k)"
   ]
  },
  {
   "cell_type": "code",
   "execution_count": 132,
   "metadata": {
    "colab": {
     "base_uri": "https://localhost:8080/"
    },
    "id": "PzAvakWOQ4KI",
    "outputId": "c3ebc1ef-42ec-4e1d-dc43-f8a37cb4a30f",
    "tags": []
   },
   "outputs": [
    {
     "name": "stdout",
     "output_type": "stream",
     "text": [
      "(1578, 3)\n",
      "(1458, 3)\n"
     ]
    }
   ],
   "source": [
    "print(df_work.shape)\n",
    "df_work = df_work[[i in all_tags for i in df_work.tag_list.tolist()]]\n",
    "print(df_work.shape)"
   ]
  },
  {
   "cell_type": "markdown",
   "metadata": {
    "id": "HktFxXUWSGMS"
   },
   "source": [
    "Сколько всего sample у каждого 1 уровня"
   ]
  },
  {
   "cell_type": "code",
   "execution_count": 133,
   "metadata": {
    "colab": {
     "base_uri": "https://localhost:8080/"
    },
    "id": "X3LQugbpHLwW",
    "outputId": "850653dc-7691-48e8-eb21-b9733748cba2",
    "tags": []
   },
   "outputs": [
    {
     "name": "stdout",
     "output_type": "stream",
     "text": [
      "Еда и напитки 75\n",
      "Недвижимость 3\n",
      "Путешествия 73\n",
      "Хобби и интересы 59\n",
      "Личные финансы 19\n",
      "Стиль и красота 17\n",
      "Спорт 105\n",
      "Книги и литература 4\n",
      "Игры 9\n",
      "События и достопримечательности 128\n",
      "Карьера 103\n",
      "Транспорт 56\n",
      "Семья и отношения 49\n",
      "Дом и сад 28\n",
      "Музыка и аудио 62\n",
      "Образование 15\n",
      "Информационные технологии 6\n",
      "Здоровый образ жизни 1\n",
      "Религия и духовность 6\n",
      "Массовая культура 555\n",
      "Новости и политика 11\n",
      "Бизнес и финансы 9\n",
      "Наука 22\n",
      "Телевидение 2\n",
      "Фильмы и анимация 23\n",
      "Изобразительное искусство 16\n",
      "Медицина 2\n"
     ]
    }
   ],
   "source": [
    "uniq = set(df_work.tag_list_first.tolist())\n",
    "r_list = df_work.tag_list_first.tolist()\n",
    "for i in uniq:\n",
    "  print(i, r_list.count(i))"
   ]
  },
  {
   "cell_type": "code",
   "execution_count": 134,
   "metadata": {
    "colab": {
     "base_uri": "https://localhost:8080/",
     "height": 206
    },
    "id": "xNi6wwqBUdUE",
    "outputId": "1489de0c-fc3a-4e83-dd5b-ffd95a61eb23",
    "tags": []
   },
   "outputs": [
    {
     "data": {
      "text/html": [
       "<div>\n",
       "<style scoped>\n",
       "    .dataframe tbody tr th:only-of-type {\n",
       "        vertical-align: middle;\n",
       "    }\n",
       "\n",
       "    .dataframe tbody tr th {\n",
       "        vertical-align: top;\n",
       "    }\n",
       "\n",
       "    .dataframe thead th {\n",
       "        text-align: right;\n",
       "    }\n",
       "</style>\n",
       "<table border=\"1\" class=\"dataframe\">\n",
       "  <thead>\n",
       "    <tr style=\"text-align: right;\">\n",
       "      <th></th>\n",
       "      <th>title_discription</th>\n",
       "      <th>tag_list</th>\n",
       "      <th>tag_list_first</th>\n",
       "    </tr>\n",
       "  </thead>\n",
       "  <tbody>\n",
       "    <tr>\n",
       "      <th>0</th>\n",
       "      <td>Пацанский клининг. Шоу «ЧистоТачка» | Повелите...</td>\n",
       "      <td>Массовая культура: Юмор и сатира</td>\n",
       "      <td>Массовая культура</td>\n",
       "    </tr>\n",
       "    <tr>\n",
       "      <th>2</th>\n",
       "      <td>СarJitsu. 3 сезон, 6 серия. Нарек Симонян vs Ж...</td>\n",
       "      <td>Массовая культура: Юмор и сатира</td>\n",
       "      <td>Массовая культура</td>\n",
       "    </tr>\n",
       "    <tr>\n",
       "      <th>3</th>\n",
       "      <td>Злые языки | Выпуск 1, Сезон 1 | Непорочность ...</td>\n",
       "      <td>Массовая культура: Отношения знаменитостей</td>\n",
       "      <td>Массовая культура</td>\n",
       "    </tr>\n",
       "    <tr>\n",
       "      <th>4</th>\n",
       "      <td>Злые языки | Выпуск 1, Сезон 1 | Непорочность ...</td>\n",
       "      <td>Массовая культура: Скандалы знаменитостей</td>\n",
       "      <td>Массовая культура</td>\n",
       "    </tr>\n",
       "    <tr>\n",
       "      <th>5</th>\n",
       "      <td>$1000 шоу | 1 выпуск | Автобоулинг. В этом вып...</td>\n",
       "      <td>Транспорт</td>\n",
       "      <td>Транспорт</td>\n",
       "    </tr>\n",
       "  </tbody>\n",
       "</table>\n",
       "</div>"
      ],
      "text/plain": [
       "                                   title_discription  \\\n",
       "0  Пацанский клининг. Шоу «ЧистоТачка» | Повелите...   \n",
       "2  СarJitsu. 3 сезон, 6 серия. Нарек Симонян vs Ж...   \n",
       "3  Злые языки | Выпуск 1, Сезон 1 | Непорочность ...   \n",
       "4  Злые языки | Выпуск 1, Сезон 1 | Непорочность ...   \n",
       "5  $1000 шоу | 1 выпуск | Автобоулинг. В этом вып...   \n",
       "\n",
       "                                     tag_list     tag_list_first  \n",
       "0            Массовая культура: Юмор и сатира  Массовая культура  \n",
       "2            Массовая культура: Юмор и сатира  Массовая культура  \n",
       "3  Массовая культура: Отношения знаменитостей  Массовая культура  \n",
       "4   Массовая культура: Скандалы знаменитостей  Массовая культура  \n",
       "5                                   Транспорт          Транспорт  "
      ]
     },
     "execution_count": 134,
     "metadata": {},
     "output_type": "execute_result"
    }
   ],
   "source": [
    "df_work.head()"
   ]
  },
  {
   "cell_type": "markdown",
   "metadata": {
    "id": "rIjM5mzNp1_t"
   },
   "source": [
    "Для стратификации нужно добавить 1 элемент"
   ]
  },
  {
   "cell_type": "code",
   "execution_count": 135,
   "metadata": {
    "colab": {
     "base_uri": "https://localhost:8080/"
    },
    "id": "P6SEI5pcURdb",
    "outputId": "61a94dbc-17c6-474f-900e-89b7a011fe34",
    "tags": []
   },
   "outputs": [],
   "source": [
    "new_row = {'title_discription': 'Здоровый образ жизни', 'tag_list': 'Здоровый образ жизни', 'tag_list_first': 'Здоровый образ жизни'}\n",
    "new_row_df = pd.DataFrame([new_row])\n",
    "df_work = pd.concat([df_work, new_row_df], ignore_index=True)"
   ]
  },
  {
   "cell_type": "markdown",
   "metadata": {
    "id": "Ir8rftiXTfac"
   },
   "source": [
    "### Разделяем на train.test"
   ]
  },
  {
   "cell_type": "code",
   "execution_count": 136,
   "metadata": {
    "colab": {
     "base_uri": "https://localhost:8080/"
    },
    "id": "AL5MWu2OTfDs",
    "outputId": "e7686217-c840-4aaa-b3ec-46541afd32ff",
    "tags": []
   },
   "outputs": [
    {
     "name": "stdout",
     "output_type": "stream",
     "text": [
      "Train size: 1021\n",
      "Test size: 438\n",
      "Train class distribution:\n",
      "tag_list_first\n",
      "Массовая культура                  388\n",
      "События и достопримечательности     90\n",
      "Спорт                               74\n",
      "Карьера                             72\n",
      "Еда и напитки                       53\n",
      "Путешествия                         51\n",
      "Музыка и аудио                      43\n",
      "Хобби и интересы                    41\n",
      "Транспорт                           39\n",
      "Семья и отношения                   34\n",
      "Дом и сад                           20\n",
      "Фильмы и анимация                   16\n",
      "Наука                               15\n",
      "Личные финансы                      13\n",
      "Стиль и красота                     12\n",
      "Изобразительное искусство           11\n",
      "Образование                         11\n",
      "Новости и политика                   8\n",
      "Игры                                 6\n",
      "Бизнес и финансы                     6\n",
      "Религия и духовность                 4\n",
      "Информационные технологии            4\n",
      "Книги и литература                   3\n",
      "Недвижимость                         2\n",
      "Медицина                             2\n",
      "Здоровый образ жизни                 2\n",
      "Телевидение                          1\n",
      "Name: count, dtype: int64\n",
      "\n",
      "Test class distribution:\n",
      "tag_list_first\n",
      "Массовая культура                  167\n",
      "События и достопримечательности     38\n",
      "Карьера                             31\n",
      "Спорт                               31\n",
      "Еда и напитки                       22\n",
      "Путешествия                         22\n",
      "Музыка и аудио                      19\n",
      "Хобби и интересы                    18\n",
      "Транспорт                           17\n",
      "Семья и отношения                   15\n",
      "Дом и сад                            8\n",
      "Наука                                7\n",
      "Фильмы и анимация                    7\n",
      "Личные финансы                       6\n",
      "Изобразительное искусство            5\n",
      "Стиль и красота                      5\n",
      "Образование                          4\n",
      "Новости и политика                   3\n",
      "Бизнес и финансы                     3\n",
      "Игры                                 3\n",
      "Религия и духовность                 2\n",
      "Информационные технологии            2\n",
      "Недвижимость                         1\n",
      "Книги и литература                   1\n",
      "Телевидение                          1\n",
      "Name: count, dtype: int64\n"
     ]
    }
   ],
   "source": [
    "from sklearn.model_selection import train_test_split\n",
    "\n",
    "train_df, test_df = train_test_split(df_work, test_size=0.3, stratify=df_work['tag_list_first'], random_state=42)\n",
    "\n",
    "print(\"Train size:\", len(train_df))\n",
    "print(\"Test size:\", len(test_df))\n",
    "\n",
    "print(\"Train class distribution:\")\n",
    "print(train_df['tag_list_first'].value_counts())\n",
    "\n",
    "print(\"\\nTest class distribution:\")\n",
    "print(test_df['tag_list_first'].value_counts())"
   ]
  },
  {
   "cell_type": "markdown",
   "metadata": {
    "id": "bHr3jksrWMMz"
   },
   "source": [
    "### Обучение triplet loss\n"
   ]
  },
  {
   "cell_type": "code",
   "execution_count": 137,
   "metadata": {
    "id": "cTN7dPGzbB3-",
    "tags": []
   },
   "outputs": [],
   "source": [
    "import torch\n",
    "\n",
    "torch.cuda.empty_cache()"
   ]
  },
  {
   "cell_type": "code",
   "execution_count": 195,
   "metadata": {
    "id": "ws2F9VG9mEuX",
    "tags": []
   },
   "outputs": [],
   "source": [
    "from sentence_transformers import SentenceTransformer, InputExample, losses\n",
    "import random\n",
    "from transformers import AutoTokenizer\n",
    "\n",
    "\n",
    "tokenizer = AutoTokenizer.from_pretrained('intfloat/multilingual-e5-small')\n",
    "model = SentenceTransformer('intfloat/multilingual-e5-small')\n",
    "model = model.to('cuda')"
   ]
  },
  {
   "cell_type": "code",
   "execution_count": 196,
   "metadata": {
    "id": "PNv1sDQ6ZZKM",
    "tags": []
   },
   "outputs": [],
   "source": [
    "from tqdm import tqdm"
   ]
  },
  {
   "cell_type": "code",
   "execution_count": 197,
   "metadata": {
    "colab": {
     "base_uri": "https://localhost:8080/"
    },
    "id": "1eeLnzQeSet9",
    "outputId": "629bd961-2830-4250-e876-638fdd439bea",
    "scrolled": true,
    "tags": []
   },
   "outputs": [
    {
     "name": "stderr",
     "output_type": "stream",
     "text": [
      "  0%|          | 0/2 [00:00<?, ?it/s]\n",
      "  0%|          | 0/64 [00:00<?, ?it/s]\u001b[A\n",
      "  2%|▏         | 1/64 [00:00<00:09,  6.61it/s]\u001b[A\n",
      "  3%|▎         | 2/64 [00:00<00:07,  8.12it/s]\u001b[A\n",
      "  6%|▋         | 4/64 [00:00<00:07,  8.45it/s]\u001b[A\n",
      "  8%|▊         | 5/64 [00:00<00:07,  8.07it/s]\u001b[A\n",
      "  9%|▉         | 6/64 [00:00<00:07,  7.84it/s]\u001b[A\n",
      " 11%|█         | 7/64 [00:00<00:07,  7.71it/s]\u001b[A\n",
      " 12%|█▎        | 8/64 [00:01<00:07,  7.61it/s]\u001b[A\n",
      " 16%|█▌        | 10/64 [00:01<00:05,  9.23it/s]\u001b[A\n",
      " 17%|█▋        | 11/64 [00:01<00:05,  9.02it/s]\u001b[A\n",
      " 19%|█▉        | 12/64 [00:01<00:05,  8.67it/s]\u001b[A\n",
      " 20%|██        | 13/64 [00:01<00:06,  7.77it/s]\u001b[A\n",
      " 22%|██▏       | 14/64 [00:01<00:06,  7.22it/s]\u001b[A\n",
      " 23%|██▎       | 15/64 [00:01<00:06,  7.28it/s]\u001b[A\n",
      " 25%|██▌       | 16/64 [00:02<00:06,  7.64it/s]\u001b[A\n",
      " 27%|██▋       | 17/64 [00:02<00:06,  7.58it/s]\u001b[A\n",
      " 30%|██▉       | 19/64 [00:02<00:05,  8.65it/s]\u001b[A\n",
      " 31%|███▏      | 20/64 [00:02<00:05,  8.69it/s]\u001b[A\n",
      " 34%|███▍      | 22/64 [00:02<00:04,  9.28it/s]\u001b[A\n",
      " 36%|███▌      | 23/64 [00:02<00:04,  8.93it/s]\u001b[A\n",
      " 39%|███▉      | 25/64 [00:02<00:04,  9.08it/s]\u001b[A\n",
      " 42%|████▏     | 27/64 [00:03<00:03,  9.35it/s]\u001b[A\n",
      " 44%|████▍     | 28/64 [00:03<00:04,  8.96it/s]\u001b[A\n",
      " 45%|████▌     | 29/64 [00:03<00:04,  8.49it/s]\u001b[A\n",
      " 48%|████▊     | 31/64 [00:03<00:03,  8.72it/s]\u001b[A\n",
      " 50%|█████     | 32/64 [00:03<00:03,  8.94it/s]\u001b[A\n",
      " 52%|█████▏    | 33/64 [00:03<00:03,  8.50it/s]\u001b[A\n",
      " 53%|█████▎    | 34/64 [00:04<00:03,  7.84it/s]\u001b[A\n",
      " 55%|█████▍    | 35/64 [00:04<00:03,  7.75it/s]\u001b[A\n",
      " 56%|█████▋    | 36/64 [00:04<00:03,  8.18it/s]\u001b[A\n",
      " 59%|█████▉    | 38/64 [00:04<00:02,  8.67it/s]\u001b[A\n",
      " 61%|██████    | 39/64 [00:04<00:02,  8.90it/s]\u001b[A\n",
      " 62%|██████▎   | 40/64 [00:04<00:02,  8.59it/s]\u001b[A\n",
      " 64%|██████▍   | 41/64 [00:04<00:02,  8.26it/s]\u001b[A\n",
      " 66%|██████▌   | 42/64 [00:04<00:02,  8.60it/s]\u001b[A\n",
      " 67%|██████▋   | 43/64 [00:05<00:02,  8.21it/s]\u001b[A\n",
      " 70%|███████   | 45/64 [00:05<00:02,  9.17it/s]\u001b[A\n",
      " 72%|███████▏  | 46/64 [00:05<00:02,  8.39it/s]\u001b[A\n",
      " 73%|███████▎  | 47/64 [00:05<00:02,  8.16it/s]\u001b[A\n",
      " 75%|███████▌  | 48/64 [00:05<00:01,  8.55it/s]\u001b[A\n",
      " 77%|███████▋  | 49/64 [00:05<00:01,  8.84it/s]\u001b[A\n",
      " 78%|███████▊  | 50/64 [00:05<00:01,  7.72it/s]\u001b[A\n",
      " 81%|████████▏ | 52/64 [00:06<00:01,  8.74it/s]\u001b[A\n",
      " 84%|████████▍ | 54/64 [00:06<00:01,  8.71it/s]\u001b[A\n",
      " 88%|████████▊ | 56/64 [00:06<00:00,  8.90it/s]\u001b[A\n",
      " 89%|████████▉ | 57/64 [00:06<00:00,  8.66it/s]\u001b[A\n",
      " 91%|█████████ | 58/64 [00:06<00:00,  8.13it/s]\u001b[A\n",
      " 92%|█████████▏| 59/64 [00:07<00:00,  7.43it/s]\u001b[A\n",
      " 94%|█████████▍| 60/64 [00:07<00:00,  7.45it/s]\u001b[A\n",
      " 95%|█████████▌| 61/64 [00:07<00:00,  7.56it/s]\u001b[A\n",
      " 98%|█████████▊| 63/64 [00:07<00:00,  8.03it/s]\u001b[A\n",
      "100%|██████████| 64/64 [00:07<00:00,  8.34it/s]\u001b[A\n",
      " 50%|█████     | 1/2 [00:07<00:07,  7.67s/it]"
     ]
    },
    {
     "name": "stdout",
     "output_type": "stream",
     "text": [
      "Epoch 1, Loss: 0.8393236319534481\n"
     ]
    },
    {
     "name": "stderr",
     "output_type": "stream",
     "text": [
      "\n",
      "  0%|          | 0/64 [00:00<?, ?it/s]\u001b[A\n",
      "  2%|▏         | 1/64 [00:00<00:07,  8.08it/s]\u001b[A\n",
      "  5%|▍         | 3/64 [00:00<00:06,  9.13it/s]\u001b[A\n",
      "  6%|▋         | 4/64 [00:00<00:06,  8.84it/s]\u001b[A\n",
      "  9%|▉         | 6/64 [00:00<00:06,  9.23it/s]\u001b[A\n",
      " 11%|█         | 7/64 [00:00<00:06,  8.69it/s]\u001b[A\n",
      " 12%|█▎        | 8/64 [00:00<00:06,  8.28it/s]\u001b[A\n",
      " 14%|█▍        | 9/64 [00:01<00:06,  8.18it/s]\u001b[A\n",
      " 16%|█▌        | 10/64 [00:01<00:06,  8.49it/s]\u001b[A\n",
      " 17%|█▋        | 11/64 [00:01<00:06,  8.31it/s]\u001b[A\n",
      " 20%|██        | 13/64 [00:01<00:05,  9.00it/s]\u001b[A\n",
      " 22%|██▏       | 14/64 [00:01<00:05,  8.72it/s]\u001b[A\n",
      " 25%|██▌       | 16/64 [00:01<00:05,  9.26it/s]\u001b[A\n",
      " 27%|██▋       | 17/64 [00:01<00:05,  8.78it/s]\u001b[A\n",
      " 28%|██▊       | 18/64 [00:02<00:05,  8.56it/s]\u001b[A\n",
      " 30%|██▉       | 19/64 [00:02<00:05,  8.27it/s]\u001b[A\n",
      " 31%|███▏      | 20/64 [00:02<00:05,  8.39it/s]\u001b[A\n",
      " 33%|███▎      | 21/64 [00:02<00:04,  8.71it/s]\u001b[A\n",
      " 34%|███▍      | 22/64 [00:02<00:05,  8.34it/s]\u001b[A\n",
      " 36%|███▌      | 23/64 [00:02<00:04,  8.22it/s]\u001b[A\n",
      " 39%|███▉      | 25/64 [00:02<00:04,  8.56it/s]\u001b[A\n",
      " 41%|████      | 26/64 [00:03<00:04,  8.36it/s]\u001b[A\n",
      " 42%|████▏     | 27/64 [00:03<00:04,  8.44it/s]\u001b[A\n",
      " 44%|████▍     | 28/64 [00:03<00:04,  8.28it/s]\u001b[A\n",
      " 45%|████▌     | 29/64 [00:03<00:04,  8.02it/s]\u001b[A\n",
      " 47%|████▋     | 30/64 [00:03<00:04,  8.32it/s]\u001b[A\n",
      " 48%|████▊     | 31/64 [00:03<00:04,  8.09it/s]\u001b[A\n",
      " 50%|█████     | 32/64 [00:03<00:03,  8.28it/s]\u001b[A\n",
      " 53%|█████▎    | 34/64 [00:03<00:02, 10.01it/s]\u001b[A\n",
      " 55%|█████▍    | 35/64 [00:04<00:02,  9.92it/s]\u001b[A\n",
      " 56%|█████▋    | 36/64 [00:04<00:02,  9.94it/s]\u001b[A\n",
      " 58%|█████▊    | 37/64 [00:04<00:02,  9.35it/s]\u001b[A\n",
      " 59%|█████▉    | 38/64 [00:04<00:03,  8.09it/s]\u001b[A\n",
      " 62%|██████▎   | 40/64 [00:04<00:02,  8.38it/s]\u001b[A\n",
      " 66%|██████▌   | 42/64 [00:04<00:02,  9.01it/s]\u001b[A\n",
      " 67%|██████▋   | 43/64 [00:04<00:02,  8.85it/s]\u001b[A\n",
      " 70%|███████   | 45/64 [00:05<00:02,  8.90it/s]\u001b[A\n",
      " 72%|███████▏  | 46/64 [00:05<00:02,  8.36it/s]\u001b[A\n",
      " 75%|███████▌  | 48/64 [00:05<00:01,  8.58it/s]\u001b[A\n",
      " 77%|███████▋  | 49/64 [00:05<00:01,  8.34it/s]\u001b[A\n",
      " 80%|███████▉  | 51/64 [00:05<00:01,  9.40it/s]\u001b[A\n",
      " 83%|████████▎ | 53/64 [00:06<00:01,  9.26it/s]\u001b[A\n",
      " 86%|████████▌ | 55/64 [00:06<00:00,  9.65it/s]\u001b[A\n",
      " 88%|████████▊ | 56/64 [00:06<00:00,  9.14it/s]\u001b[A\n",
      " 89%|████████▉ | 57/64 [00:06<00:00,  9.25it/s]\u001b[A\n",
      " 91%|█████████ | 58/64 [00:06<00:00,  9.14it/s]\u001b[A\n",
      " 92%|█████████▏| 59/64 [00:06<00:00,  8.94it/s]\u001b[A\n",
      " 95%|█████████▌| 61/64 [00:06<00:00,  9.30it/s]\u001b[A\n",
      " 97%|█████████▋| 62/64 [00:07<00:00,  8.90it/s]\u001b[A\n",
      "100%|██████████| 64/64 [00:07<00:00,  8.79it/s]\u001b[A\n",
      "100%|██████████| 2/2 [00:14<00:00,  7.48s/it]"
     ]
    },
    {
     "name": "stdout",
     "output_type": "stream",
     "text": [
      "Epoch 2, Loss: 0.48967784363776445\n"
     ]
    },
    {
     "name": "stderr",
     "output_type": "stream",
     "text": [
      "\n"
     ]
    }
   ],
   "source": [
    "import torch\n",
    "from torch import nn\n",
    "from torch.utils.data import DataLoader, Dataset\n",
    "\n",
    "optimizer = torch.optim.Adam(model.parameters(), lr=2e-5)\n",
    "\n",
    "triplet_loss = nn.TripletMarginLoss(margin=1.0, p=2)\n",
    "\n",
    "class TripletDataset(Dataset):\n",
    "    def __init__(self, dataframe):\n",
    "        self.data = dataframe\n",
    "        self.classes = dataframe['tag_list_first'].unique()\n",
    "\n",
    "    def __len__(self):\n",
    "        return len(self.data)\n",
    "\n",
    "    def __getitem__(self, idx):\n",
    "        anchor_class = self.data.iloc[idx]['tag_list_first']\n",
    "\n",
    "        positive = self.data.iloc[idx]['title_discription']\n",
    "\n",
    "        negative_samples = self.data[self.data['tag_list_first'] != anchor_class]\n",
    "        negative = negative_samples.sample(1).iloc[0]['title_discription']\n",
    "\n",
    "        return anchor_class, positive, negative\n",
    "\n",
    "train_dataset = TripletDataset(train_df)\n",
    "train_loader = DataLoader(train_dataset, batch_size=16, shuffle=True)\n",
    "\n",
    "\n",
    "def tokenize_batch(texts, device):\n",
    "    tokens = tokenizer(texts, padding=True, truncation=True, return_tensors='pt')\n",
    "    return {key: value.to(device) for key, value in tokens.items()}\n",
    "\n",
    "def train_triplet_loss_model(model, train_loader, optimizer, device, epochs=2):\n",
    "    model.train()\n",
    "    for epoch in tqdm(range(epochs)):\n",
    "        total_loss = 0\n",
    "        for batch in tqdm(train_loader):\n",
    "            anchors, positives, negatives = batch\n",
    "\n",
    "            # Токенизация текстов и перенос на устройство\n",
    "            anchor_tokens = tokenize_batch(anchors, device)\n",
    "            positive_tokens = tokenize_batch(positives, device)\n",
    "            negative_tokens = tokenize_batch(negatives, device)\n",
    "\n",
    "            # Прямой проход через модель для получения эмбеддингов\n",
    "            anchor_embeddings = model(anchor_tokens)['sentence_embedding']\n",
    "            positive_embeddings = model(positive_tokens)['sentence_embedding']\n",
    "            negative_embeddings = model(negative_tokens)['sentence_embedding']\n",
    "\n",
    "            # Вычисление потерь\n",
    "            loss = triplet_loss(anchor_embeddings, positive_embeddings, negative_embeddings)\n",
    "\n",
    "            # Обратное распространение ошибки\n",
    "            optimizer.zero_grad()\n",
    "            loss.backward()\n",
    "            optimizer.step()\n",
    "\n",
    "            total_loss += loss.item()\n",
    "\n",
    "        print(f'Epoch {epoch+1}, Loss: {total_loss / len(train_loader)}')\n",
    "\n",
    "# Запуск обучения с указанием устройства\n",
    "device = torch.device('cuda' if torch.cuda.is_available() else 'cpu')\n",
    "train_triplet_loss_model(model, train_loader, optimizer, device, epochs=2)"
   ]
  },
  {
   "cell_type": "code",
   "execution_count": 198,
   "metadata": {
    "id": "LpEj4mC5eyVc",
    "tags": []
   },
   "outputs": [],
   "source": [
    "tags_list = list(set(df_work.tag_list_first.unique().tolist()))\n",
    "vectors = np.array([model.encode(i) for i in tags_list])\n",
    "\n",
    "dim = vectors.shape[1]  # Размерность векторов\n",
    "index = faiss.index_factory(dim, \"Flat\", faiss.METRIC_INNER_PRODUCT)\n",
    "index.add(vectors)"
   ]
  },
  {
   "cell_type": "code",
   "execution_count": 199,
   "metadata": {
    "id": "7Ls2vXX8W3hF",
    "tags": []
   },
   "outputs": [],
   "source": [
    "all_pred_1 = []\n",
    "all_pred_2 = []\n",
    "all_pred_3 = []\n",
    "\n",
    "k = 0\n",
    "for i, row in test_df.iterrows():\n",
    "    real = row['tag_list_first']\n",
    "\n",
    "    if not isinstance(row['title_discription'], str):\n",
    "      all_pred_1.append(\"-\")\n",
    "      all_pred_2.append(\"-\")\n",
    "      all_pred_3.append(\"-\")\n",
    "      continue\n",
    "    query_vector = model.encode(row['title_discription'])\n",
    "    query_vector = np.array(query_vector).astype('float32')\n",
    "    D, predictions = index.search(np.expand_dims(query_vector, axis=0), 3)\n",
    "\n",
    "    pred_1, pred_2, pred_3 = tags_list[predictions[0][0]], tags_list[predictions[0][1]], tags_list[predictions[0][2]]\n",
    "    all_pred_1.append(pred_1)\n",
    "    all_pred_2.append(pred_2)\n",
    "    all_pred_3.append(pred_3)\n",
    "    if real in [pred_1, pred_2, pred_3]:\n",
    "      k += 1"
   ]
  },
  {
   "cell_type": "code",
   "execution_count": 200,
   "metadata": {
    "colab": {
     "base_uri": "https://localhost:8080/"
    },
    "id": "s_wP_BJDj5sT",
    "outputId": "c0215c74-effe-4d00-8e25-d0f26960b078",
    "tags": []
   },
   "outputs": [
    {
     "name": "stdout",
     "output_type": "stream",
     "text": [
      "302 / 438\n"
     ]
    }
   ],
   "source": [
    "print(k, \"/\", len(test_df))"
   ]
  },
  {
   "cell_type": "code",
   "execution_count": 203,
   "metadata": {
    "colab": {
     "base_uri": "https://localhost:8080/",
     "height": 362
    },
    "id": "QZWkGP-cjwm0",
    "outputId": "5117058a-8acd-4ac6-f2e1-25b81094b8a4",
    "tags": []
   },
   "outputs": [
    {
     "data": {
      "text/html": [
       "<div>\n",
       "<style scoped>\n",
       "    .dataframe tbody tr th:only-of-type {\n",
       "        vertical-align: middle;\n",
       "    }\n",
       "\n",
       "    .dataframe tbody tr th {\n",
       "        vertical-align: top;\n",
       "    }\n",
       "\n",
       "    .dataframe thead th {\n",
       "        text-align: right;\n",
       "    }\n",
       "</style>\n",
       "<table border=\"1\" class=\"dataframe\">\n",
       "  <thead>\n",
       "    <tr style=\"text-align: right;\">\n",
       "      <th></th>\n",
       "      <th>title_discription</th>\n",
       "      <th>tag_list</th>\n",
       "      <th>tag_list_first</th>\n",
       "      <th>q1</th>\n",
       "      <th>q2</th>\n",
       "      <th>q3</th>\n",
       "    </tr>\n",
       "  </thead>\n",
       "  <tbody>\n",
       "    <tr>\n",
       "      <th>0</th>\n",
       "      <td>«МузЛофт - Подкаст» с Ириной Нельсон - 1 июля ...</td>\n",
       "      <td>Музыка и аудио</td>\n",
       "      <td>Музыка и аудио</td>\n",
       "      <td>Музыка и аудио</td>\n",
       "      <td>Карьера</td>\n",
       "      <td>Изобразительное искусство</td>\n",
       "    </tr>\n",
       "    <tr>\n",
       "      <th>1</th>\n",
       "      <td>Музлофт-Подкаст с Рыбиным - 14 августа в 15:00...</td>\n",
       "      <td>События и достопримечательности: Концерты и му...</td>\n",
       "      <td>События и достопримечательности</td>\n",
       "      <td>Музыка и аудио</td>\n",
       "      <td>Карьера</td>\n",
       "      <td>Изобразительное искусство</td>\n",
       "    </tr>\n",
       "    <tr>\n",
       "      <th>2</th>\n",
       "      <td>«МузЛофт - Подкаст» с Мартиросяном, Сорокиным,...</td>\n",
       "      <td>Музыка и аудио: Комедия и стендап (Музыка и ау...</td>\n",
       "      <td>Музыка и аудио</td>\n",
       "      <td>Музыка и аудио</td>\n",
       "      <td>Карьера</td>\n",
       "      <td>Изобразительное искусство</td>\n",
       "    </tr>\n",
       "    <tr>\n",
       "      <th>3</th>\n",
       "      <td>Музлофт-Подкаст | Виктор Салтыков. Конфликты с...</td>\n",
       "      <td>Массовая культура</td>\n",
       "      <td>Массовая культура</td>\n",
       "      <td>Музыка и аудио</td>\n",
       "      <td>Карьера</td>\n",
       "      <td>Телевидение</td>\n",
       "    </tr>\n",
       "    <tr>\n",
       "      <th>4</th>\n",
       "      <td>Команда 3/21 в ГрандТуре «Байкальская миля 202...</td>\n",
       "      <td>События и достопримечательности: Исторические ...</td>\n",
       "      <td>События и достопримечательности</td>\n",
       "      <td>Путешествия</td>\n",
       "      <td>События и достопримечательности</td>\n",
       "      <td>Транспорт</td>\n",
       "    </tr>\n",
       "  </tbody>\n",
       "</table>\n",
       "</div>"
      ],
      "text/plain": [
       "                                   title_discription  \\\n",
       "0  «МузЛофт - Подкаст» с Ириной Нельсон - 1 июля ...   \n",
       "1  Музлофт-Подкаст с Рыбиным - 14 августа в 15:00...   \n",
       "2  «МузЛофт - Подкаст» с Мартиросяном, Сорокиным,...   \n",
       "3  Музлофт-Подкаст | Виктор Салтыков. Конфликты с...   \n",
       "4  Команда 3/21 в ГрандТуре «Байкальская миля 202...   \n",
       "\n",
       "                                            tag_list  \\\n",
       "0                                     Музыка и аудио   \n",
       "1  События и достопримечательности: Концерты и му...   \n",
       "2  Музыка и аудио: Комедия и стендап (Музыка и ау...   \n",
       "3                                  Массовая культура   \n",
       "4  События и достопримечательности: Исторические ...   \n",
       "\n",
       "                    tag_list_first              q1  \\\n",
       "0                   Музыка и аудио  Музыка и аудио   \n",
       "1  События и достопримечательности  Музыка и аудио   \n",
       "2                   Музыка и аудио  Музыка и аудио   \n",
       "3                Массовая культура  Музыка и аудио   \n",
       "4  События и достопримечательности     Путешествия   \n",
       "\n",
       "                                q2                         q3  \n",
       "0                          Карьера  Изобразительное искусство  \n",
       "1                          Карьера  Изобразительное искусство  \n",
       "2                          Карьера  Изобразительное искусство  \n",
       "3                          Карьера                Телевидение  \n",
       "4  События и достопримечательности                  Транспорт  "
      ]
     },
     "execution_count": 203,
     "metadata": {},
     "output_type": "execute_result"
    }
   ],
   "source": [
    "df_dop = pd.DataFrame({\"q1\": all_pred_1, \"q2\": all_pred_2, \"q3\": all_pred_3})\n",
    "test_df_new = pd.concat([test_df.reset_index(drop=True), df_dop.reset_index(drop=True)], axis=1)\n",
    "test_df_new.head()"
   ]
  },
  {
   "cell_type": "code",
   "execution_count": 204,
   "metadata": {
    "colab": {
     "base_uri": "https://localhost:8080/"
    },
    "id": "yHJu8sVPrQYp",
    "outputId": "6bff0618-5848-4bd4-9300-4d2edcf4c563",
    "tags": []
   },
   "outputs": [
    {
     "data": {
      "text/plain": [
       "(438, 6)"
      ]
     },
     "execution_count": 204,
     "metadata": {},
     "output_type": "execute_result"
    }
   ],
   "source": [
    "test_df_new.shape"
   ]
  },
  {
   "cell_type": "markdown",
   "metadata": {
    "id": "Mpw6uPcHt9wF"
   },
   "source": [
    "# Обучение сиамской модели"
   ]
  },
  {
   "cell_type": "code",
   "execution_count": 205,
   "metadata": {
    "colab": {
     "base_uri": "https://localhost:8080/"
    },
    "id": "21CvvgyShEvl",
    "outputId": "acf5c333-0aca-44a8-bfa3-e9a4e5255dc8",
    "tags": []
   },
   "outputs": [
    {
     "data": {
      "text/plain": [
       "(384,)"
      ]
     },
     "execution_count": 205,
     "metadata": {},
     "output_type": "execute_result"
    }
   ],
   "source": [
    "model_small.encode(\"123\").shape"
   ]
  },
  {
   "cell_type": "code",
   "execution_count": 206,
   "metadata": {
    "id": "qHzZK_0duKRl",
    "tags": []
   },
   "outputs": [],
   "source": [
    "import torch\n",
    "import torch.nn as nn\n",
    "import torch.optim as optim\n",
    "from torch.utils.data import DataLoader, Dataset\n",
    "import numpy as np"
   ]
  },
  {
   "cell_type": "markdown",
   "metadata": {},
   "source": [
    "df_work.tag_list.value_counts()"
   ]
  },
  {
   "cell_type": "markdown",
   "metadata": {
    "id": "o3U7utRjxsPt"
   },
   "source": [
    "### Обучим на \"Массовая культура\""
   ]
  },
  {
   "cell_type": "code",
   "execution_count": 207,
   "metadata": {},
   "outputs": [],
   "source": [
    "device = torch.device('cuda' if torch.cuda.is_available() else 'cpu')"
   ]
  },
  {
   "cell_type": "code",
   "execution_count": 208,
   "metadata": {
    "id": "JHNLgJnDxDKX",
    "tags": []
   },
   "outputs": [],
   "source": [
    "class EmbeddingPairsDataset(Dataset):\n",
    "    def __init__(self, embeddings1, embeddings2, labels):\n",
    "        self.embeddings1 = embeddings1\n",
    "        self.embeddings2 = embeddings2\n",
    "        self.labels = labels\n",
    "\n",
    "    def __len__(self):\n",
    "        return len(self.labels)\n",
    "\n",
    "    def __getitem__(self, idx):\n",
    "        emb1 = torch.tensor(self.embeddings1[idx], dtype=torch.float32)\n",
    "        emb2 = torch.tensor(self.embeddings2[idx], dtype=torch.float32)\n",
    "        label = torch.tensor(self.labels[idx], dtype=torch.float32)\n",
    "        return emb1, emb2, label"
   ]
  },
  {
   "cell_type": "code",
   "execution_count": 209,
   "metadata": {
    "id": "sv96PofexKeO",
    "tags": []
   },
   "outputs": [],
   "source": [
    "class SiameseNetwork_1(nn.Module):\n",
    "    def __init__(self, embedding_dim=384):\n",
    "        super(SiameseNetwork, self).__init__()\n",
    "\n",
    "        self.head1 = nn.Sequential(\n",
    "            nn.Linear(embedding_dim, 128),\n",
    "            nn.ReLU(),\n",
    "            nn.Linear(128, 64),\n",
    "            nn.ReLU()\n",
    "        )\n",
    "\n",
    "        self.head2 = nn.Sequential(\n",
    "            nn.Linear(embedding_dim, 128),\n",
    "            nn.ReLU(),\n",
    "            nn.Linear(128, 64),\n",
    "            nn.ReLU()\n",
    "        )\n",
    "\n",
    "        self.classifier = nn.Sequential(\n",
    "            nn.Linear(64, 32),\n",
    "            nn.ReLU(),\n",
    "            nn.Linear(32, 1),\n",
    "            nn.Sigmoid()\n",
    "        )\n",
    "\n",
    "    def forward(self, emb1, emb2):\n",
    "        output1 = self.head1(emb1)\n",
    "        output2 = self.head2(emb2)\n",
    "\n",
    "        diff = torch.abs(output1 - output2)\n",
    "\n",
    "        output = self.classifier(diff)\n",
    "        return output"
   ]
  },
  {
   "cell_type": "code",
   "execution_count": 210,
   "metadata": {
    "colab": {
     "base_uri": "https://localhost:8080/",
     "height": 206
    },
    "id": "mJY2dMlgyGau",
    "outputId": "eb2705a5-d70a-465b-f3ae-c1aa7013dc87",
    "tags": []
   },
   "outputs": [
    {
     "data": {
      "text/html": [
       "<div>\n",
       "<style scoped>\n",
       "    .dataframe tbody tr th:only-of-type {\n",
       "        vertical-align: middle;\n",
       "    }\n",
       "\n",
       "    .dataframe tbody tr th {\n",
       "        vertical-align: top;\n",
       "    }\n",
       "\n",
       "    .dataframe thead th {\n",
       "        text-align: right;\n",
       "    }\n",
       "</style>\n",
       "<table border=\"1\" class=\"dataframe\">\n",
       "  <thead>\n",
       "    <tr style=\"text-align: right;\">\n",
       "      <th></th>\n",
       "      <th>title_discription</th>\n",
       "      <th>tag_list</th>\n",
       "      <th>tag_list_first</th>\n",
       "    </tr>\n",
       "  </thead>\n",
       "  <tbody>\n",
       "    <tr>\n",
       "      <th>573</th>\n",
       "      <td>Артмеханика. Концерт рэпера ST.. Концерт рэпер...</td>\n",
       "      <td>События и достопримечательности: Концерты и му...</td>\n",
       "      <td>События и достопримечательности</td>\n",
       "    </tr>\n",
       "    <tr>\n",
       "      <th>1225</th>\n",
       "      <td>Артмеханика. Выпуск 13. Кондитерское искусство...</td>\n",
       "      <td>Массовая культура</td>\n",
       "      <td>Массовая культура</td>\n",
       "    </tr>\n",
       "    <tr>\n",
       "      <th>1022</th>\n",
       "      <td>Артмеханика. Интервью. Руслан Вяльцев.. Кто та...</td>\n",
       "      <td>Информационные технологии</td>\n",
       "      <td>Информационные технологии</td>\n",
       "    </tr>\n",
       "    <tr>\n",
       "      <th>769</th>\n",
       "      <td>«Давай сделаем это на кухне» с Викой Цыгановой...</td>\n",
       "      <td>Семья и отношения</td>\n",
       "      <td>Семья и отношения</td>\n",
       "    </tr>\n",
       "    <tr>\n",
       "      <th>785</th>\n",
       "      <td>Домашняя кухня от шефа: Выпуск №4. Мечтали сде...</td>\n",
       "      <td>Еда и напитки: Кулинария</td>\n",
       "      <td>Еда и напитки</td>\n",
       "    </tr>\n",
       "  </tbody>\n",
       "</table>\n",
       "</div>"
      ],
      "text/plain": [
       "                                      title_discription  \\\n",
       "573   Артмеханика. Концерт рэпера ST.. Концерт рэпер...   \n",
       "1225  Артмеханика. Выпуск 13. Кондитерское искусство...   \n",
       "1022  Артмеханика. Интервью. Руслан Вяльцев.. Кто та...   \n",
       "769   «Давай сделаем это на кухне» с Викой Цыгановой...   \n",
       "785   Домашняя кухня от шефа: Выпуск №4. Мечтали сде...   \n",
       "\n",
       "                                               tag_list  \\\n",
       "573   События и достопримечательности: Концерты и му...   \n",
       "1225                                  Массовая культура   \n",
       "1022                          Информационные технологии   \n",
       "769                                   Семья и отношения   \n",
       "785                            Еда и напитки: Кулинария   \n",
       "\n",
       "                       tag_list_first  \n",
       "573   События и достопримечательности  \n",
       "1225                Массовая культура  \n",
       "1022        Информационные технологии  \n",
       "769                 Семья и отношения  \n",
       "785                     Еда и напитки  "
      ]
     },
     "execution_count": 210,
     "metadata": {},
     "output_type": "execute_result"
    }
   ],
   "source": [
    "train_df.head()"
   ]
  },
  {
   "cell_type": "code",
   "execution_count": 217,
   "metadata": {},
   "outputs": [
    {
     "name": "stderr",
     "output_type": "stream",
     "text": [
      "/tmp/ipykernel_921/4082777534.py:11: UserWarning: To copy construct from a tensor, it is recommended to use sourceTensor.clone().detach() or sourceTensor.clone().detach().requires_grad_(True), rather than torch.tensor(sourceTensor).\n",
      "  emb1 = torch.tensor(self.embeddings1[idx], dtype=torch.float32)\n",
      "/tmp/ipykernel_921/4082777534.py:12: UserWarning: To copy construct from a tensor, it is recommended to use sourceTensor.clone().detach() or sourceTensor.clone().detach().requires_grad_(True), rather than torch.tensor(sourceTensor).\n",
      "  emb2 = torch.tensor(self.embeddings2[idx], dtype=torch.float32)\n",
      "/tmp/ipykernel_921/4082777534.py:13: UserWarning: To copy construct from a tensor, it is recommended to use sourceTensor.clone().detach() or sourceTensor.clone().detach().requires_grad_(True), rather than torch.tensor(sourceTensor).\n",
      "  label = torch.tensor(self.labels[idx], dtype=torch.float32)\n"
     ]
    },
    {
     "name": "stdout",
     "output_type": "stream",
     "text": [
      "Epoch 1/25, Loss: 0.5914238388650119\n",
      "Epoch 2/25, Loss: 0.48638823442161083\n",
      "Epoch 3/25, Loss: 0.47756234696134925\n",
      "Epoch 4/25, Loss: 0.46490820753388107\n",
      "Epoch 5/25, Loss: 0.4631820279173553\n",
      "Epoch 6/25, Loss: 0.4513613353483379\n",
      "Epoch 7/25, Loss: 0.45646956702694297\n",
      "Epoch 8/25, Loss: 0.4487421032972634\n",
      "Epoch 9/25, Loss: 0.4474172294139862\n",
      "Epoch 10/25, Loss: 0.44477017573080957\n",
      "Epoch 11/25, Loss: 0.4469791376031935\n",
      "Epoch 12/25, Loss: 0.4453283669427037\n",
      "Epoch 13/25, Loss: 0.43650709954090416\n",
      "Epoch 14/25, Loss: 0.43737277132458985\n",
      "Epoch 15/25, Loss: 0.4295145063661039\n",
      "Epoch 16/25, Loss: 0.42853265162557364\n",
      "Epoch 17/25, Loss: 0.43489855993539095\n",
      "Epoch 18/25, Loss: 0.4277565199881792\n",
      "Epoch 19/25, Loss: 0.42129310593008995\n",
      "Epoch 20/25, Loss: 0.4220160080585629\n",
      "Epoch 21/25, Loss: 0.4164398554712534\n",
      "Epoch 22/25, Loss: 0.41819892078638077\n",
      "Epoch 23/25, Loss: 0.41774088703095913\n",
      "Epoch 24/25, Loss: 0.41224406799301505\n",
      "Epoch 25/25, Loss: 0.410826968960464\n"
     ]
    }
   ],
   "source": [
    "# Подготовка данных\n",
    "embeddings1 = torch.tensor([model.encode(i) for i in train_df.title_discription.tolist()], dtype=torch.float32)\n",
    "embeddings2 = torch.tensor([model.encode(\"Массовая культура\")] * embeddings1.shape[0], dtype=torch.float32)\n",
    "labels = torch.tensor([1 if i == \"Массовая культура\" else 0 for i in train_df.tag_list_first.tolist()], dtype=torch.float32)\n",
    "\n",
    "dataset = EmbeddingPairsDataset(embeddings1, embeddings2, labels)\n",
    "dataloader = DataLoader(dataset, batch_size=16, shuffle=True)\n",
    "\n",
    "# Инициализация модели, функции потерь и оптимизатора\n",
    "model_Siame = SiameseNetwork_1(embedding_dim=384).to(device)\n",
    "criterion = nn.BCELoss()\n",
    "optimizer = optim.Adam(model_Siame.parameters(), lr=0.001)\n",
    "\n",
    "num_epochs = 25\n",
    "model_Siame.train()\n",
    "\n",
    "# Обучение модели\n",
    "for epoch in range(num_epochs):\n",
    "    epoch_loss = 0\n",
    "    for emb1, emb2, label in dataloader:\n",
    "        emb1 = emb1.to(device)\n",
    "        emb2 = emb2.to(device)\n",
    "        label = label.to(device)\n",
    "        optimizer.zero_grad()\n",
    "\n",
    "        output = model_Siame(emb1, emb2).squeeze()\n",
    "\n",
    "        loss = criterion(output, label)\n",
    "        epoch_loss += loss.item()\n",
    "\n",
    "        loss.backward()\n",
    "        optimizer.step()\n",
    "\n",
    "    print(f'Epoch {epoch+1}/{num_epochs}, Loss: {epoch_loss / len(dataloader)}')"
   ]
  },
  {
   "cell_type": "code",
   "execution_count": 221,
   "metadata": {},
   "outputs": [],
   "source": [
    "# Сохранение модели\n",
    "torch.save(model_Siame.state_dict(), 'siamese_model_1.pth')"
   ]
  },
  {
   "cell_type": "code",
   "execution_count": 218,
   "metadata": {},
   "outputs": [
    {
     "data": {
      "text/plain": [
       "SentenceTransformer(\n",
       "  (0): Transformer({'max_seq_length': 512, 'do_lower_case': False}) with Transformer model: BertModel \n",
       "  (1): Pooling({'word_embedding_dimension': 384, 'pooling_mode_cls_token': False, 'pooling_mode_mean_tokens': True, 'pooling_mode_max_tokens': False, 'pooling_mode_mean_sqrt_len_tokens': False, 'pooling_mode_weightedmean_tokens': False, 'pooling_mode_lasttoken': False, 'include_prompt': True})\n",
       "  (2): Normalize()\n",
       ")"
      ]
     },
     "execution_count": 218,
     "metadata": {},
     "output_type": "execute_result"
    }
   ],
   "source": [
    "model.train()"
   ]
  },
  {
   "cell_type": "code",
   "execution_count": 219,
   "metadata": {},
   "outputs": [],
   "source": [
    "# Подготовка тестовых данных\n",
    "embeddings1_test = torch.tensor([model.encode(i) for i in test_df.title_discription.tolist()], dtype=torch.float32)\n",
    "embeddings2_test = torch.tensor([model.encode(\"Массовая культура\")] * embeddings1_test.shape[0], dtype=torch.float32)\n",
    "labels_test = torch.tensor([1 if i == \"Массовая культура\" else 0 for i in test_df.tag_list_first.tolist()], dtype=torch.float32)\n",
    "\n",
    "dataset_test = EmbeddingPairsDataset(embeddings1_test, embeddings2_test, labels_test)\n",
    "dataloader_test = DataLoader(dataset_test, batch_size=16, shuffle=False)"
   ]
  },
  {
   "cell_type": "code",
   "execution_count": 220,
   "metadata": {},
   "outputs": [
    {
     "name": "stdout",
     "output_type": "stream",
     "text": [
      "0.3089067669851439\n"
     ]
    },
    {
     "name": "stderr",
     "output_type": "stream",
     "text": [
      "/tmp/ipykernel_921/4082777534.py:11: UserWarning: To copy construct from a tensor, it is recommended to use sourceTensor.clone().detach() or sourceTensor.clone().detach().requires_grad_(True), rather than torch.tensor(sourceTensor).\n",
      "  emb1 = torch.tensor(self.embeddings1[idx], dtype=torch.float32)\n",
      "/tmp/ipykernel_921/4082777534.py:12: UserWarning: To copy construct from a tensor, it is recommended to use sourceTensor.clone().detach() or sourceTensor.clone().detach().requires_grad_(True), rather than torch.tensor(sourceTensor).\n",
      "  emb2 = torch.tensor(self.embeddings2[idx], dtype=torch.float32)\n",
      "/tmp/ipykernel_921/4082777534.py:13: UserWarning: To copy construct from a tensor, it is recommended to use sourceTensor.clone().detach() or sourceTensor.clone().detach().requires_grad_(True), rather than torch.tensor(sourceTensor).\n",
      "  label = torch.tensor(self.labels[idx], dtype=torch.float32)\n"
     ]
    }
   ],
   "source": [
    "# Оценка модели\n",
    "res_all = 0\n",
    "k = 0\n",
    "model_Siame.eval()\n",
    "with torch.no_grad():\n",
    "    for emb1, emb2, label in dataloader_test:\n",
    "        emb1 = emb1.to(device)\n",
    "        emb2 = emb2.to(device)\n",
    "        label = label.to(device)\n",
    "        output = model_Siame(emb1, emb2).squeeze()\n",
    "        prediction = (output > 0.5).float()\n",
    "        res = torch.sum(torch.abs(label - output)) / len(label)\n",
    "        res_all += res.item()\n",
    "        k += 1\n",
    "\n",
    "print(res_all / k)"
   ]
  },
  {
   "cell_type": "markdown",
   "metadata": {},
   "source": [
    "### Обучение на События и достопримечательности"
   ]
  },
  {
   "cell_type": "code",
   "execution_count": 228,
   "metadata": {},
   "outputs": [],
   "source": [
    "# Определяем устройство\n",
    "device = torch.device('cuda' if torch.cuda.is_available() else 'cpu')"
   ]
  },
  {
   "cell_type": "code",
   "execution_count": 229,
   "metadata": {},
   "outputs": [],
   "source": [
    "class EmbeddingPairsDataset(Dataset):\n",
    "    def __init__(self, embeddings1, embeddings2, labels):\n",
    "        self.embeddings1 = embeddings1\n",
    "        self.embeddings2 = embeddings2\n",
    "        self.labels = labels\n",
    "\n",
    "    def __len__(self):\n",
    "        return len(self.labels)\n",
    "\n",
    "    def __getitem__(self, idx):\n",
    "        emb1 = torch.tensor(self.embeddings1[idx], dtype=torch.float32)\n",
    "        emb2 = torch.tensor(self.embeddings2[idx], dtype=torch.float32)\n",
    "        label = torch.tensor(self.labels[idx], dtype=torch.float32)\n",
    "        return emb1, emb2, label"
   ]
  },
  {
   "cell_type": "code",
   "execution_count": 230,
   "metadata": {},
   "outputs": [],
   "source": [
    "class SiameseNetwork_1(nn.Module):\n",
    "    def __init__(self, embedding_dim=384):\n",
    "        super(SiameseNetwork, self).__init__()\n",
    "\n",
    "        self.head1 = nn.Sequential(\n",
    "            nn.Linear(embedding_dim, 128),\n",
    "            nn.ReLU(),\n",
    "            nn.Linear(128, 64),\n",
    "            nn.ReLU()\n",
    "        )\n",
    "\n",
    "        self.head2 = nn.Sequential(\n",
    "            nn.Linear(embedding_dim, 128),\n",
    "            nn.ReLU(),\n",
    "            nn.Linear(128, 64),\n",
    "            nn.ReLU()\n",
    "        )\n",
    "\n",
    "        self.classifier = nn.Sequential(\n",
    "            nn.Linear(64, 32),\n",
    "            nn.ReLU(),\n",
    "            nn.Linear(32, 1),\n",
    "            nn.Sigmoid()\n",
    "        )\n",
    "\n",
    "    def forward(self, emb1, emb2):\n",
    "        output1 = self.head1(emb1)\n",
    "        output2 = self.head2(emb2)\n",
    "\n",
    "        diff = torch.abs(output1 - output2)\n",
    "\n",
    "        output = self.classifier(diff)\n",
    "        return output"
   ]
  },
  {
   "cell_type": "code",
   "execution_count": 236,
   "metadata": {},
   "outputs": [
    {
     "ename": "TypeError",
     "evalue": "super(type, obj): obj must be an instance or subtype of type",
     "output_type": "error",
     "traceback": [
      "\u001b[0;31m---------------------------------------------------------------------------\u001b[0m",
      "\u001b[0;31mTypeError\u001b[0m                                 Traceback (most recent call last)",
      "Cell \u001b[0;32mIn[236], line 10\u001b[0m\n\u001b[1;32m      7\u001b[0m dataloader \u001b[38;5;241m=\u001b[39m DataLoader(dataset, batch_size\u001b[38;5;241m=\u001b[39m\u001b[38;5;241m16\u001b[39m, shuffle\u001b[38;5;241m=\u001b[39m\u001b[38;5;28;01mTrue\u001b[39;00m)\n\u001b[1;32m      9\u001b[0m \u001b[38;5;66;03m# Инициализация модели, функции потерь и оптимизатора\u001b[39;00m\n\u001b[0;32m---> 10\u001b[0m model_Siame \u001b[38;5;241m=\u001b[39m \u001b[43mSiameseNetwork_1\u001b[49m\u001b[43m(\u001b[49m\u001b[43membedding_dim\u001b[49m\u001b[38;5;241;43m=\u001b[39;49m\u001b[38;5;241;43m384\u001b[39;49m\u001b[43m)\u001b[49m\u001b[38;5;241m.\u001b[39mto(device)\n\u001b[1;32m     11\u001b[0m criterion \u001b[38;5;241m=\u001b[39m nn\u001b[38;5;241m.\u001b[39mBCELoss()\n\u001b[1;32m     12\u001b[0m optimizer \u001b[38;5;241m=\u001b[39m optim\u001b[38;5;241m.\u001b[39mAdam(model_Siame\u001b[38;5;241m.\u001b[39mparameters(), lr\u001b[38;5;241m=\u001b[39m\u001b[38;5;241m0.001\u001b[39m)\n",
      "Cell \u001b[0;32mIn[230], line 3\u001b[0m, in \u001b[0;36mSiameseNetwork_1.__init__\u001b[0;34m(self, embedding_dim)\u001b[0m\n\u001b[1;32m      2\u001b[0m \u001b[38;5;28;01mdef\u001b[39;00m \u001b[38;5;21m__init__\u001b[39m(\u001b[38;5;28mself\u001b[39m, embedding_dim\u001b[38;5;241m=\u001b[39m\u001b[38;5;241m384\u001b[39m):\n\u001b[0;32m----> 3\u001b[0m     \u001b[38;5;28;43msuper\u001b[39;49m\u001b[43m(\u001b[49m\u001b[43mSiameseNetwork\u001b[49m\u001b[43m,\u001b[49m\u001b[43m \u001b[49m\u001b[38;5;28;43mself\u001b[39;49m\u001b[43m)\u001b[49m\u001b[38;5;241m.\u001b[39m\u001b[38;5;21m__init__\u001b[39m()\n\u001b[1;32m      5\u001b[0m     \u001b[38;5;28mself\u001b[39m\u001b[38;5;241m.\u001b[39mhead1 \u001b[38;5;241m=\u001b[39m nn\u001b[38;5;241m.\u001b[39mSequential(\n\u001b[1;32m      6\u001b[0m         nn\u001b[38;5;241m.\u001b[39mLinear(embedding_dim, \u001b[38;5;241m128\u001b[39m),\n\u001b[1;32m      7\u001b[0m         nn\u001b[38;5;241m.\u001b[39mReLU(),\n\u001b[1;32m      8\u001b[0m         nn\u001b[38;5;241m.\u001b[39mLinear(\u001b[38;5;241m128\u001b[39m, \u001b[38;5;241m64\u001b[39m),\n\u001b[1;32m      9\u001b[0m         nn\u001b[38;5;241m.\u001b[39mReLU()\n\u001b[1;32m     10\u001b[0m     )\n\u001b[1;32m     12\u001b[0m     \u001b[38;5;28mself\u001b[39m\u001b[38;5;241m.\u001b[39mhead2 \u001b[38;5;241m=\u001b[39m nn\u001b[38;5;241m.\u001b[39mSequential(\n\u001b[1;32m     13\u001b[0m         nn\u001b[38;5;241m.\u001b[39mLinear(embedding_dim, \u001b[38;5;241m128\u001b[39m),\n\u001b[1;32m     14\u001b[0m         nn\u001b[38;5;241m.\u001b[39mReLU(),\n\u001b[1;32m     15\u001b[0m         nn\u001b[38;5;241m.\u001b[39mLinear(\u001b[38;5;241m128\u001b[39m, \u001b[38;5;241m64\u001b[39m),\n\u001b[1;32m     16\u001b[0m         nn\u001b[38;5;241m.\u001b[39mReLU()\n\u001b[1;32m     17\u001b[0m     )\n",
      "\u001b[0;31mTypeError\u001b[0m: super(type, obj): obj must be an instance or subtype of type"
     ]
    }
   ],
   "source": [
    "# Подготовка данных\n",
    "embeddings1 = torch.tensor([model.encode(i) for i in train_df.title_discription.tolist()], dtype=torch.float32)\n",
    "embeddings2 = torch.tensor([model.encode(\"События и достопримечательности\")] * embeddings1.shape[0], dtype=torch.float32)\n",
    "labels = torch.tensor([1 if i == \"События и достопримечательности\" else 0 for i in train_df.tag_list_first.tolist()], dtype=torch.float32)\n",
    "\n",
    "dataset = EmbeddingPairsDataset(embeddings1, embeddings2, labels)\n",
    "dataloader = DataLoader(dataset, batch_size=16, shuffle=True)\n",
    "\n",
    "# Инициализация модели, функции потерь и оптимизатора\n",
    "model_Siame = SiameseNetwork_1(embedding_dim=384).to(device)\n",
    "criterion = nn.BCELoss()\n",
    "optimizer = optim.Adam(model_Siame.parameters(), lr=0.001)\n",
    "\n",
    "num_epochs = 25\n",
    "model_Siame.train()\n",
    "\n",
    "# Обучение модели\n",
    "for epoch in range(num_epochs):\n",
    "    epoch_loss = 0\n",
    "    for emb1, emb2, label in dataloader:\n",
    "        emb1 = emb1.to(device)\n",
    "        emb2 = emb2.to(device)\n",
    "        label = label.to(device)\n",
    "        optimizer.zero_grad()\n",
    "\n",
    "        output = model_Siame(emb1, emb2).squeeze()\n",
    "\n",
    "        loss = criterion(output, label)\n",
    "        epoch_loss += loss.item()\n",
    "\n",
    "        loss.backward()\n",
    "        optimizer.step()\n",
    "\n",
    "    print(f'Epoch {epoch+1}/{num_epochs}, Loss: {epoch_loss / len(dataloader)}')"
   ]
  },
  {
   "cell_type": "code",
   "execution_count": null,
   "metadata": {},
   "outputs": [],
   "source": [
    "# Сохранение модели\n",
    "torch.save(model_Siame.state_dict(), 'siamese_model_1.pth')"
   ]
  },
  {
   "cell_type": "code",
   "execution_count": null,
   "metadata": {},
   "outputs": [],
   "source": [
    "# Подготовка тестовых данных\n",
    "embeddings1_test = torch.tensor([model.encode(i) for i in test_df.title_discription.tolist()], dtype=torch.float32)\n",
    "embeddings2_test = torch.tensor([model.encode(\"События и достопримечательности\")] * embeddings1_test.shape[0], dtype=torch.float32)\n",
    "labels_test = torch.tensor([1 if i == \"События и достопримечательности\" else 0 for i in test_df.tag_list_first.tolist()], dtype=torch.float32)\n",
    "\n",
    "dataset_test = EmbeddingPairsDataset(embeddings1_test, embeddings2_test, labels_test)\n",
    "dataloader_test = DataLoader(dataset_test, batch_size=16, shuffle=False)"
   ]
  },
  {
   "cell_type": "code",
   "execution_count": null,
   "metadata": {},
   "outputs": [],
   "source": [
    "# Оценка модели\n",
    "res_all = 0\n",
    "k = 0\n",
    "model_Siame.eval()\n",
    "with torch.no_grad():\n",
    "    for emb1, emb2, label in dataloader_test:\n",
    "        emb1 = emb1.to(device)\n",
    "        emb2 = emb2.to(device)\n",
    "        label = label.to(device)\n",
    "        output = model_Siame(emb1, emb2).squeeze()\n",
    "        prediction = (output > 0.5).float()\n",
    "        res = torch.sum(torch.abs(label - output)) / len(label)\n",
    "        res_all += res.item()\n",
    "        k += 1\n",
    "\n",
    "print(res_all / k)"
   ]
  },
  {
   "cell_type": "code",
   "execution_count": null,
   "metadata": {},
   "outputs": [],
   "source": []
  },
  {
   "cell_type": "code",
   "execution_count": null,
   "metadata": {},
   "outputs": [],
   "source": []
  },
  {
   "cell_type": "code",
   "execution_count": null,
   "metadata": {},
   "outputs": [],
   "source": []
  },
  {
   "cell_type": "code",
   "execution_count": 232,
   "metadata": {
    "id": "XLBGg6rpxoWq",
    "tags": []
   },
   "outputs": [],
   "source": [
    "embeddings1 = np.array([model.encode(i) for i in train_df.title_discription.tolist()])"
   ]
  },
  {
   "cell_type": "code",
   "execution_count": 233,
   "metadata": {
    "id": "qidEqBeyynvb",
    "tags": []
   },
   "outputs": [],
   "source": [
    "embeddings2 = np.array([model.encode(\"События и достопримечательности\")]*embeddings1.shape[0])\n",
    "labels = np.array([1 if i == \"События и достопримечательности\" else 0 for i in train_df.tag_list_first.tolist()])"
   ]
  },
  {
   "cell_type": "code",
   "execution_count": 234,
   "metadata": {
    "colab": {
     "base_uri": "https://localhost:8080/"
    },
    "id": "hb66-5pQxLeG",
    "outputId": "f78c27cb-663f-4f95-f285-aee1289f9629",
    "tags": []
   },
   "outputs": [
    {
     "ename": "RuntimeError",
     "evalue": "mat1 and mat2 shapes cannot be multiplied (16x384 and 768x128)",
     "output_type": "error",
     "traceback": [
      "\u001b[0;31m---------------------------------------------------------------------------\u001b[0m",
      "\u001b[0;31mRuntimeError\u001b[0m                              Traceback (most recent call last)",
      "Cell \u001b[0;32mIn[234], line 16\u001b[0m\n\u001b[1;32m     13\u001b[0m \u001b[38;5;28;01mfor\u001b[39;00m emb1, emb2, label \u001b[38;5;129;01min\u001b[39;00m dataloader:\n\u001b[1;32m     14\u001b[0m     optimizer\u001b[38;5;241m.\u001b[39mzero_grad()\n\u001b[0;32m---> 16\u001b[0m     output \u001b[38;5;241m=\u001b[39m \u001b[43mmodel_Siame\u001b[49m\u001b[43m(\u001b[49m\u001b[43memb1\u001b[49m\u001b[43m,\u001b[49m\u001b[43m \u001b[49m\u001b[43memb2\u001b[49m\u001b[43m)\u001b[49m\u001b[38;5;241m.\u001b[39msqueeze()\n\u001b[1;32m     19\u001b[0m     loss \u001b[38;5;241m=\u001b[39m criterion(output, label)\n\u001b[1;32m     20\u001b[0m     epoch_loss \u001b[38;5;241m+\u001b[39m\u001b[38;5;241m=\u001b[39m loss\u001b[38;5;241m.\u001b[39mitem()\n",
      "File \u001b[0;32m/opt/conda/lib/python3.10/site-packages/torch/nn/modules/module.py:1553\u001b[0m, in \u001b[0;36mModule._wrapped_call_impl\u001b[0;34m(self, *args, **kwargs)\u001b[0m\n\u001b[1;32m   1551\u001b[0m     \u001b[38;5;28;01mreturn\u001b[39;00m \u001b[38;5;28mself\u001b[39m\u001b[38;5;241m.\u001b[39m_compiled_call_impl(\u001b[38;5;241m*\u001b[39margs, \u001b[38;5;241m*\u001b[39m\u001b[38;5;241m*\u001b[39mkwargs)  \u001b[38;5;66;03m# type: ignore[misc]\u001b[39;00m\n\u001b[1;32m   1552\u001b[0m \u001b[38;5;28;01melse\u001b[39;00m:\n\u001b[0;32m-> 1553\u001b[0m     \u001b[38;5;28;01mreturn\u001b[39;00m \u001b[38;5;28;43mself\u001b[39;49m\u001b[38;5;241;43m.\u001b[39;49m\u001b[43m_call_impl\u001b[49m\u001b[43m(\u001b[49m\u001b[38;5;241;43m*\u001b[39;49m\u001b[43margs\u001b[49m\u001b[43m,\u001b[49m\u001b[43m \u001b[49m\u001b[38;5;241;43m*\u001b[39;49m\u001b[38;5;241;43m*\u001b[39;49m\u001b[43mkwargs\u001b[49m\u001b[43m)\u001b[49m\n",
      "File \u001b[0;32m/opt/conda/lib/python3.10/site-packages/torch/nn/modules/module.py:1562\u001b[0m, in \u001b[0;36mModule._call_impl\u001b[0;34m(self, *args, **kwargs)\u001b[0m\n\u001b[1;32m   1557\u001b[0m \u001b[38;5;66;03m# If we don't have any hooks, we want to skip the rest of the logic in\u001b[39;00m\n\u001b[1;32m   1558\u001b[0m \u001b[38;5;66;03m# this function, and just call forward.\u001b[39;00m\n\u001b[1;32m   1559\u001b[0m \u001b[38;5;28;01mif\u001b[39;00m \u001b[38;5;129;01mnot\u001b[39;00m (\u001b[38;5;28mself\u001b[39m\u001b[38;5;241m.\u001b[39m_backward_hooks \u001b[38;5;129;01mor\u001b[39;00m \u001b[38;5;28mself\u001b[39m\u001b[38;5;241m.\u001b[39m_backward_pre_hooks \u001b[38;5;129;01mor\u001b[39;00m \u001b[38;5;28mself\u001b[39m\u001b[38;5;241m.\u001b[39m_forward_hooks \u001b[38;5;129;01mor\u001b[39;00m \u001b[38;5;28mself\u001b[39m\u001b[38;5;241m.\u001b[39m_forward_pre_hooks\n\u001b[1;32m   1560\u001b[0m         \u001b[38;5;129;01mor\u001b[39;00m _global_backward_pre_hooks \u001b[38;5;129;01mor\u001b[39;00m _global_backward_hooks\n\u001b[1;32m   1561\u001b[0m         \u001b[38;5;129;01mor\u001b[39;00m _global_forward_hooks \u001b[38;5;129;01mor\u001b[39;00m _global_forward_pre_hooks):\n\u001b[0;32m-> 1562\u001b[0m     \u001b[38;5;28;01mreturn\u001b[39;00m \u001b[43mforward_call\u001b[49m\u001b[43m(\u001b[49m\u001b[38;5;241;43m*\u001b[39;49m\u001b[43margs\u001b[49m\u001b[43m,\u001b[49m\u001b[43m \u001b[49m\u001b[38;5;241;43m*\u001b[39;49m\u001b[38;5;241;43m*\u001b[39;49m\u001b[43mkwargs\u001b[49m\u001b[43m)\u001b[49m\n\u001b[1;32m   1564\u001b[0m \u001b[38;5;28;01mtry\u001b[39;00m:\n\u001b[1;32m   1565\u001b[0m     result \u001b[38;5;241m=\u001b[39m \u001b[38;5;28;01mNone\u001b[39;00m\n",
      "Cell \u001b[0;32mIn[209], line 27\u001b[0m, in \u001b[0;36mSiameseNetwork.forward\u001b[0;34m(self, emb1, emb2)\u001b[0m\n\u001b[1;32m     26\u001b[0m \u001b[38;5;28;01mdef\u001b[39;00m \u001b[38;5;21mforward\u001b[39m(\u001b[38;5;28mself\u001b[39m, emb1, emb2):\n\u001b[0;32m---> 27\u001b[0m     output1 \u001b[38;5;241m=\u001b[39m \u001b[38;5;28;43mself\u001b[39;49m\u001b[38;5;241;43m.\u001b[39;49m\u001b[43mhead1\u001b[49m\u001b[43m(\u001b[49m\u001b[43memb1\u001b[49m\u001b[43m)\u001b[49m\n\u001b[1;32m     28\u001b[0m     output2 \u001b[38;5;241m=\u001b[39m \u001b[38;5;28mself\u001b[39m\u001b[38;5;241m.\u001b[39mhead2(emb2)\n\u001b[1;32m     30\u001b[0m     diff \u001b[38;5;241m=\u001b[39m torch\u001b[38;5;241m.\u001b[39mabs(output1 \u001b[38;5;241m-\u001b[39m output2)\n",
      "File \u001b[0;32m/opt/conda/lib/python3.10/site-packages/torch/nn/modules/module.py:1553\u001b[0m, in \u001b[0;36mModule._wrapped_call_impl\u001b[0;34m(self, *args, **kwargs)\u001b[0m\n\u001b[1;32m   1551\u001b[0m     \u001b[38;5;28;01mreturn\u001b[39;00m \u001b[38;5;28mself\u001b[39m\u001b[38;5;241m.\u001b[39m_compiled_call_impl(\u001b[38;5;241m*\u001b[39margs, \u001b[38;5;241m*\u001b[39m\u001b[38;5;241m*\u001b[39mkwargs)  \u001b[38;5;66;03m# type: ignore[misc]\u001b[39;00m\n\u001b[1;32m   1552\u001b[0m \u001b[38;5;28;01melse\u001b[39;00m:\n\u001b[0;32m-> 1553\u001b[0m     \u001b[38;5;28;01mreturn\u001b[39;00m \u001b[38;5;28;43mself\u001b[39;49m\u001b[38;5;241;43m.\u001b[39;49m\u001b[43m_call_impl\u001b[49m\u001b[43m(\u001b[49m\u001b[38;5;241;43m*\u001b[39;49m\u001b[43margs\u001b[49m\u001b[43m,\u001b[49m\u001b[43m \u001b[49m\u001b[38;5;241;43m*\u001b[39;49m\u001b[38;5;241;43m*\u001b[39;49m\u001b[43mkwargs\u001b[49m\u001b[43m)\u001b[49m\n",
      "File \u001b[0;32m/opt/conda/lib/python3.10/site-packages/torch/nn/modules/module.py:1562\u001b[0m, in \u001b[0;36mModule._call_impl\u001b[0;34m(self, *args, **kwargs)\u001b[0m\n\u001b[1;32m   1557\u001b[0m \u001b[38;5;66;03m# If we don't have any hooks, we want to skip the rest of the logic in\u001b[39;00m\n\u001b[1;32m   1558\u001b[0m \u001b[38;5;66;03m# this function, and just call forward.\u001b[39;00m\n\u001b[1;32m   1559\u001b[0m \u001b[38;5;28;01mif\u001b[39;00m \u001b[38;5;129;01mnot\u001b[39;00m (\u001b[38;5;28mself\u001b[39m\u001b[38;5;241m.\u001b[39m_backward_hooks \u001b[38;5;129;01mor\u001b[39;00m \u001b[38;5;28mself\u001b[39m\u001b[38;5;241m.\u001b[39m_backward_pre_hooks \u001b[38;5;129;01mor\u001b[39;00m \u001b[38;5;28mself\u001b[39m\u001b[38;5;241m.\u001b[39m_forward_hooks \u001b[38;5;129;01mor\u001b[39;00m \u001b[38;5;28mself\u001b[39m\u001b[38;5;241m.\u001b[39m_forward_pre_hooks\n\u001b[1;32m   1560\u001b[0m         \u001b[38;5;129;01mor\u001b[39;00m _global_backward_pre_hooks \u001b[38;5;129;01mor\u001b[39;00m _global_backward_hooks\n\u001b[1;32m   1561\u001b[0m         \u001b[38;5;129;01mor\u001b[39;00m _global_forward_hooks \u001b[38;5;129;01mor\u001b[39;00m _global_forward_pre_hooks):\n\u001b[0;32m-> 1562\u001b[0m     \u001b[38;5;28;01mreturn\u001b[39;00m \u001b[43mforward_call\u001b[49m\u001b[43m(\u001b[49m\u001b[38;5;241;43m*\u001b[39;49m\u001b[43margs\u001b[49m\u001b[43m,\u001b[49m\u001b[43m \u001b[49m\u001b[38;5;241;43m*\u001b[39;49m\u001b[38;5;241;43m*\u001b[39;49m\u001b[43mkwargs\u001b[49m\u001b[43m)\u001b[49m\n\u001b[1;32m   1564\u001b[0m \u001b[38;5;28;01mtry\u001b[39;00m:\n\u001b[1;32m   1565\u001b[0m     result \u001b[38;5;241m=\u001b[39m \u001b[38;5;28;01mNone\u001b[39;00m\n",
      "File \u001b[0;32m/opt/conda/lib/python3.10/site-packages/torch/nn/modules/container.py:219\u001b[0m, in \u001b[0;36mSequential.forward\u001b[0;34m(self, input)\u001b[0m\n\u001b[1;32m    217\u001b[0m \u001b[38;5;28;01mdef\u001b[39;00m \u001b[38;5;21mforward\u001b[39m(\u001b[38;5;28mself\u001b[39m, \u001b[38;5;28minput\u001b[39m):\n\u001b[1;32m    218\u001b[0m     \u001b[38;5;28;01mfor\u001b[39;00m module \u001b[38;5;129;01min\u001b[39;00m \u001b[38;5;28mself\u001b[39m:\n\u001b[0;32m--> 219\u001b[0m         \u001b[38;5;28minput\u001b[39m \u001b[38;5;241m=\u001b[39m \u001b[43mmodule\u001b[49m\u001b[43m(\u001b[49m\u001b[38;5;28;43minput\u001b[39;49m\u001b[43m)\u001b[49m\n\u001b[1;32m    220\u001b[0m     \u001b[38;5;28;01mreturn\u001b[39;00m \u001b[38;5;28minput\u001b[39m\n",
      "File \u001b[0;32m/opt/conda/lib/python3.10/site-packages/torch/nn/modules/module.py:1553\u001b[0m, in \u001b[0;36mModule._wrapped_call_impl\u001b[0;34m(self, *args, **kwargs)\u001b[0m\n\u001b[1;32m   1551\u001b[0m     \u001b[38;5;28;01mreturn\u001b[39;00m \u001b[38;5;28mself\u001b[39m\u001b[38;5;241m.\u001b[39m_compiled_call_impl(\u001b[38;5;241m*\u001b[39margs, \u001b[38;5;241m*\u001b[39m\u001b[38;5;241m*\u001b[39mkwargs)  \u001b[38;5;66;03m# type: ignore[misc]\u001b[39;00m\n\u001b[1;32m   1552\u001b[0m \u001b[38;5;28;01melse\u001b[39;00m:\n\u001b[0;32m-> 1553\u001b[0m     \u001b[38;5;28;01mreturn\u001b[39;00m \u001b[38;5;28;43mself\u001b[39;49m\u001b[38;5;241;43m.\u001b[39;49m\u001b[43m_call_impl\u001b[49m\u001b[43m(\u001b[49m\u001b[38;5;241;43m*\u001b[39;49m\u001b[43margs\u001b[49m\u001b[43m,\u001b[49m\u001b[43m \u001b[49m\u001b[38;5;241;43m*\u001b[39;49m\u001b[38;5;241;43m*\u001b[39;49m\u001b[43mkwargs\u001b[49m\u001b[43m)\u001b[49m\n",
      "File \u001b[0;32m/opt/conda/lib/python3.10/site-packages/torch/nn/modules/module.py:1562\u001b[0m, in \u001b[0;36mModule._call_impl\u001b[0;34m(self, *args, **kwargs)\u001b[0m\n\u001b[1;32m   1557\u001b[0m \u001b[38;5;66;03m# If we don't have any hooks, we want to skip the rest of the logic in\u001b[39;00m\n\u001b[1;32m   1558\u001b[0m \u001b[38;5;66;03m# this function, and just call forward.\u001b[39;00m\n\u001b[1;32m   1559\u001b[0m \u001b[38;5;28;01mif\u001b[39;00m \u001b[38;5;129;01mnot\u001b[39;00m (\u001b[38;5;28mself\u001b[39m\u001b[38;5;241m.\u001b[39m_backward_hooks \u001b[38;5;129;01mor\u001b[39;00m \u001b[38;5;28mself\u001b[39m\u001b[38;5;241m.\u001b[39m_backward_pre_hooks \u001b[38;5;129;01mor\u001b[39;00m \u001b[38;5;28mself\u001b[39m\u001b[38;5;241m.\u001b[39m_forward_hooks \u001b[38;5;129;01mor\u001b[39;00m \u001b[38;5;28mself\u001b[39m\u001b[38;5;241m.\u001b[39m_forward_pre_hooks\n\u001b[1;32m   1560\u001b[0m         \u001b[38;5;129;01mor\u001b[39;00m _global_backward_pre_hooks \u001b[38;5;129;01mor\u001b[39;00m _global_backward_hooks\n\u001b[1;32m   1561\u001b[0m         \u001b[38;5;129;01mor\u001b[39;00m _global_forward_hooks \u001b[38;5;129;01mor\u001b[39;00m _global_forward_pre_hooks):\n\u001b[0;32m-> 1562\u001b[0m     \u001b[38;5;28;01mreturn\u001b[39;00m \u001b[43mforward_call\u001b[49m\u001b[43m(\u001b[49m\u001b[38;5;241;43m*\u001b[39;49m\u001b[43margs\u001b[49m\u001b[43m,\u001b[49m\u001b[43m \u001b[49m\u001b[38;5;241;43m*\u001b[39;49m\u001b[38;5;241;43m*\u001b[39;49m\u001b[43mkwargs\u001b[49m\u001b[43m)\u001b[49m\n\u001b[1;32m   1564\u001b[0m \u001b[38;5;28;01mtry\u001b[39;00m:\n\u001b[1;32m   1565\u001b[0m     result \u001b[38;5;241m=\u001b[39m \u001b[38;5;28;01mNone\u001b[39;00m\n",
      "File \u001b[0;32m/opt/conda/lib/python3.10/site-packages/torch/nn/modules/linear.py:117\u001b[0m, in \u001b[0;36mLinear.forward\u001b[0;34m(self, input)\u001b[0m\n\u001b[1;32m    116\u001b[0m \u001b[38;5;28;01mdef\u001b[39;00m \u001b[38;5;21mforward\u001b[39m(\u001b[38;5;28mself\u001b[39m, \u001b[38;5;28minput\u001b[39m: Tensor) \u001b[38;5;241m-\u001b[39m\u001b[38;5;241m>\u001b[39m Tensor:\n\u001b[0;32m--> 117\u001b[0m     \u001b[38;5;28;01mreturn\u001b[39;00m \u001b[43mF\u001b[49m\u001b[38;5;241;43m.\u001b[39;49m\u001b[43mlinear\u001b[49m\u001b[43m(\u001b[49m\u001b[38;5;28;43minput\u001b[39;49m\u001b[43m,\u001b[49m\u001b[43m \u001b[49m\u001b[38;5;28;43mself\u001b[39;49m\u001b[38;5;241;43m.\u001b[39;49m\u001b[43mweight\u001b[49m\u001b[43m,\u001b[49m\u001b[43m \u001b[49m\u001b[38;5;28;43mself\u001b[39;49m\u001b[38;5;241;43m.\u001b[39;49m\u001b[43mbias\u001b[49m\u001b[43m)\u001b[49m\n",
      "\u001b[0;31mRuntimeError\u001b[0m: mat1 and mat2 shapes cannot be multiplied (16x384 and 768x128)"
     ]
    }
   ],
   "source": [
    "dataset = EmbeddingPairsDataset(embeddings1, embeddings2, labels)\n",
    "dataloader = DataLoader(dataset, batch_size=16, shuffle=True)\n",
    "\n",
    "model_Siame = SiameseNetwork(embedding_dim=768)\n",
    "criterion = nn.BCELoss()\n",
    "optimizer = optim.Adam(model_Siame.parameters(), lr=0.001)\n",
    "\n",
    "num_epochs = 50\n",
    "model_Siame.train()\n",
    "\n",
    "for epoch in range(num_epochs):\n",
    "    epoch_loss = 0\n",
    "    for emb1, emb2, label in dataloader:\n",
    "        optimizer.zero_grad()\n",
    "\n",
    "        output = model_Siame(emb1, emb2).squeeze()\n",
    "\n",
    "\n",
    "        loss = criterion(output, label)\n",
    "        epoch_loss += loss.item()\n",
    "\n",
    "\n",
    "        loss.backward()\n",
    "        optimizer.step()\n",
    "\n",
    "    print(f'Epoch {epoch+1}/{num_epochs}, Loss: {epoch_loss / len(dataloader)}')"
   ]
  },
  {
   "cell_type": "code",
   "execution_count": null,
   "metadata": {
    "id": "sYzAYeVo0Gsm",
    "tags": []
   },
   "outputs": [],
   "source": [
    "embeddings1_test = np.array([model.encode(i) for i in test_df.title_discription.tolist()])\n",
    "embeddings2_test = np.array([model.encode(\"События и достопримечательности\")]*embeddings1.shape[0])\n",
    "labels_test = np.array([1 if i == \"События и достопримечательности\" else 0 for i in test_df.tag_list_first.tolist()])"
   ]
  },
  {
   "cell_type": "code",
   "execution_count": null,
   "metadata": {
    "id": "7WZtWFoUz-4V",
    "tags": []
   },
   "outputs": [],
   "source": [
    "dataset_test = EmbeddingPairsDataset(embeddings1_test, embeddings2_test, labels_test)\n",
    "dataloader_test = DataLoader(dataset, batch_size=16, shuffle=True)"
   ]
  },
  {
   "cell_type": "code",
   "execution_count": 193,
   "metadata": {
    "colab": {
     "base_uri": "https://localhost:8080/"
    },
    "id": "7GudGT-sxiqq",
    "outputId": "b5446430-ead8-4347-835c-09d557abbd97",
    "tags": []
   },
   "outputs": [
    {
     "name": "stdout",
     "output_type": "stream",
     "text": [
      "tensor(0.2518)\n"
     ]
    }
   ],
   "source": [
    "res_all = 0\n",
    "k = 0\n",
    "model_Siame.eval()\n",
    "with torch.no_grad():\n",
    "    for emb1, emb2, label in dataloader_test:\n",
    "        output = model_Siame(emb1, emb2).squeeze()\n",
    "        prediction = (output > 0.5).float()\n",
    "        res = sum(abs(label - output)) / len(label)\n",
    "        res_all += res\n",
    "        k += 1\n",
    "\n",
    "print(res_all / k)"
   ]
  },
  {
   "cell_type": "code",
   "execution_count": null,
   "metadata": {
    "id": "wbHSK6KVxk-c"
   },
   "outputs": [],
   "source": []
  }
 ],
 "metadata": {
  "accelerator": "GPU",
  "colab": {
   "gpuType": "T4",
   "provenance": [],
   "toc_visible": true
  },
  "kernelspec": {
   "display_name": "Python 3 (ipykernel)",
   "language": "python",
   "name": "python3"
  },
  "language_info": {
   "codemirror_mode": {
    "name": "ipython",
    "version": 3
   },
   "file_extension": ".py",
   "mimetype": "text/x-python",
   "name": "python",
   "nbconvert_exporter": "python",
   "pygments_lexer": "ipython3",
   "version": "3.10.14"
  },
  "widgets": {
   "application/vnd.jupyter.widget-state+json": {
    "0535a7f7e5674da19dd444c2edff066d": {
     "model_module": "@jupyter-widgets/base",
     "model_module_version": "1.2.0",
     "model_name": "LayoutModel",
     "state": {
      "_model_module": "@jupyter-widgets/base",
      "_model_module_version": "1.2.0",
      "_model_name": "LayoutModel",
      "_view_count": null,
      "_view_module": "@jupyter-widgets/base",
      "_view_module_version": "1.2.0",
      "_view_name": "LayoutView",
      "align_content": null,
      "align_items": null,
      "align_self": null,
      "border": null,
      "bottom": null,
      "display": null,
      "flex": null,
      "flex_flow": null,
      "grid_area": null,
      "grid_auto_columns": null,
      "grid_auto_flow": null,
      "grid_auto_rows": null,
      "grid_column": null,
      "grid_gap": null,
      "grid_row": null,
      "grid_template_areas": null,
      "grid_template_columns": null,
      "grid_template_rows": null,
      "height": null,
      "justify_content": null,
      "justify_items": null,
      "left": null,
      "margin": null,
      "max_height": null,
      "max_width": null,
      "min_height": null,
      "min_width": null,
      "object_fit": null,
      "object_position": null,
      "order": null,
      "overflow": null,
      "overflow_x": null,
      "overflow_y": null,
      "padding": null,
      "right": null,
      "top": null,
      "visibility": null,
      "width": null
     }
    },
    "06ce823847a14dee85539bae05c5540a": {
     "model_module": "@jupyter-widgets/controls",
     "model_module_version": "1.5.0",
     "model_name": "FloatProgressModel",
     "state": {
      "_dom_classes": [],
      "_model_module": "@jupyter-widgets/controls",
      "_model_module_version": "1.5.0",
      "_model_name": "FloatProgressModel",
      "_view_count": null,
      "_view_module": "@jupyter-widgets/controls",
      "_view_module_version": "1.5.0",
      "_view_name": "ProgressView",
      "bar_style": "success",
      "description": "",
      "description_tooltip": null,
      "layout": "IPY_MODEL_f6873b32a71f45c7b2d448b53db0731b",
      "max": 642,
      "min": 0,
      "orientation": "horizontal",
      "style": "IPY_MODEL_907c21cf53f549d8968bbc50808765c9",
      "value": 642
     }
    },
    "06effad6600440abb16aced46ec9b2cf": {
     "model_module": "@jupyter-widgets/controls",
     "model_module_version": "1.5.0",
     "model_name": "ProgressStyleModel",
     "state": {
      "_model_module": "@jupyter-widgets/controls",
      "_model_module_version": "1.5.0",
      "_model_name": "ProgressStyleModel",
      "_view_count": null,
      "_view_module": "@jupyter-widgets/base",
      "_view_module_version": "1.2.0",
      "_view_name": "StyleView",
      "bar_color": null,
      "description_width": ""
     }
    },
    "0e11c2303b1149cd942e1fb4470f9939": {
     "model_module": "@jupyter-widgets/base",
     "model_module_version": "1.2.0",
     "model_name": "LayoutModel",
     "state": {
      "_model_module": "@jupyter-widgets/base",
      "_model_module_version": "1.2.0",
      "_model_name": "LayoutModel",
      "_view_count": null,
      "_view_module": "@jupyter-widgets/base",
      "_view_module_version": "1.2.0",
      "_view_name": "LayoutView",
      "align_content": null,
      "align_items": null,
      "align_self": null,
      "border": null,
      "bottom": null,
      "display": null,
      "flex": null,
      "flex_flow": null,
      "grid_area": null,
      "grid_auto_columns": null,
      "grid_auto_flow": null,
      "grid_auto_rows": null,
      "grid_column": null,
      "grid_gap": null,
      "grid_row": null,
      "grid_template_areas": null,
      "grid_template_columns": null,
      "grid_template_rows": null,
      "height": null,
      "justify_content": null,
      "justify_items": null,
      "left": null,
      "margin": null,
      "max_height": null,
      "max_width": null,
      "min_height": null,
      "min_width": null,
      "object_fit": null,
      "object_position": null,
      "order": null,
      "overflow": null,
      "overflow_x": null,
      "overflow_y": null,
      "padding": null,
      "right": null,
      "top": null,
      "visibility": null,
      "width": null
     }
    },
    "11c3a909327949fb95f32597b9d5aabd": {
     "model_module": "@jupyter-widgets/controls",
     "model_module_version": "1.5.0",
     "model_name": "DescriptionStyleModel",
     "state": {
      "_model_module": "@jupyter-widgets/controls",
      "_model_module_version": "1.5.0",
      "_model_name": "DescriptionStyleModel",
      "_view_count": null,
      "_view_module": "@jupyter-widgets/base",
      "_view_module_version": "1.2.0",
      "_view_name": "StyleView",
      "description_width": ""
     }
    },
    "1355111749f445cd8197eacf9d0284ba": {
     "model_module": "@jupyter-widgets/controls",
     "model_module_version": "1.5.0",
     "model_name": "HBoxModel",
     "state": {
      "_dom_classes": [],
      "_model_module": "@jupyter-widgets/controls",
      "_model_module_version": "1.5.0",
      "_model_name": "HBoxModel",
      "_view_count": null,
      "_view_module": "@jupyter-widgets/controls",
      "_view_module_version": "1.5.0",
      "_view_name": "HBoxView",
      "box_style": "",
      "children": [
       "IPY_MODEL_b4fb3cf72aca417fa14e4ef4dcc0e21e",
       "IPY_MODEL_06ce823847a14dee85539bae05c5540a",
       "IPY_MODEL_f8364722922e40b1b02a6716b916e36a"
      ],
      "layout": "IPY_MODEL_34f7dc9307ca4c7aa2685e61fcd09ff7"
     }
    },
    "1383b1d1b0cc4edf8fb4730d7acd6895": {
     "model_module": "@jupyter-widgets/base",
     "model_module_version": "1.2.0",
     "model_name": "LayoutModel",
     "state": {
      "_model_module": "@jupyter-widgets/base",
      "_model_module_version": "1.2.0",
      "_model_name": "LayoutModel",
      "_view_count": null,
      "_view_module": "@jupyter-widgets/base",
      "_view_module_version": "1.2.0",
      "_view_name": "LayoutView",
      "align_content": null,
      "align_items": null,
      "align_self": null,
      "border": null,
      "bottom": null,
      "display": null,
      "flex": null,
      "flex_flow": null,
      "grid_area": null,
      "grid_auto_columns": null,
      "grid_auto_flow": null,
      "grid_auto_rows": null,
      "grid_column": null,
      "grid_gap": null,
      "grid_row": null,
      "grid_template_areas": null,
      "grid_template_columns": null,
      "grid_template_rows": null,
      "height": null,
      "justify_content": null,
      "justify_items": null,
      "left": null,
      "margin": null,
      "max_height": null,
      "max_width": null,
      "min_height": null,
      "min_width": null,
      "object_fit": null,
      "object_position": null,
      "order": null,
      "overflow": null,
      "overflow_x": null,
      "overflow_y": null,
      "padding": null,
      "right": null,
      "top": null,
      "visibility": null,
      "width": null
     }
    },
    "154ffd154e1c47f98e72db979c61a203": {
     "model_module": "@jupyter-widgets/controls",
     "model_module_version": "1.5.0",
     "model_name": "DescriptionStyleModel",
     "state": {
      "_model_module": "@jupyter-widgets/controls",
      "_model_module_version": "1.5.0",
      "_model_name": "DescriptionStyleModel",
      "_view_count": null,
      "_view_module": "@jupyter-widgets/base",
      "_view_module_version": "1.2.0",
      "_view_name": "StyleView",
      "description_width": ""
     }
    },
    "1640b41100af4542a2cb009e4b03c1fd": {
     "model_module": "@jupyter-widgets/base",
     "model_module_version": "1.2.0",
     "model_name": "LayoutModel",
     "state": {
      "_model_module": "@jupyter-widgets/base",
      "_model_module_version": "1.2.0",
      "_model_name": "LayoutModel",
      "_view_count": null,
      "_view_module": "@jupyter-widgets/base",
      "_view_module_version": "1.2.0",
      "_view_name": "LayoutView",
      "align_content": null,
      "align_items": null,
      "align_self": null,
      "border": null,
      "bottom": null,
      "display": null,
      "flex": null,
      "flex_flow": null,
      "grid_area": null,
      "grid_auto_columns": null,
      "grid_auto_flow": null,
      "grid_auto_rows": null,
      "grid_column": null,
      "grid_gap": null,
      "grid_row": null,
      "grid_template_areas": null,
      "grid_template_columns": null,
      "grid_template_rows": null,
      "height": null,
      "justify_content": null,
      "justify_items": null,
      "left": null,
      "margin": null,
      "max_height": null,
      "max_width": null,
      "min_height": null,
      "min_width": null,
      "object_fit": null,
      "object_position": null,
      "order": null,
      "overflow": null,
      "overflow_x": null,
      "overflow_y": null,
      "padding": null,
      "right": null,
      "top": null,
      "visibility": null,
      "width": "20px"
     }
    },
    "22f5c3326b714de4820776b991e76891": {
     "model_module": "@jupyter-widgets/controls",
     "model_module_version": "1.5.0",
     "model_name": "ProgressStyleModel",
     "state": {
      "_model_module": "@jupyter-widgets/controls",
      "_model_module_version": "1.5.0",
      "_model_name": "ProgressStyleModel",
      "_view_count": null,
      "_view_module": "@jupyter-widgets/base",
      "_view_module_version": "1.2.0",
      "_view_name": "StyleView",
      "bar_color": null,
      "description_width": ""
     }
    },
    "299e912a1b9f4ce682c3b0858d13c94d": {
     "model_module": "@jupyter-widgets/controls",
     "model_module_version": "1.5.0",
     "model_name": "HTMLModel",
     "state": {
      "_dom_classes": [],
      "_model_module": "@jupyter-widgets/controls",
      "_model_module_version": "1.5.0",
      "_model_name": "HTMLModel",
      "_view_count": null,
      "_view_module": "@jupyter-widgets/controls",
      "_view_module_version": "1.5.0",
      "_view_name": "HTMLView",
      "description": "",
      "description_tooltip": null,
      "layout": "IPY_MODEL_3eda071721cc4f958f86a58de0439009",
      "placeholder": "​",
      "style": "IPY_MODEL_680e02bf323140a9bfe9e661e647b7e3",
      "value": " 611/? [00:17&lt;00:00, 32.32it/s]"
     }
    },
    "2a3ab44d58524823a074a243de74f6a8": {
     "model_module": "@jupyter-widgets/controls",
     "model_module_version": "1.5.0",
     "model_name": "ProgressStyleModel",
     "state": {
      "_model_module": "@jupyter-widgets/controls",
      "_model_module_version": "1.5.0",
      "_model_name": "ProgressStyleModel",
      "_view_count": null,
      "_view_module": "@jupyter-widgets/base",
      "_view_module_version": "1.2.0",
      "_view_name": "StyleView",
      "bar_color": null,
      "description_width": ""
     }
    },
    "34185fbed9e2435380b0580e1697d1aa": {
     "model_module": "@jupyter-widgets/base",
     "model_module_version": "1.2.0",
     "model_name": "LayoutModel",
     "state": {
      "_model_module": "@jupyter-widgets/base",
      "_model_module_version": "1.2.0",
      "_model_name": "LayoutModel",
      "_view_count": null,
      "_view_module": "@jupyter-widgets/base",
      "_view_module_version": "1.2.0",
      "_view_name": "LayoutView",
      "align_content": null,
      "align_items": null,
      "align_self": null,
      "border": null,
      "bottom": null,
      "display": null,
      "flex": null,
      "flex_flow": null,
      "grid_area": null,
      "grid_auto_columns": null,
      "grid_auto_flow": null,
      "grid_auto_rows": null,
      "grid_column": null,
      "grid_gap": null,
      "grid_row": null,
      "grid_template_areas": null,
      "grid_template_columns": null,
      "grid_template_rows": null,
      "height": null,
      "justify_content": null,
      "justify_items": null,
      "left": null,
      "margin": null,
      "max_height": null,
      "max_width": null,
      "min_height": null,
      "min_width": null,
      "object_fit": null,
      "object_position": null,
      "order": null,
      "overflow": null,
      "overflow_x": null,
      "overflow_y": null,
      "padding": null,
      "right": null,
      "top": null,
      "visibility": null,
      "width": null
     }
    },
    "34f7dc9307ca4c7aa2685e61fcd09ff7": {
     "model_module": "@jupyter-widgets/base",
     "model_module_version": "1.2.0",
     "model_name": "LayoutModel",
     "state": {
      "_model_module": "@jupyter-widgets/base",
      "_model_module_version": "1.2.0",
      "_model_name": "LayoutModel",
      "_view_count": null,
      "_view_module": "@jupyter-widgets/base",
      "_view_module_version": "1.2.0",
      "_view_name": "LayoutView",
      "align_content": null,
      "align_items": null,
      "align_self": null,
      "border": null,
      "bottom": null,
      "display": null,
      "flex": null,
      "flex_flow": null,
      "grid_area": null,
      "grid_auto_columns": null,
      "grid_auto_flow": null,
      "grid_auto_rows": null,
      "grid_column": null,
      "grid_gap": null,
      "grid_row": null,
      "grid_template_areas": null,
      "grid_template_columns": null,
      "grid_template_rows": null,
      "height": null,
      "justify_content": null,
      "justify_items": null,
      "left": null,
      "margin": null,
      "max_height": null,
      "max_width": null,
      "min_height": null,
      "min_width": null,
      "object_fit": null,
      "object_position": null,
      "order": null,
      "overflow": null,
      "overflow_x": null,
      "overflow_y": null,
      "padding": null,
      "right": null,
      "top": null,
      "visibility": null,
      "width": null
     }
    },
    "3a3d979bd9284a80823605b76655fc83": {
     "model_module": "@jupyter-widgets/base",
     "model_module_version": "1.2.0",
     "model_name": "LayoutModel",
     "state": {
      "_model_module": "@jupyter-widgets/base",
      "_model_module_version": "1.2.0",
      "_model_name": "LayoutModel",
      "_view_count": null,
      "_view_module": "@jupyter-widgets/base",
      "_view_module_version": "1.2.0",
      "_view_name": "LayoutView",
      "align_content": null,
      "align_items": null,
      "align_self": null,
      "border": null,
      "bottom": null,
      "display": null,
      "flex": null,
      "flex_flow": null,
      "grid_area": null,
      "grid_auto_columns": null,
      "grid_auto_flow": null,
      "grid_auto_rows": null,
      "grid_column": null,
      "grid_gap": null,
      "grid_row": null,
      "grid_template_areas": null,
      "grid_template_columns": null,
      "grid_template_rows": null,
      "height": null,
      "justify_content": null,
      "justify_items": null,
      "left": null,
      "margin": null,
      "max_height": null,
      "max_width": null,
      "min_height": null,
      "min_width": null,
      "object_fit": null,
      "object_position": null,
      "order": null,
      "overflow": null,
      "overflow_x": null,
      "overflow_y": null,
      "padding": null,
      "right": null,
      "top": null,
      "visibility": null,
      "width": null
     }
    },
    "3eda071721cc4f958f86a58de0439009": {
     "model_module": "@jupyter-widgets/base",
     "model_module_version": "1.2.0",
     "model_name": "LayoutModel",
     "state": {
      "_model_module": "@jupyter-widgets/base",
      "_model_module_version": "1.2.0",
      "_model_name": "LayoutModel",
      "_view_count": null,
      "_view_module": "@jupyter-widgets/base",
      "_view_module_version": "1.2.0",
      "_view_name": "LayoutView",
      "align_content": null,
      "align_items": null,
      "align_self": null,
      "border": null,
      "bottom": null,
      "display": null,
      "flex": null,
      "flex_flow": null,
      "grid_area": null,
      "grid_auto_columns": null,
      "grid_auto_flow": null,
      "grid_auto_rows": null,
      "grid_column": null,
      "grid_gap": null,
      "grid_row": null,
      "grid_template_areas": null,
      "grid_template_columns": null,
      "grid_template_rows": null,
      "height": null,
      "justify_content": null,
      "justify_items": null,
      "left": null,
      "margin": null,
      "max_height": null,
      "max_width": null,
      "min_height": null,
      "min_width": null,
      "object_fit": null,
      "object_position": null,
      "order": null,
      "overflow": null,
      "overflow_x": null,
      "overflow_y": null,
      "padding": null,
      "right": null,
      "top": null,
      "visibility": null,
      "width": null
     }
    },
    "4299e1237eed4c688fb6e9a0cf0ebe73": {
     "model_module": "@jupyter-widgets/controls",
     "model_module_version": "1.5.0",
     "model_name": "HTMLModel",
     "state": {
      "_dom_classes": [],
      "_model_module": "@jupyter-widgets/controls",
      "_model_module_version": "1.5.0",
      "_model_name": "HTMLModel",
      "_view_count": null,
      "_view_module": "@jupyter-widgets/controls",
      "_view_module_version": "1.5.0",
      "_view_name": "HTMLView",
      "description": "",
      "description_tooltip": null,
      "layout": "IPY_MODEL_6ca3d55dc2b34e849aec5a4f597d9014",
      "placeholder": "​",
      "style": "IPY_MODEL_e90fb6c87ef84cc6a71f3590a54d559a",
      "value": "tokenizer_config.json: 100%"
     }
    },
    "46b3322f45f14147b767d79e82d163cf": {
     "model_module": "@jupyter-widgets/base",
     "model_module_version": "1.2.0",
     "model_name": "LayoutModel",
     "state": {
      "_model_module": "@jupyter-widgets/base",
      "_model_module_version": "1.2.0",
      "_model_name": "LayoutModel",
      "_view_count": null,
      "_view_module": "@jupyter-widgets/base",
      "_view_module_version": "1.2.0",
      "_view_name": "LayoutView",
      "align_content": null,
      "align_items": null,
      "align_self": null,
      "border": null,
      "bottom": null,
      "display": null,
      "flex": null,
      "flex_flow": null,
      "grid_area": null,
      "grid_auto_columns": null,
      "grid_auto_flow": null,
      "grid_auto_rows": null,
      "grid_column": null,
      "grid_gap": null,
      "grid_row": null,
      "grid_template_areas": null,
      "grid_template_columns": null,
      "grid_template_rows": null,
      "height": null,
      "justify_content": null,
      "justify_items": null,
      "left": null,
      "margin": null,
      "max_height": null,
      "max_width": null,
      "min_height": null,
      "min_width": null,
      "object_fit": null,
      "object_position": null,
      "order": null,
      "overflow": null,
      "overflow_x": null,
      "overflow_y": null,
      "padding": null,
      "right": null,
      "top": null,
      "visibility": null,
      "width": null
     }
    },
    "54dd038f798047a09884e518967293c2": {
     "model_module": "@jupyter-widgets/controls",
     "model_module_version": "1.5.0",
     "model_name": "HBoxModel",
     "state": {
      "_dom_classes": [],
      "_model_module": "@jupyter-widgets/controls",
      "_model_module_version": "1.5.0",
      "_model_name": "HBoxModel",
      "_view_count": null,
      "_view_module": "@jupyter-widgets/controls",
      "_view_module_version": "1.5.0",
      "_view_name": "HBoxView",
      "box_style": "",
      "children": [
       "IPY_MODEL_f70f225aac4a44e3a2bb5c650a14b928",
       "IPY_MODEL_f2db12f32919480c8726b7622ea83bfd",
       "IPY_MODEL_299e912a1b9f4ce682c3b0858d13c94d"
      ],
      "layout": "IPY_MODEL_0535a7f7e5674da19dd444c2edff066d"
     }
    },
    "5b3c2bf5c2f94d808c8e770803c9fd1f": {
     "model_module": "@jupyter-widgets/base",
     "model_module_version": "1.2.0",
     "model_name": "LayoutModel",
     "state": {
      "_model_module": "@jupyter-widgets/base",
      "_model_module_version": "1.2.0",
      "_model_name": "LayoutModel",
      "_view_count": null,
      "_view_module": "@jupyter-widgets/base",
      "_view_module_version": "1.2.0",
      "_view_name": "LayoutView",
      "align_content": null,
      "align_items": null,
      "align_self": null,
      "border": null,
      "bottom": null,
      "display": null,
      "flex": null,
      "flex_flow": null,
      "grid_area": null,
      "grid_auto_columns": null,
      "grid_auto_flow": null,
      "grid_auto_rows": null,
      "grid_column": null,
      "grid_gap": null,
      "grid_row": null,
      "grid_template_areas": null,
      "grid_template_columns": null,
      "grid_template_rows": null,
      "height": null,
      "justify_content": null,
      "justify_items": null,
      "left": null,
      "margin": null,
      "max_height": null,
      "max_width": null,
      "min_height": null,
      "min_width": null,
      "object_fit": null,
      "object_position": null,
      "order": null,
      "overflow": null,
      "overflow_x": null,
      "overflow_y": null,
      "padding": null,
      "right": null,
      "top": null,
      "visibility": null,
      "width": null
     }
    },
    "5f7ee828bc374596afa5107d8c8dbd06": {
     "model_module": "@jupyter-widgets/base",
     "model_module_version": "1.2.0",
     "model_name": "LayoutModel",
     "state": {
      "_model_module": "@jupyter-widgets/base",
      "_model_module_version": "1.2.0",
      "_model_name": "LayoutModel",
      "_view_count": null,
      "_view_module": "@jupyter-widgets/base",
      "_view_module_version": "1.2.0",
      "_view_name": "LayoutView",
      "align_content": null,
      "align_items": null,
      "align_self": null,
      "border": null,
      "bottom": null,
      "display": null,
      "flex": null,
      "flex_flow": null,
      "grid_area": null,
      "grid_auto_columns": null,
      "grid_auto_flow": null,
      "grid_auto_rows": null,
      "grid_column": null,
      "grid_gap": null,
      "grid_row": null,
      "grid_template_areas": null,
      "grid_template_columns": null,
      "grid_template_rows": null,
      "height": null,
      "justify_content": null,
      "justify_items": null,
      "left": null,
      "margin": null,
      "max_height": null,
      "max_width": null,
      "min_height": null,
      "min_width": null,
      "object_fit": null,
      "object_position": null,
      "order": null,
      "overflow": null,
      "overflow_x": null,
      "overflow_y": null,
      "padding": null,
      "right": null,
      "top": null,
      "visibility": null,
      "width": null
     }
    },
    "61027e3208bb4509a764fdedcec321f9": {
     "model_module": "@jupyter-widgets/controls",
     "model_module_version": "1.5.0",
     "model_name": "HTMLModel",
     "state": {
      "_dom_classes": [],
      "_model_module": "@jupyter-widgets/controls",
      "_model_module_version": "1.5.0",
      "_model_name": "HTMLModel",
      "_view_count": null,
      "_view_module": "@jupyter-widgets/controls",
      "_view_module_version": "1.5.0",
      "_view_name": "HTMLView",
      "description": "",
      "description_tooltip": null,
      "layout": "IPY_MODEL_a1ef46a243cc4cc4b0ad6e4a6c1af761",
      "placeholder": "​",
      "style": "IPY_MODEL_11c3a909327949fb95f32597b9d5aabd",
      "value": "special_tokens_map.json: 100%"
     }
    },
    "62fe69bef4814f789f19075a4eff5833": {
     "model_module": "@jupyter-widgets/controls",
     "model_module_version": "1.5.0",
     "model_name": "HBoxModel",
     "state": {
      "_dom_classes": [],
      "_model_module": "@jupyter-widgets/controls",
      "_model_module_version": "1.5.0",
      "_model_name": "HBoxModel",
      "_view_count": null,
      "_view_module": "@jupyter-widgets/controls",
      "_view_module_version": "1.5.0",
      "_view_name": "HBoxView",
      "box_style": "",
      "children": [
       "IPY_MODEL_61027e3208bb4509a764fdedcec321f9",
       "IPY_MODEL_9ca3080a5ce046369d0bc4244cbe4930",
       "IPY_MODEL_fea3caf8212142e48079e51e37bb7421"
      ],
      "layout": "IPY_MODEL_46b3322f45f14147b767d79e82d163cf"
     }
    },
    "632b0b3267ad420392f5123606c94837": {
     "model_module": "@jupyter-widgets/base",
     "model_module_version": "1.2.0",
     "model_name": "LayoutModel",
     "state": {
      "_model_module": "@jupyter-widgets/base",
      "_model_module_version": "1.2.0",
      "_model_name": "LayoutModel",
      "_view_count": null,
      "_view_module": "@jupyter-widgets/base",
      "_view_module_version": "1.2.0",
      "_view_name": "LayoutView",
      "align_content": null,
      "align_items": null,
      "align_self": null,
      "border": null,
      "bottom": null,
      "display": null,
      "flex": null,
      "flex_flow": null,
      "grid_area": null,
      "grid_auto_columns": null,
      "grid_auto_flow": null,
      "grid_auto_rows": null,
      "grid_column": null,
      "grid_gap": null,
      "grid_row": null,
      "grid_template_areas": null,
      "grid_template_columns": null,
      "grid_template_rows": null,
      "height": null,
      "justify_content": null,
      "justify_items": null,
      "left": null,
      "margin": null,
      "max_height": null,
      "max_width": null,
      "min_height": null,
      "min_width": null,
      "object_fit": null,
      "object_position": null,
      "order": null,
      "overflow": null,
      "overflow_x": null,
      "overflow_y": null,
      "padding": null,
      "right": null,
      "top": null,
      "visibility": null,
      "width": null
     }
    },
    "64c6c12bf12f415a9384bd2f4b8b1526": {
     "model_module": "@jupyter-widgets/controls",
     "model_module_version": "1.5.0",
     "model_name": "DescriptionStyleModel",
     "state": {
      "_model_module": "@jupyter-widgets/controls",
      "_model_module_version": "1.5.0",
      "_model_name": "DescriptionStyleModel",
      "_view_count": null,
      "_view_module": "@jupyter-widgets/base",
      "_view_module_version": "1.2.0",
      "_view_name": "StyleView",
      "description_width": ""
     }
    },
    "680e02bf323140a9bfe9e661e647b7e3": {
     "model_module": "@jupyter-widgets/controls",
     "model_module_version": "1.5.0",
     "model_name": "DescriptionStyleModel",
     "state": {
      "_model_module": "@jupyter-widgets/controls",
      "_model_module_version": "1.5.0",
      "_model_name": "DescriptionStyleModel",
      "_view_count": null,
      "_view_module": "@jupyter-widgets/base",
      "_view_module_version": "1.2.0",
      "_view_name": "StyleView",
      "description_width": ""
     }
    },
    "68d0dcdbc25140f0b7ca050bc1f3cdb0": {
     "model_module": "@jupyter-widgets/controls",
     "model_module_version": "1.5.0",
     "model_name": "DescriptionStyleModel",
     "state": {
      "_model_module": "@jupyter-widgets/controls",
      "_model_module_version": "1.5.0",
      "_model_name": "DescriptionStyleModel",
      "_view_count": null,
      "_view_module": "@jupyter-widgets/base",
      "_view_module_version": "1.2.0",
      "_view_name": "StyleView",
      "description_width": ""
     }
    },
    "699a11be5a8748b5961e4aff5a226167": {
     "model_module": "@jupyter-widgets/controls",
     "model_module_version": "1.5.0",
     "model_name": "HTMLModel",
     "state": {
      "_dom_classes": [],
      "_model_module": "@jupyter-widgets/controls",
      "_model_module_version": "1.5.0",
      "_model_name": "HTMLModel",
      "_view_count": null,
      "_view_module": "@jupyter-widgets/controls",
      "_view_module_version": "1.5.0",
      "_view_name": "HTMLView",
      "description": "",
      "description_tooltip": null,
      "layout": "IPY_MODEL_85ae441cbcf24ea3897cee20d5d55718",
      "placeholder": "​",
      "style": "IPY_MODEL_154ffd154e1c47f98e72db979c61a203",
      "value": " 1.65M/1.65M [00:01&lt;00:00, 1.66MB/s]"
     }
    },
    "6c477496063d445f9ad474049c1dab47": {
     "model_module": "@jupyter-widgets/controls",
     "model_module_version": "1.5.0",
     "model_name": "HBoxModel",
     "state": {
      "_dom_classes": [],
      "_model_module": "@jupyter-widgets/controls",
      "_model_module_version": "1.5.0",
      "_model_name": "HBoxModel",
      "_view_count": null,
      "_view_module": "@jupyter-widgets/controls",
      "_view_module_version": "1.5.0",
      "_view_name": "HBoxView",
      "box_style": "",
      "children": [
       "IPY_MODEL_98b98cd22c1a4195a679228c7ca39608",
       "IPY_MODEL_c37867a301b74db09175d090ff374405",
       "IPY_MODEL_699a11be5a8748b5961e4aff5a226167"
      ],
      "layout": "IPY_MODEL_726432d1a3a1423faa76011900cfb584"
     }
    },
    "6ca3d55dc2b34e849aec5a4f597d9014": {
     "model_module": "@jupyter-widgets/base",
     "model_module_version": "1.2.0",
     "model_name": "LayoutModel",
     "state": {
      "_model_module": "@jupyter-widgets/base",
      "_model_module_version": "1.2.0",
      "_model_name": "LayoutModel",
      "_view_count": null,
      "_view_module": "@jupyter-widgets/base",
      "_view_module_version": "1.2.0",
      "_view_name": "LayoutView",
      "align_content": null,
      "align_items": null,
      "align_self": null,
      "border": null,
      "bottom": null,
      "display": null,
      "flex": null,
      "flex_flow": null,
      "grid_area": null,
      "grid_auto_columns": null,
      "grid_auto_flow": null,
      "grid_auto_rows": null,
      "grid_column": null,
      "grid_gap": null,
      "grid_row": null,
      "grid_template_areas": null,
      "grid_template_columns": null,
      "grid_template_rows": null,
      "height": null,
      "justify_content": null,
      "justify_items": null,
      "left": null,
      "margin": null,
      "max_height": null,
      "max_width": null,
      "min_height": null,
      "min_width": null,
      "object_fit": null,
      "object_position": null,
      "order": null,
      "overflow": null,
      "overflow_x": null,
      "overflow_y": null,
      "padding": null,
      "right": null,
      "top": null,
      "visibility": null,
      "width": null
     }
    },
    "726432d1a3a1423faa76011900cfb584": {
     "model_module": "@jupyter-widgets/base",
     "model_module_version": "1.2.0",
     "model_name": "LayoutModel",
     "state": {
      "_model_module": "@jupyter-widgets/base",
      "_model_module_version": "1.2.0",
      "_model_name": "LayoutModel",
      "_view_count": null,
      "_view_module": "@jupyter-widgets/base",
      "_view_module_version": "1.2.0",
      "_view_name": "LayoutView",
      "align_content": null,
      "align_items": null,
      "align_self": null,
      "border": null,
      "bottom": null,
      "display": null,
      "flex": null,
      "flex_flow": null,
      "grid_area": null,
      "grid_auto_columns": null,
      "grid_auto_flow": null,
      "grid_auto_rows": null,
      "grid_column": null,
      "grid_gap": null,
      "grid_row": null,
      "grid_template_areas": null,
      "grid_template_columns": null,
      "grid_template_rows": null,
      "height": null,
      "justify_content": null,
      "justify_items": null,
      "left": null,
      "margin": null,
      "max_height": null,
      "max_width": null,
      "min_height": null,
      "min_width": null,
      "object_fit": null,
      "object_position": null,
      "order": null,
      "overflow": null,
      "overflow_x": null,
      "overflow_y": null,
      "padding": null,
      "right": null,
      "top": null,
      "visibility": null,
      "width": null
     }
    },
    "73a562c98dd947f2b32dddd9abc49921": {
     "model_module": "@jupyter-widgets/base",
     "model_module_version": "1.2.0",
     "model_name": "LayoutModel",
     "state": {
      "_model_module": "@jupyter-widgets/base",
      "_model_module_version": "1.2.0",
      "_model_name": "LayoutModel",
      "_view_count": null,
      "_view_module": "@jupyter-widgets/base",
      "_view_module_version": "1.2.0",
      "_view_name": "LayoutView",
      "align_content": null,
      "align_items": null,
      "align_self": null,
      "border": null,
      "bottom": null,
      "display": null,
      "flex": null,
      "flex_flow": null,
      "grid_area": null,
      "grid_auto_columns": null,
      "grid_auto_flow": null,
      "grid_auto_rows": null,
      "grid_column": null,
      "grid_gap": null,
      "grid_row": null,
      "grid_template_areas": null,
      "grid_template_columns": null,
      "grid_template_rows": null,
      "height": null,
      "justify_content": null,
      "justify_items": null,
      "left": null,
      "margin": null,
      "max_height": null,
      "max_width": null,
      "min_height": null,
      "min_width": null,
      "object_fit": null,
      "object_position": null,
      "order": null,
      "overflow": null,
      "overflow_x": null,
      "overflow_y": null,
      "padding": null,
      "right": null,
      "top": null,
      "visibility": null,
      "width": null
     }
    },
    "79439c6f17194090ab26ddfcc2e47250": {
     "model_module": "@jupyter-widgets/base",
     "model_module_version": "1.2.0",
     "model_name": "LayoutModel",
     "state": {
      "_model_module": "@jupyter-widgets/base",
      "_model_module_version": "1.2.0",
      "_model_name": "LayoutModel",
      "_view_count": null,
      "_view_module": "@jupyter-widgets/base",
      "_view_module_version": "1.2.0",
      "_view_name": "LayoutView",
      "align_content": null,
      "align_items": null,
      "align_self": null,
      "border": null,
      "bottom": null,
      "display": null,
      "flex": null,
      "flex_flow": null,
      "grid_area": null,
      "grid_auto_columns": null,
      "grid_auto_flow": null,
      "grid_auto_rows": null,
      "grid_column": null,
      "grid_gap": null,
      "grid_row": null,
      "grid_template_areas": null,
      "grid_template_columns": null,
      "grid_template_rows": null,
      "height": null,
      "justify_content": null,
      "justify_items": null,
      "left": null,
      "margin": null,
      "max_height": null,
      "max_width": null,
      "min_height": null,
      "min_width": null,
      "object_fit": null,
      "object_position": null,
      "order": null,
      "overflow": null,
      "overflow_x": null,
      "overflow_y": null,
      "padding": null,
      "right": null,
      "top": null,
      "visibility": null,
      "width": null
     }
    },
    "812d9ce7f6914c81ad81445e98640f02": {
     "model_module": "@jupyter-widgets/base",
     "model_module_version": "1.2.0",
     "model_name": "LayoutModel",
     "state": {
      "_model_module": "@jupyter-widgets/base",
      "_model_module_version": "1.2.0",
      "_model_name": "LayoutModel",
      "_view_count": null,
      "_view_module": "@jupyter-widgets/base",
      "_view_module_version": "1.2.0",
      "_view_name": "LayoutView",
      "align_content": null,
      "align_items": null,
      "align_self": null,
      "border": null,
      "bottom": null,
      "display": null,
      "flex": null,
      "flex_flow": null,
      "grid_area": null,
      "grid_auto_columns": null,
      "grid_auto_flow": null,
      "grid_auto_rows": null,
      "grid_column": null,
      "grid_gap": null,
      "grid_row": null,
      "grid_template_areas": null,
      "grid_template_columns": null,
      "grid_template_rows": null,
      "height": null,
      "justify_content": null,
      "justify_items": null,
      "left": null,
      "margin": null,
      "max_height": null,
      "max_width": null,
      "min_height": null,
      "min_width": null,
      "object_fit": null,
      "object_position": null,
      "order": null,
      "overflow": null,
      "overflow_x": null,
      "overflow_y": null,
      "padding": null,
      "right": null,
      "top": null,
      "visibility": null,
      "width": null
     }
    },
    "85ae441cbcf24ea3897cee20d5d55718": {
     "model_module": "@jupyter-widgets/base",
     "model_module_version": "1.2.0",
     "model_name": "LayoutModel",
     "state": {
      "_model_module": "@jupyter-widgets/base",
      "_model_module_version": "1.2.0",
      "_model_name": "LayoutModel",
      "_view_count": null,
      "_view_module": "@jupyter-widgets/base",
      "_view_module_version": "1.2.0",
      "_view_name": "LayoutView",
      "align_content": null,
      "align_items": null,
      "align_self": null,
      "border": null,
      "bottom": null,
      "display": null,
      "flex": null,
      "flex_flow": null,
      "grid_area": null,
      "grid_auto_columns": null,
      "grid_auto_flow": null,
      "grid_auto_rows": null,
      "grid_column": null,
      "grid_gap": null,
      "grid_row": null,
      "grid_template_areas": null,
      "grid_template_columns": null,
      "grid_template_rows": null,
      "height": null,
      "justify_content": null,
      "justify_items": null,
      "left": null,
      "margin": null,
      "max_height": null,
      "max_width": null,
      "min_height": null,
      "min_width": null,
      "object_fit": null,
      "object_position": null,
      "order": null,
      "overflow": null,
      "overflow_x": null,
      "overflow_y": null,
      "padding": null,
      "right": null,
      "top": null,
      "visibility": null,
      "width": null
     }
    },
    "86da3f60058444c0873986b8901835ec": {
     "model_module": "@jupyter-widgets/controls",
     "model_module_version": "1.5.0",
     "model_name": "HBoxModel",
     "state": {
      "_dom_classes": [],
      "_model_module": "@jupyter-widgets/controls",
      "_model_module_version": "1.5.0",
      "_model_name": "HBoxModel",
      "_view_count": null,
      "_view_module": "@jupyter-widgets/controls",
      "_view_module_version": "1.5.0",
      "_view_name": "HBoxView",
      "box_style": "",
      "children": [
       "IPY_MODEL_9762ea53b55549dab5a05e79cc143458",
       "IPY_MODEL_c3b12a1611c24d4dbcbbc0de8ea85241",
       "IPY_MODEL_8cd4253d9f1b491a961bbc3164de9116"
      ],
      "layout": "IPY_MODEL_73a562c98dd947f2b32dddd9abc49921"
     }
    },
    "8cd4253d9f1b491a961bbc3164de9116": {
     "model_module": "@jupyter-widgets/controls",
     "model_module_version": "1.5.0",
     "model_name": "HTMLModel",
     "state": {
      "_dom_classes": [],
      "_model_module": "@jupyter-widgets/controls",
      "_model_module_version": "1.5.0",
      "_model_name": "HTMLModel",
      "_view_count": null,
      "_view_module": "@jupyter-widgets/controls",
      "_view_module_version": "1.5.0",
      "_view_name": "HTMLView",
      "description": "",
      "description_tooltip": null,
      "layout": "IPY_MODEL_5b3c2bf5c2f94d808c8e770803c9fd1f",
      "placeholder": "​",
      "style": "IPY_MODEL_68d0dcdbc25140f0b7ca050bc1f3cdb0",
      "value": " 711M/711M [00:04&lt;00:00, 185MB/s]"
     }
    },
    "8ddaa35c21f04c68bd96bcc20aa3fc21": {
     "model_module": "@jupyter-widgets/base",
     "model_module_version": "1.2.0",
     "model_name": "LayoutModel",
     "state": {
      "_model_module": "@jupyter-widgets/base",
      "_model_module_version": "1.2.0",
      "_model_name": "LayoutModel",
      "_view_count": null,
      "_view_module": "@jupyter-widgets/base",
      "_view_module_version": "1.2.0",
      "_view_name": "LayoutView",
      "align_content": null,
      "align_items": null,
      "align_self": null,
      "border": null,
      "bottom": null,
      "display": null,
      "flex": null,
      "flex_flow": null,
      "grid_area": null,
      "grid_auto_columns": null,
      "grid_auto_flow": null,
      "grid_auto_rows": null,
      "grid_column": null,
      "grid_gap": null,
      "grid_row": null,
      "grid_template_areas": null,
      "grid_template_columns": null,
      "grid_template_rows": null,
      "height": null,
      "justify_content": null,
      "justify_items": null,
      "left": null,
      "margin": null,
      "max_height": null,
      "max_width": null,
      "min_height": null,
      "min_width": null,
      "object_fit": null,
      "object_position": null,
      "order": null,
      "overflow": null,
      "overflow_x": null,
      "overflow_y": null,
      "padding": null,
      "right": null,
      "top": null,
      "visibility": null,
      "width": null
     }
    },
    "8fe56f077849476a9475d6c13b082251": {
     "model_module": "@jupyter-widgets/base",
     "model_module_version": "1.2.0",
     "model_name": "LayoutModel",
     "state": {
      "_model_module": "@jupyter-widgets/base",
      "_model_module_version": "1.2.0",
      "_model_name": "LayoutModel",
      "_view_count": null,
      "_view_module": "@jupyter-widgets/base",
      "_view_module_version": "1.2.0",
      "_view_name": "LayoutView",
      "align_content": null,
      "align_items": null,
      "align_self": null,
      "border": null,
      "bottom": null,
      "display": null,
      "flex": null,
      "flex_flow": null,
      "grid_area": null,
      "grid_auto_columns": null,
      "grid_auto_flow": null,
      "grid_auto_rows": null,
      "grid_column": null,
      "grid_gap": null,
      "grid_row": null,
      "grid_template_areas": null,
      "grid_template_columns": null,
      "grid_template_rows": null,
      "height": null,
      "justify_content": null,
      "justify_items": null,
      "left": null,
      "margin": null,
      "max_height": null,
      "max_width": null,
      "min_height": null,
      "min_width": null,
      "object_fit": null,
      "object_position": null,
      "order": null,
      "overflow": null,
      "overflow_x": null,
      "overflow_y": null,
      "padding": null,
      "right": null,
      "top": null,
      "visibility": null,
      "width": null
     }
    },
    "907c21cf53f549d8968bbc50808765c9": {
     "model_module": "@jupyter-widgets/controls",
     "model_module_version": "1.5.0",
     "model_name": "ProgressStyleModel",
     "state": {
      "_model_module": "@jupyter-widgets/controls",
      "_model_module_version": "1.5.0",
      "_model_name": "ProgressStyleModel",
      "_view_count": null,
      "_view_module": "@jupyter-widgets/base",
      "_view_module_version": "1.2.0",
      "_view_name": "StyleView",
      "bar_color": null,
      "description_width": ""
     }
    },
    "957125ac32494564a64ad35705de117e": {
     "model_module": "@jupyter-widgets/controls",
     "model_module_version": "1.5.0",
     "model_name": "ProgressStyleModel",
     "state": {
      "_model_module": "@jupyter-widgets/controls",
      "_model_module_version": "1.5.0",
      "_model_name": "ProgressStyleModel",
      "_view_count": null,
      "_view_module": "@jupyter-widgets/base",
      "_view_module_version": "1.2.0",
      "_view_name": "StyleView",
      "bar_color": null,
      "description_width": ""
     }
    },
    "9762ea53b55549dab5a05e79cc143458": {
     "model_module": "@jupyter-widgets/controls",
     "model_module_version": "1.5.0",
     "model_name": "HTMLModel",
     "state": {
      "_dom_classes": [],
      "_model_module": "@jupyter-widgets/controls",
      "_model_module_version": "1.5.0",
      "_model_name": "HTMLModel",
      "_view_count": null,
      "_view_module": "@jupyter-widgets/controls",
      "_view_module_version": "1.5.0",
      "_view_name": "HTMLView",
      "description": "",
      "description_tooltip": null,
      "layout": "IPY_MODEL_a1fe7e1bd2cb46ac88f4d4f30676b679",
      "placeholder": "​",
      "style": "IPY_MODEL_c3e5a0355ede4bffb7053bc292f02e8b",
      "value": "pytorch_model.bin: 100%"
     }
    },
    "98b98cd22c1a4195a679228c7ca39608": {
     "model_module": "@jupyter-widgets/controls",
     "model_module_version": "1.5.0",
     "model_name": "HTMLModel",
     "state": {
      "_dom_classes": [],
      "_model_module": "@jupyter-widgets/controls",
      "_model_module_version": "1.5.0",
      "_model_name": "HTMLModel",
      "_view_count": null,
      "_view_module": "@jupyter-widgets/controls",
      "_view_module_version": "1.5.0",
      "_view_name": "HTMLView",
      "description": "",
      "description_tooltip": null,
      "layout": "IPY_MODEL_79439c6f17194090ab26ddfcc2e47250",
      "placeholder": "​",
      "style": "IPY_MODEL_c83769d10d1b428a8f1bf47f2b6b99c4",
      "value": "vocab.txt: 100%"
     }
    },
    "9ca3080a5ce046369d0bc4244cbe4930": {
     "model_module": "@jupyter-widgets/controls",
     "model_module_version": "1.5.0",
     "model_name": "FloatProgressModel",
     "state": {
      "_dom_classes": [],
      "_model_module": "@jupyter-widgets/controls",
      "_model_module_version": "1.5.0",
      "_model_name": "FloatProgressModel",
      "_view_count": null,
      "_view_module": "@jupyter-widgets/controls",
      "_view_module_version": "1.5.0",
      "_view_name": "ProgressView",
      "bar_style": "success",
      "description": "",
      "description_tooltip": null,
      "layout": "IPY_MODEL_8ddaa35c21f04c68bd96bcc20aa3fc21",
      "max": 112,
      "min": 0,
      "orientation": "horizontal",
      "style": "IPY_MODEL_957125ac32494564a64ad35705de117e",
      "value": 112
     }
    },
    "a126800fd6724ca88a4e25c49a9f94a0": {
     "model_module": "@jupyter-widgets/controls",
     "model_module_version": "1.5.0",
     "model_name": "HBoxModel",
     "state": {
      "_dom_classes": [],
      "_model_module": "@jupyter-widgets/controls",
      "_model_module_version": "1.5.0",
      "_model_name": "HBoxModel",
      "_view_count": null,
      "_view_module": "@jupyter-widgets/controls",
      "_view_module_version": "1.5.0",
      "_view_name": "HBoxView",
      "box_style": "",
      "children": [
       "IPY_MODEL_4299e1237eed4c688fb6e9a0cf0ebe73",
       "IPY_MODEL_d1ac09facdf64b38a1a2d0cafcba3bd4",
       "IPY_MODEL_cada2780327d48e7b5666990099651f8"
      ],
      "layout": "IPY_MODEL_34185fbed9e2435380b0580e1697d1aa"
     }
    },
    "a1ef46a243cc4cc4b0ad6e4a6c1af761": {
     "model_module": "@jupyter-widgets/base",
     "model_module_version": "1.2.0",
     "model_name": "LayoutModel",
     "state": {
      "_model_module": "@jupyter-widgets/base",
      "_model_module_version": "1.2.0",
      "_model_name": "LayoutModel",
      "_view_count": null,
      "_view_module": "@jupyter-widgets/base",
      "_view_module_version": "1.2.0",
      "_view_name": "LayoutView",
      "align_content": null,
      "align_items": null,
      "align_self": null,
      "border": null,
      "bottom": null,
      "display": null,
      "flex": null,
      "flex_flow": null,
      "grid_area": null,
      "grid_auto_columns": null,
      "grid_auto_flow": null,
      "grid_auto_rows": null,
      "grid_column": null,
      "grid_gap": null,
      "grid_row": null,
      "grid_template_areas": null,
      "grid_template_columns": null,
      "grid_template_rows": null,
      "height": null,
      "justify_content": null,
      "justify_items": null,
      "left": null,
      "margin": null,
      "max_height": null,
      "max_width": null,
      "min_height": null,
      "min_width": null,
      "object_fit": null,
      "object_position": null,
      "order": null,
      "overflow": null,
      "overflow_x": null,
      "overflow_y": null,
      "padding": null,
      "right": null,
      "top": null,
      "visibility": null,
      "width": null
     }
    },
    "a1fe7e1bd2cb46ac88f4d4f30676b679": {
     "model_module": "@jupyter-widgets/base",
     "model_module_version": "1.2.0",
     "model_name": "LayoutModel",
     "state": {
      "_model_module": "@jupyter-widgets/base",
      "_model_module_version": "1.2.0",
      "_model_name": "LayoutModel",
      "_view_count": null,
      "_view_module": "@jupyter-widgets/base",
      "_view_module_version": "1.2.0",
      "_view_name": "LayoutView",
      "align_content": null,
      "align_items": null,
      "align_self": null,
      "border": null,
      "bottom": null,
      "display": null,
      "flex": null,
      "flex_flow": null,
      "grid_area": null,
      "grid_auto_columns": null,
      "grid_auto_flow": null,
      "grid_auto_rows": null,
      "grid_column": null,
      "grid_gap": null,
      "grid_row": null,
      "grid_template_areas": null,
      "grid_template_columns": null,
      "grid_template_rows": null,
      "height": null,
      "justify_content": null,
      "justify_items": null,
      "left": null,
      "margin": null,
      "max_height": null,
      "max_width": null,
      "min_height": null,
      "min_width": null,
      "object_fit": null,
      "object_position": null,
      "order": null,
      "overflow": null,
      "overflow_x": null,
      "overflow_y": null,
      "padding": null,
      "right": null,
      "top": null,
      "visibility": null,
      "width": null
     }
    },
    "ab24572583364db5adb602cac8159ee4": {
     "model_module": "@jupyter-widgets/controls",
     "model_module_version": "1.5.0",
     "model_name": "DescriptionStyleModel",
     "state": {
      "_model_module": "@jupyter-widgets/controls",
      "_model_module_version": "1.5.0",
      "_model_name": "DescriptionStyleModel",
      "_view_count": null,
      "_view_module": "@jupyter-widgets/base",
      "_view_module_version": "1.2.0",
      "_view_name": "StyleView",
      "description_width": ""
     }
    },
    "b30feb517fd84039988625ed551e929a": {
     "model_module": "@jupyter-widgets/controls",
     "model_module_version": "1.5.0",
     "model_name": "DescriptionStyleModel",
     "state": {
      "_model_module": "@jupyter-widgets/controls",
      "_model_module_version": "1.5.0",
      "_model_name": "DescriptionStyleModel",
      "_view_count": null,
      "_view_module": "@jupyter-widgets/base",
      "_view_module_version": "1.2.0",
      "_view_name": "StyleView",
      "description_width": ""
     }
    },
    "b4fb3cf72aca417fa14e4ef4dcc0e21e": {
     "model_module": "@jupyter-widgets/controls",
     "model_module_version": "1.5.0",
     "model_name": "HTMLModel",
     "state": {
      "_dom_classes": [],
      "_model_module": "@jupyter-widgets/controls",
      "_model_module_version": "1.5.0",
      "_model_name": "HTMLModel",
      "_view_count": null,
      "_view_module": "@jupyter-widgets/controls",
      "_view_module_version": "1.5.0",
      "_view_name": "HTMLView",
      "description": "",
      "description_tooltip": null,
      "layout": "IPY_MODEL_1383b1d1b0cc4edf8fb4730d7acd6895",
      "placeholder": "​",
      "style": "IPY_MODEL_b30feb517fd84039988625ed551e929a",
      "value": "config.json: 100%"
     }
    },
    "c37867a301b74db09175d090ff374405": {
     "model_module": "@jupyter-widgets/controls",
     "model_module_version": "1.5.0",
     "model_name": "FloatProgressModel",
     "state": {
      "_dom_classes": [],
      "_model_module": "@jupyter-widgets/controls",
      "_model_module_version": "1.5.0",
      "_model_name": "FloatProgressModel",
      "_view_count": null,
      "_view_module": "@jupyter-widgets/controls",
      "_view_module_version": "1.5.0",
      "_view_name": "ProgressView",
      "bar_style": "success",
      "description": "",
      "description_tooltip": null,
      "layout": "IPY_MODEL_812d9ce7f6914c81ad81445e98640f02",
      "max": 1649718,
      "min": 0,
      "orientation": "horizontal",
      "style": "IPY_MODEL_22f5c3326b714de4820776b991e76891",
      "value": 1649718
     }
    },
    "c3b12a1611c24d4dbcbbc0de8ea85241": {
     "model_module": "@jupyter-widgets/controls",
     "model_module_version": "1.5.0",
     "model_name": "FloatProgressModel",
     "state": {
      "_dom_classes": [],
      "_model_module": "@jupyter-widgets/controls",
      "_model_module_version": "1.5.0",
      "_model_name": "FloatProgressModel",
      "_view_count": null,
      "_view_module": "@jupyter-widgets/controls",
      "_view_module_version": "1.5.0",
      "_view_name": "ProgressView",
      "bar_style": "success",
      "description": "",
      "description_tooltip": null,
      "layout": "IPY_MODEL_8fe56f077849476a9475d6c13b082251",
      "max": 711456784,
      "min": 0,
      "orientation": "horizontal",
      "style": "IPY_MODEL_2a3ab44d58524823a074a243de74f6a8",
      "value": 711456784
     }
    },
    "c3e5a0355ede4bffb7053bc292f02e8b": {
     "model_module": "@jupyter-widgets/controls",
     "model_module_version": "1.5.0",
     "model_name": "DescriptionStyleModel",
     "state": {
      "_model_module": "@jupyter-widgets/controls",
      "_model_module_version": "1.5.0",
      "_model_name": "DescriptionStyleModel",
      "_view_count": null,
      "_view_module": "@jupyter-widgets/base",
      "_view_module_version": "1.2.0",
      "_view_name": "StyleView",
      "description_width": ""
     }
    },
    "c83769d10d1b428a8f1bf47f2b6b99c4": {
     "model_module": "@jupyter-widgets/controls",
     "model_module_version": "1.5.0",
     "model_name": "DescriptionStyleModel",
     "state": {
      "_model_module": "@jupyter-widgets/controls",
      "_model_module_version": "1.5.0",
      "_model_name": "DescriptionStyleModel",
      "_view_count": null,
      "_view_module": "@jupyter-widgets/base",
      "_view_module_version": "1.2.0",
      "_view_name": "StyleView",
      "description_width": ""
     }
    },
    "cada2780327d48e7b5666990099651f8": {
     "model_module": "@jupyter-widgets/controls",
     "model_module_version": "1.5.0",
     "model_name": "HTMLModel",
     "state": {
      "_dom_classes": [],
      "_model_module": "@jupyter-widgets/controls",
      "_model_module_version": "1.5.0",
      "_model_name": "HTMLModel",
      "_view_count": null,
      "_view_module": "@jupyter-widgets/controls",
      "_view_module_version": "1.5.0",
      "_view_name": "HTMLView",
      "description": "",
      "description_tooltip": null,
      "layout": "IPY_MODEL_5f7ee828bc374596afa5107d8c8dbd06",
      "placeholder": "​",
      "style": "IPY_MODEL_ab24572583364db5adb602cac8159ee4",
      "value": " 24.0/24.0 [00:00&lt;00:00, 758B/s]"
     }
    },
    "d1ac09facdf64b38a1a2d0cafcba3bd4": {
     "model_module": "@jupyter-widgets/controls",
     "model_module_version": "1.5.0",
     "model_name": "FloatProgressModel",
     "state": {
      "_dom_classes": [],
      "_model_module": "@jupyter-widgets/controls",
      "_model_module_version": "1.5.0",
      "_model_name": "FloatProgressModel",
      "_view_count": null,
      "_view_module": "@jupyter-widgets/controls",
      "_view_module_version": "1.5.0",
      "_view_name": "ProgressView",
      "bar_style": "success",
      "description": "",
      "description_tooltip": null,
      "layout": "IPY_MODEL_3a3d979bd9284a80823605b76655fc83",
      "max": 24,
      "min": 0,
      "orientation": "horizontal",
      "style": "IPY_MODEL_ef03380dcca84c28b606e0eed29780cc",
      "value": 24
     }
    },
    "dbf286da5fbb420caf0cdfd6059a1c2d": {
     "model_module": "@jupyter-widgets/base",
     "model_module_version": "1.2.0",
     "model_name": "LayoutModel",
     "state": {
      "_model_module": "@jupyter-widgets/base",
      "_model_module_version": "1.2.0",
      "_model_name": "LayoutModel",
      "_view_count": null,
      "_view_module": "@jupyter-widgets/base",
      "_view_module_version": "1.2.0",
      "_view_name": "LayoutView",
      "align_content": null,
      "align_items": null,
      "align_self": null,
      "border": null,
      "bottom": null,
      "display": null,
      "flex": null,
      "flex_flow": null,
      "grid_area": null,
      "grid_auto_columns": null,
      "grid_auto_flow": null,
      "grid_auto_rows": null,
      "grid_column": null,
      "grid_gap": null,
      "grid_row": null,
      "grid_template_areas": null,
      "grid_template_columns": null,
      "grid_template_rows": null,
      "height": null,
      "justify_content": null,
      "justify_items": null,
      "left": null,
      "margin": null,
      "max_height": null,
      "max_width": null,
      "min_height": null,
      "min_width": null,
      "object_fit": null,
      "object_position": null,
      "order": null,
      "overflow": null,
      "overflow_x": null,
      "overflow_y": null,
      "padding": null,
      "right": null,
      "top": null,
      "visibility": null,
      "width": null
     }
    },
    "e457fd3e2c62456fb02ba1162867a1ca": {
     "model_module": "@jupyter-widgets/controls",
     "model_module_version": "1.5.0",
     "model_name": "DescriptionStyleModel",
     "state": {
      "_model_module": "@jupyter-widgets/controls",
      "_model_module_version": "1.5.0",
      "_model_name": "DescriptionStyleModel",
      "_view_count": null,
      "_view_module": "@jupyter-widgets/base",
      "_view_module_version": "1.2.0",
      "_view_name": "StyleView",
      "description_width": ""
     }
    },
    "e90fb6c87ef84cc6a71f3590a54d559a": {
     "model_module": "@jupyter-widgets/controls",
     "model_module_version": "1.5.0",
     "model_name": "DescriptionStyleModel",
     "state": {
      "_model_module": "@jupyter-widgets/controls",
      "_model_module_version": "1.5.0",
      "_model_name": "DescriptionStyleModel",
      "_view_count": null,
      "_view_module": "@jupyter-widgets/base",
      "_view_module_version": "1.2.0",
      "_view_name": "StyleView",
      "description_width": ""
     }
    },
    "ef03380dcca84c28b606e0eed29780cc": {
     "model_module": "@jupyter-widgets/controls",
     "model_module_version": "1.5.0",
     "model_name": "ProgressStyleModel",
     "state": {
      "_model_module": "@jupyter-widgets/controls",
      "_model_module_version": "1.5.0",
      "_model_name": "ProgressStyleModel",
      "_view_count": null,
      "_view_module": "@jupyter-widgets/base",
      "_view_module_version": "1.2.0",
      "_view_name": "StyleView",
      "bar_color": null,
      "description_width": ""
     }
    },
    "f2db12f32919480c8726b7622ea83bfd": {
     "model_module": "@jupyter-widgets/controls",
     "model_module_version": "1.5.0",
     "model_name": "FloatProgressModel",
     "state": {
      "_dom_classes": [],
      "_model_module": "@jupyter-widgets/controls",
      "_model_module_version": "1.5.0",
      "_model_name": "FloatProgressModel",
      "_view_count": null,
      "_view_module": "@jupyter-widgets/controls",
      "_view_module_version": "1.5.0",
      "_view_name": "ProgressView",
      "bar_style": "success",
      "description": "",
      "description_tooltip": null,
      "layout": "IPY_MODEL_1640b41100af4542a2cb009e4b03c1fd",
      "max": 1,
      "min": 0,
      "orientation": "horizontal",
      "style": "IPY_MODEL_06effad6600440abb16aced46ec9b2cf",
      "value": 1
     }
    },
    "f6873b32a71f45c7b2d448b53db0731b": {
     "model_module": "@jupyter-widgets/base",
     "model_module_version": "1.2.0",
     "model_name": "LayoutModel",
     "state": {
      "_model_module": "@jupyter-widgets/base",
      "_model_module_version": "1.2.0",
      "_model_name": "LayoutModel",
      "_view_count": null,
      "_view_module": "@jupyter-widgets/base",
      "_view_module_version": "1.2.0",
      "_view_name": "LayoutView",
      "align_content": null,
      "align_items": null,
      "align_self": null,
      "border": null,
      "bottom": null,
      "display": null,
      "flex": null,
      "flex_flow": null,
      "grid_area": null,
      "grid_auto_columns": null,
      "grid_auto_flow": null,
      "grid_auto_rows": null,
      "grid_column": null,
      "grid_gap": null,
      "grid_row": null,
      "grid_template_areas": null,
      "grid_template_columns": null,
      "grid_template_rows": null,
      "height": null,
      "justify_content": null,
      "justify_items": null,
      "left": null,
      "margin": null,
      "max_height": null,
      "max_width": null,
      "min_height": null,
      "min_width": null,
      "object_fit": null,
      "object_position": null,
      "order": null,
      "overflow": null,
      "overflow_x": null,
      "overflow_y": null,
      "padding": null,
      "right": null,
      "top": null,
      "visibility": null,
      "width": null
     }
    },
    "f70f225aac4a44e3a2bb5c650a14b928": {
     "model_module": "@jupyter-widgets/controls",
     "model_module_version": "1.5.0",
     "model_name": "HTMLModel",
     "state": {
      "_dom_classes": [],
      "_model_module": "@jupyter-widgets/controls",
      "_model_module_version": "1.5.0",
      "_model_name": "HTMLModel",
      "_view_count": null,
      "_view_module": "@jupyter-widgets/controls",
      "_view_module_version": "1.5.0",
      "_view_name": "HTMLView",
      "description": "",
      "description_tooltip": null,
      "layout": "IPY_MODEL_632b0b3267ad420392f5123606c94837",
      "placeholder": "​",
      "style": "IPY_MODEL_fd9526cfd404463db782196ad0070dc5",
      "value": ""
     }
    },
    "f8364722922e40b1b02a6716b916e36a": {
     "model_module": "@jupyter-widgets/controls",
     "model_module_version": "1.5.0",
     "model_name": "HTMLModel",
     "state": {
      "_dom_classes": [],
      "_model_module": "@jupyter-widgets/controls",
      "_model_module_version": "1.5.0",
      "_model_name": "HTMLModel",
      "_view_count": null,
      "_view_module": "@jupyter-widgets/controls",
      "_view_module_version": "1.5.0",
      "_view_name": "HTMLView",
      "description": "",
      "description_tooltip": null,
      "layout": "IPY_MODEL_dbf286da5fbb420caf0cdfd6059a1c2d",
      "placeholder": "​",
      "style": "IPY_MODEL_64c6c12bf12f415a9384bd2f4b8b1526",
      "value": " 642/642 [00:00&lt;00:00, 13.0kB/s]"
     }
    },
    "fd9526cfd404463db782196ad0070dc5": {
     "model_module": "@jupyter-widgets/controls",
     "model_module_version": "1.5.0",
     "model_name": "DescriptionStyleModel",
     "state": {
      "_model_module": "@jupyter-widgets/controls",
      "_model_module_version": "1.5.0",
      "_model_name": "DescriptionStyleModel",
      "_view_count": null,
      "_view_module": "@jupyter-widgets/base",
      "_view_module_version": "1.2.0",
      "_view_name": "StyleView",
      "description_width": ""
     }
    },
    "fea3caf8212142e48079e51e37bb7421": {
     "model_module": "@jupyter-widgets/controls",
     "model_module_version": "1.5.0",
     "model_name": "HTMLModel",
     "state": {
      "_dom_classes": [],
      "_model_module": "@jupyter-widgets/controls",
      "_model_module_version": "1.5.0",
      "_model_name": "HTMLModel",
      "_view_count": null,
      "_view_module": "@jupyter-widgets/controls",
      "_view_module_version": "1.5.0",
      "_view_name": "HTMLView",
      "description": "",
      "description_tooltip": null,
      "layout": "IPY_MODEL_0e11c2303b1149cd942e1fb4470f9939",
      "placeholder": "​",
      "style": "IPY_MODEL_e457fd3e2c62456fb02ba1162867a1ca",
      "value": " 112/112 [00:00&lt;00:00, 2.14kB/s]"
     }
    }
   }
  }
 },
 "nbformat": 4,
 "nbformat_minor": 4
}
